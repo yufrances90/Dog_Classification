{
 "cells": [
  {
   "cell_type": "markdown",
   "metadata": {
    "colab_type": "text",
    "id": "jJkNT_fTCAR1"
   },
   "source": [
    "# Convolutional Neural Networks\n",
    "\n",
    "## Project: Write an Algorithm for a Dog Identification App "
   ]
  },
  {
   "cell_type": "markdown",
   "metadata": {
    "colab_type": "text",
    "id": "kExjuEUlCAR7"
   },
   "source": [
    "---\n",
    "\n",
    "* [Step 0](#step0): Import Modules\n",
    "* [Step 1](#step1): Import & Load Datasets\n",
    "* [Step 2](#step2): Detect Humans\n",
    "* [Step 3](#step3): Detect Dogs\n",
    "* [Step 4](#step4): Create a CNN to Classify Dog Breeds (from Scratch)\n",
    "* [Step 5](#step5): Create a CNN to Classify Dog Breeds (using Transfer Learning)\n",
    "* [Step 6](#step6): Write your Algorithm\n",
    "* [Step 7](#step7): Test Your Algorithm"
   ]
  },
  {
   "cell_type": "markdown",
   "metadata": {
    "colab_type": "text",
    "id": "hnPdwum2CASA"
   },
   "source": [
    "---\n",
    "<a id='step0'></a>\n",
    "## Step 0: Import Modules"
   ]
  },
  {
   "cell_type": "code",
   "execution_count": 2,
   "metadata": {
    "colab": {},
    "colab_type": "code",
    "id": "E9aZfxP_CASC"
   },
   "outputs": [],
   "source": [
    "import numpy as np\n",
    "import cv2                \n",
    "import matplotlib.pyplot as plt\n",
    "import torch\n",
    "import torchvision.models as models\n",
    "import torchvision.transforms as transforms\n",
    "import os\n",
    "import torch.nn as nn\n",
    "import torch.nn.functional as F\n",
    "import json\n",
    "import torch.optim as optim\n",
    "\n",
    "from glob import glob\n",
    "from tqdm import tqdm\n",
    "from PIL import Image, ImageFile \n",
    "from torchvision import datasets\n",
    "                      \n",
    "%matplotlib inline  \n",
    "\n",
    "# Set PIL to be tolerant of image files that are truncated.\n",
    "ImageFile.LOAD_TRUNCATED_IMAGES = True"
   ]
  },
  {
   "cell_type": "code",
   "execution_count": 0,
   "metadata": {
    "colab": {},
    "colab_type": "code",
    "id": "vgGGOqg8CAST"
   },
   "outputs": [],
   "source": [
    "# check if CUDA is available\n",
    "use_cuda = torch.cuda.is_available()"
   ]
  },
  {
   "cell_type": "markdown",
   "metadata": {
    "colab_type": "text",
    "id": "0-OAB0ZBCASp"
   },
   "source": [
    "---\n",
    "<a id='step1'></a>\n",
    "## Step 1: Import & Load Datasets\n",
    "\n",
    "Make sure that you've downloaded the required human and dog datasets:\n",
    "* Download the [dog dataset](https://s3-us-west-1.amazonaws.com/udacity-aind/dog-project/dogImages.zip).  Unzip the folder and place it in this project's home directory, at the location `/dogImages`. \n",
    "\n",
    "* Download the [human dataset](https://s3-us-west-1.amazonaws.com/udacity-aind/dog-project/lfw.zip).  Unzip the folder and place it in the home directory, at location `/lfw`.  \n",
    "\n",
    "*Note: If you are using a Windows machine, you are encouraged to use [7zip](http://www.7-zip.org/) to extract the folder.*\n",
    "\n",
    "In the code cell below, we save the file paths for both the human (LFW) dataset and dog dataset in the numpy arrays `human_files` and `dog_files`."
   ]
  },
  {
   "cell_type": "code",
   "execution_count": 4,
   "metadata": {
    "colab": {
     "base_uri": "https://localhost:8080/",
     "height": 51
    },
    "colab_type": "code",
    "id": "IgJFTMX4CASq",
    "outputId": "eb37f55e-a20e-4ab2-dd00-7b1b2b54455d"
   },
   "outputs": [
    {
     "name": "stdout",
     "output_type": "stream",
     "text": [
      "There are 13233 total human images.\n",
      "There are 8351 total dog images.\n"
     ]
    }
   ],
   "source": [
    "# load filenames for human and dog images\n",
    "human_files = np.array(glob(\"../lfw/*/*\"))\n",
    "dog_files = np.array(glob(\"../dogImages/*/*/*\"))\n",
    "\n",
    "# print number of images in each dataset\n",
    "print('There are %d total human images.' % len(human_files))\n",
    "print('There are %d total dog images.' % len(dog_files))"
   ]
  },
  {
   "cell_type": "code",
   "execution_count": 0,
   "metadata": {
    "colab": {},
    "colab_type": "code",
    "id": "3U_Ky5xqCAS7"
   },
   "outputs": [],
   "source": [
    "dog_data_dir = '../dogImages'\n",
    "human_data_dir = '../lfw'\n",
    "\n",
    "def get_data_dir(is_dog):\n",
    "    \n",
    "    data_dir = dog_data_dir if is_dog else human_data_dir\n",
    "    \n",
    "    if not is_dog:\n",
    "        return {\n",
    "        'train_dir': data_dir,\n",
    "        'valid_dir': data_dir,\n",
    "        'test_dir': data_dir\n",
    "    }\n",
    "    \n",
    "    train_dir = data_dir + '/train'\n",
    "    valid_dir = data_dir + '/valid'\n",
    "    test_dir = data_dir + '/test'\n",
    "    \n",
    "    return {\n",
    "        'train_dir': train_dir,\n",
    "        'valid_dir': valid_dir,\n",
    "        'test_dir': test_dir\n",
    "    }\n",
    "\n",
    "normalize = transforms.Normalize(mean=[0.485, 0.456, 0.406],\n",
    "                                 std=[0.229, 0.224, 0.225])\n",
    "\n",
    "train_transforms = transforms.Compose([transforms.ColorJitter(),\n",
    "                                       transforms.RandomHorizontalFlip(),\n",
    "                                       transforms.RandomPerspective(),\n",
    "                                       transforms.RandomVerticalFlip(),\n",
    "                                       transforms.RandomRotation((-90, 90)),\n",
    "                                       transforms.RandomResizedCrop(224),              \n",
    "                                       transforms.ToTensor(),  \n",
    "                                       normalize])\n",
    "\n",
    "valid_transforms = transforms.Compose([transforms.Resize(256), \n",
    "                                       transforms.CenterCrop(224),              \n",
    "                                       transforms.ToTensor(), \n",
    "                                       normalize])\n",
    "\n",
    "test_transforms = transforms.Compose([transforms.Resize(256), \n",
    "                                       transforms.CenterCrop(224),              \n",
    "                                       transforms.ToTensor(), \n",
    "                                       normalize])\n",
    "\n",
    "def get_data_loaders(is_dog, batch_sizes=[32, 32, 32]):\n",
    "    \n",
    "    data_dir_dict = get_data_dir(is_dog)\n",
    "    \n",
    "    train_dir = data_dir_dict['train_dir']\n",
    "    valid_dir = data_dir_dict['valid_dir']\n",
    "    test_dir = data_dir_dict['test_dir']\n",
    "    \n",
    "    train_data = datasets.ImageFolder(train_dir, transform=train_transforms)\n",
    "    valid_data = datasets.ImageFolder(valid_dir, transform=valid_transforms)\n",
    "    test_data = datasets.ImageFolder(test_dir, transform=test_transforms)\n",
    "\n",
    "    train_loader = torch.utils.data.DataLoader(train_data, batch_size=batch_sizes[0], shuffle=True)\n",
    "    valid_loader = torch.utils.data.DataLoader(valid_data, batch_size=batch_sizes[1], shuffle=True)\n",
    "    test_loader = torch.utils.data.DataLoader(test_data, batch_size=batch_sizes[2], shuffle=True)\n",
    "    \n",
    "    return {\n",
    "        'train': train_loader,\n",
    "        'valid': valid_loader,\n",
    "        'test': test_loader\n",
    "    }\n",
    "\n",
    "\n",
    "dog_data_loaders = get_data_loaders(is_dog=True)\n",
    "# ppl_data_loaders = get_data_loaders(is_dog=False)"
   ]
  },
  {
   "cell_type": "markdown",
   "metadata": {
    "colab_type": "text",
    "id": "HU55XhZfCATG"
   },
   "source": [
    "<a id='step2'></a>\n",
    "## Step 2: Detect Humans\n",
    "\n",
    "In this section, we use OpenCV's implementation of [Haar feature-based cascade classifiers](http://docs.opencv.org/trunk/d7/d8b/tutorial_py_face_detection.html) to detect human faces in images.  \n",
    "\n",
    "OpenCV provides many pre-trained face detectors, stored as XML files on [github](https://github.com/opencv/opencv/tree/master/data/haarcascades).  We have downloaded one of these detectors and stored it in the `haarcascades` directory.  In the next code cell, we demonstrate how to use this detector to find human faces in a sample image."
   ]
  },
  {
   "cell_type": "code",
   "execution_count": 0,
   "metadata": {
    "colab": {
     "base_uri": "https://localhost:8080/",
     "height": 232
    },
    "colab_type": "code",
    "id": "FZvUi6TfCATH",
    "outputId": "3432c1ec-a9ee-4b1c-d61c-cdd9fc8c3fda"
   },
   "outputs": [
    {
     "name": "stdout",
     "output_type": "stream",
     "text": [
      "Number of faces detected: 1\n"
     ]
    },
    {
     "data": {
      "image/png": "[encoded data removed]",
      "text/plain": [
       "<Figure size 432x288 with 1 Axes>"
      ]
     },
     "metadata": {
      "needs_background": "light",
      "tags": []
     },
     "output_type": "display_data"
    }
   ],
   "source": [
    "# extract pre-trained face detector\n",
    "face_cascade = cv2.CascadeClassifier('./haarcascades/haarcascade_frontalface_alt.xml')\n",
    "\n",
    "# load color (BGR) image\n",
    "img = cv2.imread(human_files[0])\n",
    "# convert BGR image to grayscale\n",
    "gray = cv2.cvtColor(img, cv2.COLOR_BGR2GRAY)\n",
    "\n",
    "# find faces in image\n",
    "faces = face_cascade.detectMultiScale(gray)\n",
    "\n",
    "# print number of faces detected in the image\n",
    "print('Number of faces detected:', len(faces))\n",
    "\n",
    "# get bounding box for each detected face\n",
    "for (x,y,w,h) in faces:\n",
    "    # add bounding box to color image\n",
    "    cv2.rectangle(img,(x,y),(x+w,y+h),(255,0,0),2)\n",
    "    \n",
    "# convert BGR image to RGB for plotting\n",
    "cv_rgb = cv2.cvtColor(img, cv2.COLOR_BGR2RGB)\n",
    "\n",
    "# display the image, along with bounding box\n",
    "plt.imshow(cv_rgb)\n",
    "plt.show()"
   ]
  },
  {
   "cell_type": "markdown",
   "metadata": {
    "colab_type": "text",
    "id": "zCsQoZiaCATU"
   },
   "source": [
    "Before using any of the face detectors, it is standard procedure to convert the images to grayscale.  The `detectMultiScale` function executes the classifier stored in `face_cascade` and takes the grayscale image as a parameter.  \n",
    "\n",
    "In the above code, `faces` is a numpy array of detected faces, where each row corresponds to a detected face.  Each detected face is a 1D array with four entries that specifies the bounding box of the detected face.  The first two entries in the array (extracted in the above code as `x` and `y`) specify the horizontal and vertical positions of the top left corner of the bounding box.  The last two entries in the array (extracted here as `w` and `h`) specify the width and height of the box.\n",
    "\n",
    "### Write a Human Face Detector\n",
    "\n",
    "We can use this procedure to write a function that returns `True` if a human face is detected in an image and `False` otherwise.  This function, aptly named `face_detector`, takes a string-valued file path to an image as input and appears in the code block below."
   ]
  },
  {
   "cell_type": "code",
   "execution_count": 0,
   "metadata": {
    "colab": {},
    "colab_type": "code",
    "id": "x58fVJs3CATW"
   },
   "outputs": [],
   "source": [
    "# returns \"True\" if face is detected in image stored at img_path\n",
    "def face_detector(img_path):\n",
    "    img = cv2.imread(img_path)\n",
    "    gray = cv2.cvtColor(img, cv2.COLOR_BGR2GRAY)\n",
    "    faces = face_cascade.detectMultiScale(gray)\n",
    "    return len(faces) > 0"
   ]
  },
  {
   "cell_type": "markdown",
   "metadata": {
    "colab_type": "text",
    "id": "37Mlu7XdCATk"
   },
   "source": [
    "### (IMPLEMENTATION) Assess the Human Face Detector\n",
    "\n",
    "__Question 1:__ Use the code cell below to test the performance of the `face_detector` function.  \n",
    "- What percentage of the first 100 images in `human_files` have a detected human face?  \n",
    "- What percentage of the first 100 images in `dog_files` have a detected human face? \n",
    "\n",
    "Ideally, we would like 100% of human images with a detected face and 0% of dog images with a detected face.  You will see that our algorithm falls short of this goal, but still gives acceptable performance.  We extract the file paths for the first 100 images from each of the datasets and store them in the numpy arrays `human_files_short` and `dog_files_short`."
   ]
  },
  {
   "cell_type": "markdown",
   "metadata": {
    "colab_type": "text",
    "id": "J-xBqR7xCATn"
   },
   "source": [
    "__Answer:__ \n",
    "(You can print out your results and/or write your percentages in this cell)"
   ]
  },
  {
   "cell_type": "code",
   "execution_count": 0,
   "metadata": {
    "colab": {},
    "colab_type": "code",
    "id": "xbK_a1U0CATo",
    "outputId": "ec2ac793-4ae2-4df7-bcb7-652916191083"
   },
   "outputs": [
    {
     "name": "stderr",
     "output_type": "stream",
     "text": [
      "100%|██████████| 100/100 [00:03<00:00, 25.46it/s]\n",
      "100%|██████████| 100/100 [00:17<00:00,  5.70it/s]"
     ]
    },
    {
     "name": "stdout",
     "output_type": "stream",
     "text": [
      "Face dectection in first 100 images in human_files : 99.0%\n",
      "Face dectection in first 100 images in dog_files : 18.0%\n"
     ]
    },
    {
     "name": "stderr",
     "output_type": "stream",
     "text": [
      "\n"
     ]
    }
   ],
   "source": [
    "human_files_short = human_files[:100]\n",
    "dog_files_short = dog_files[:100]\n",
    "\n",
    "#-#-# Do NOT modify the code above this line. #-#-#\n",
    "\n",
    "files_size = 100\n",
    "\n",
    "human_correct_face_count = 0\n",
    "dog_correct_face_count = 0\n",
    "\n",
    "for i in tqdm(range(files_size)):\n",
    "    if face_detector(human_files_short[i]):\n",
    "        human_correct_face_count += 1\n",
    "        \n",
    "for i in tqdm(range(files_size)):\n",
    "    if face_detector(dog_files_short[i]):\n",
    "        dog_correct_face_count += 1\n",
    "        \n",
    "print(\"Face dectection in first 100 images in human_files : {}%\".format(\n",
    "    (human_correct_face_count / files_size) * 100))\n",
    "print(\"Face dectection in first 100 images in dog_files : {}%\".format(\n",
    "    (dog_correct_face_count / files_size) * 100))\n"
   ]
  },
  {
   "cell_type": "markdown",
   "metadata": {
    "colab_type": "text",
    "id": "u0G3jjoMCATt"
   },
   "source": [
    "We suggest the face detector from OpenCV as a potential way to detect human images in your algorithm, but you are free to explore other approaches, especially approaches that make use of deep learning :).  Please use the code cell below to design and test your own face detection algorithm.  If you decide to pursue this _optional_ task, report performance on `human_files_short` and `dog_files_short`."
   ]
  },
  {
   "cell_type": "code",
   "execution_count": 0,
   "metadata": {
    "colab": {},
    "colab_type": "code",
    "id": "3k15lFS1CATu"
   },
   "outputs": [],
   "source": [
    "### (Optional) \n",
    "### TODO: Test performance of another face detection algorithm.\n",
    "### Feel free to use as many code cells as needed."
   ]
  },
  {
   "cell_type": "markdown",
   "metadata": {
    "colab_type": "text",
    "id": "TSSJXPxXCATy"
   },
   "source": [
    "---\n",
    "<a id='step3'></a>\n",
    "## Step 3: Detect Dogs\n",
    "\n",
    "In this section, we use a [pre-trained model](http://pytorch.org/docs/master/torchvision/models.html) to detect dogs in images.  \n",
    "\n",
    "### Obtain Pre-trained VGG-16 Model\n",
    "\n",
    "The code cell below downloads the VGG-16 model, along with weights that have been trained on [ImageNet](http://www.image-net.org/), a very large, very popular dataset used for image classification and other vision tasks.  ImageNet contains over 10 million URLs, each linking to an image containing an object from one of [1000 categories](https://gist.github.com/yrevar/942d3a0ac09ec9e5eb3a).  "
   ]
  },
  {
   "cell_type": "code",
   "execution_count": 0,
   "metadata": {
    "colab": {},
    "colab_type": "code",
    "id": "ZRe969czCATz"
   },
   "outputs": [],
   "source": [
    "# define VGG16 model\n",
    "VGG16 = models.vgg16(pretrained=True)\n",
    "\n",
    "# check if CUDA is available\n",
    "use_cuda = torch.cuda.is_available()\n",
    "\n",
    "# move model to GPU if CUDA is available\n",
    "if use_cuda:\n",
    "    VGG16 = VGG16.cuda()"
   ]
  },
  {
   "cell_type": "markdown",
   "metadata": {
    "colab_type": "text",
    "id": "Wh-_ttPSCAT4"
   },
   "source": [
    "Given an image, this pre-trained VGG-16 model returns a prediction (derived from the 1000 possible categories in ImageNet) for the object that is contained in the image."
   ]
  },
  {
   "cell_type": "markdown",
   "metadata": {
    "colab_type": "text",
    "id": "BrouwfNeCAT6"
   },
   "source": [
    "### (IMPLEMENTATION) Making Predictions with a Pre-trained Model\n",
    "\n",
    "In the next code cell, you will write a function that accepts a path to an image (such as `'dogImages/train/001.Affenpinscher/Affenpinscher_00001.jpg'`) as input and returns the index corresponding to the ImageNet class that is predicted by the pre-trained VGG-16 model.  The output should always be an integer between 0 and 999, inclusive.\n",
    "\n",
    "Before writing the function, make sure that you take the time to learn  how to appropriately pre-process tensors for pre-trained models in the [PyTorch documentation](http://pytorch.org/docs/stable/torchvision/models.html)."
   ]
  },
  {
   "cell_type": "code",
   "execution_count": 0,
   "metadata": {
    "colab": {},
    "colab_type": "code",
    "id": "yUipuJRLCAT6"
   },
   "outputs": [],
   "source": [
    "def VGG16_predict(img_path):\n",
    "    '''\n",
    "    Use pre-trained VGG-16 model to obtain index corresponding to \n",
    "    predicted ImageNet class for image at specified path\n",
    "    \n",
    "    Args:\n",
    "        img_path: path to an image\n",
    "        \n",
    "    Returns:\n",
    "        Index corresponding to VGG-16 model's prediction\n",
    "    '''\n",
    "    \n",
    "    image = Image.open(img_path)\n",
    "    \n",
    "    image_tensor = transforms.Compose([transforms.ToTensor()])(image).unsqueeze(0)\n",
    "    \n",
    "    ps = VGG16(image_tensor)\n",
    "    \n",
    "    top_p, top_class = ps.topk(1, dim=1)\n",
    "    \n",
    "    return top_class.numpy().item(0)"
   ]
  },
  {
   "cell_type": "markdown",
   "metadata": {
    "colab_type": "text",
    "id": "nTm3r549CAT_"
   },
   "source": [
    "### (IMPLEMENTATION) Write a Dog Detector\n",
    "\n",
    "While looking at the [dictionary](https://gist.github.com/yrevar/942d3a0ac09ec9e5eb3a), you will notice that the categories corresponding to dogs appear in an uninterrupted sequence and correspond to dictionary keys 151-268, inclusive, to include all categories from `'Chihuahua'` to `'Mexican hairless'`.  Thus, in order to check to see if an image is predicted to contain a dog by the pre-trained VGG-16 model, we need only check if the pre-trained model predicts an index between 151 and 268 (inclusive).\n",
    "\n",
    "Use these ideas to complete the `dog_detector` function below, which returns `True` if a dog is detected in an image (and `False` if not)."
   ]
  },
  {
   "cell_type": "code",
   "execution_count": 0,
   "metadata": {
    "colab": {},
    "colab_type": "code",
    "id": "GoT-ghc-CAUA"
   },
   "outputs": [],
   "source": [
    "### returns \"True\" if a dog is detected in the image stored at img_path\n",
    "def dog_detector(img_path):\n",
    "    \n",
    "    predicted_index = VGG16_predict(img_path)\n",
    "    \n",
    "    return predicted_index >= 151 and predicted_index <= 268"
   ]
  },
  {
   "cell_type": "markdown",
   "metadata": {
    "colab_type": "text",
    "id": "nokDe7QaCAUE"
   },
   "source": [
    "### (IMPLEMENTATION) Assess the Dog Detector\n",
    "\n",
    "__Question 2:__ Use the code cell below to test the performance of your `dog_detector` function.  \n",
    "- What percentage of the images in `human_files_short` have a detected dog?  \n",
    "- What percentage of the images in `dog_files_short` have a detected dog?"
   ]
  },
  {
   "cell_type": "markdown",
   "metadata": {
    "colab_type": "text",
    "id": "veuq-VswCAUF"
   },
   "source": [
    "__Answer:__ \n"
   ]
  },
  {
   "cell_type": "code",
   "execution_count": 0,
   "metadata": {
    "colab": {},
    "colab_type": "code",
    "id": "CN4Vt3saCAUH",
    "outputId": "d5914f4d-5fe7-4625-8eff-cf744caf59b7"
   },
   "outputs": [
    {
     "name": "stderr",
     "output_type": "stream",
     "text": [
      "100%|██████████| 100/100 [01:06<00:00,  1.51it/s]\n",
      "100%|██████████| 100/100 [08:07<00:00,  4.88s/it]"
     ]
    },
    {
     "name": "stdout",
     "output_type": "stream",
     "text": [
      "Dog dectection in first 100 images in human_files : 0.0%\n",
      "Dog dectection in first 100 images in dog_files : 88.0%\n"
     ]
    },
    {
     "name": "stderr",
     "output_type": "stream",
     "text": [
      "\n"
     ]
    }
   ],
   "source": [
    "files_size = 100\n",
    "\n",
    "human_correct_dog_count = 0\n",
    "dog_correct_dog_count = 0\n",
    "\n",
    "for i in tqdm(range(files_size)):\n",
    "    if dog_detector(human_files_short[i]):\n",
    "        human_correct_dog_count += 1\n",
    "        \n",
    "for i in tqdm(range(files_size)):\n",
    "    if dog_detector(dog_files_short[i]):\n",
    "        dog_correct_dog_count += 1\n",
    "        \n",
    "print(\"Dog dectection in first 100 images in human_files : {}%\".format(\n",
    "    (human_correct_dog_count / files_size) * 100))\n",
    "print(\"Dog dectection in first 100 images in dog_files : {}%\".format(\n",
    "    (dog_correct_dog_count / files_size) * 100))\n"
   ]
  },
  {
   "cell_type": "markdown",
   "metadata": {
    "colab_type": "text",
    "id": "ODw1JXVPCAUN"
   },
   "source": [
    "We suggest VGG-16 as a potential network to detect dog images in your algorithm, but you are free to explore other pre-trained networks (such as [Inception-v3](http://pytorch.org/docs/master/torchvision/models.html#inception-v3), [ResNet-50](http://pytorch.org/docs/master/torchvision/models.html#id3), etc).  Please use the code cell below to test other pre-trained PyTorch models.  If you decide to pursue this _optional_ task, report performance on `human_files_short` and `dog_files_short`."
   ]
  },
  {
   "cell_type": "code",
   "execution_count": 0,
   "metadata": {
    "colab": {},
    "colab_type": "code",
    "id": "A5iygdCqCAUO"
   },
   "outputs": [],
   "source": [
    "### (Optional) \n",
    "### TODO: Report the performance of another pre-trained network.\n",
    "### Feel free to use as many code cells as needed."
   ]
  },
  {
   "cell_type": "markdown",
   "metadata": {
    "colab_type": "text",
    "id": "dLBx2MMWCAUR"
   },
   "source": [
    "---\n",
    "<a id='step4'></a>\n",
    "## Step 4: Create a CNN to Classify Dog Breeds (from Scratch)\n",
    "\n",
    "Now that we have functions for detecting humans and dogs in images, we need a way to predict breed from images.  In this step, you will create a CNN that classifies dog breeds.  You must create your CNN _from scratch_ (so, you can't use transfer learning _yet_!), and you must attain a test accuracy of at least 10%.  In Step 4 of this notebook, you will have the opportunity to use transfer learning to create a CNN that attains greatly improved accuracy.\n",
    "\n",
    "We mention that the task of assigning breed to dogs from images is considered exceptionally challenging.  To see why, consider that *even a human* would have trouble distinguishing between a Brittany and a Welsh Springer Spaniel.  \n",
    "\n",
    "Brittany | Welsh Springer Spaniel\n",
    "- | - \n",
    "<img src=\"images/Brittany_02625.jpg\" width=\"100\"> | <img src=\"images/Welsh_springer_spaniel_08203.jpg\" width=\"200\">\n",
    "\n",
    "It is not difficult to find other dog breed pairs with minimal inter-class variation (for instance, Curly-Coated Retrievers and American Water Spaniels).  \n",
    "\n",
    "Curly-Coated Retriever | American Water Spaniel\n",
    "- | -\n",
    "<img src=\"images/Curly-coated_retriever_03896.jpg\" width=\"200\"> | <img src=\"images/American_water_spaniel_00648.jpg\" width=\"200\">\n",
    "\n",
    "\n",
    "Likewise, recall that labradors come in yellow, chocolate, and black.  Your vision-based algorithm will have to conquer this high intra-class variation to determine how to classify all of these different shades as the same breed.  \n",
    "\n",
    "Yellow Labrador | Chocolate Labrador | Black Labrador\n",
    "- | -\n",
    "<img src=\"images/Labrador_retriever_06457.jpg\" width=\"150\"> | <img src=\"images/Labrador_retriever_06455.jpg\" width=\"240\"> | <img src=\"images/Labrador_retriever_06449.jpg\" width=\"220\">\n",
    "\n",
    "We also mention that random chance presents an exceptionally low bar: setting aside the fact that the classes are slightly imabalanced, a random guess will provide a correct answer roughly 1 in 133 times, which corresponds to an accuracy of less than 1%.  \n",
    "\n",
    "Remember that the practice is far ahead of the theory in deep learning.  Experiment with many different architectures, and trust your intuition.  And, of course, have fun!\n",
    "\n",
    "### (IMPLEMENTATION) Specify Data Loaders for the Dog Dataset\n",
    "\n",
    "Use the code cell below to write three separate [data loaders](http://pytorch.org/docs/stable/data.html#torch.utils.data.DataLoader) for the training, validation, and test datasets of dog images (located at `dogImages/train`, `dogImages/valid`, and `dogImages/test`, respectively).  You may find [this documentation on custom datasets](http://pytorch.org/docs/stable/torchvision/datasets.html) to be a useful resource.  If you are interested in augmenting your training and/or validation data, check out the wide variety of [transforms](http://pytorch.org/docs/stable/torchvision/transforms.html?highlight=transform)!"
   ]
  },
  {
   "cell_type": "markdown",
   "metadata": {
    "colab_type": "text",
    "id": "FZTXvSD-CAUT"
   },
   "source": [
    "See [Step 1](#step1): Import & Load Datasets"
   ]
  },
  {
   "cell_type": "code",
   "execution_count": 0,
   "metadata": {
    "colab": {},
    "colab_type": "code",
    "id": "Gx5Boo3SCAUU"
   },
   "outputs": [],
   "source": [
    "loaders_scratch = dog_data_loaders"
   ]
  },
  {
   "cell_type": "markdown",
   "metadata": {
    "colab_type": "text",
    "id": "SMM2kTamCAUa"
   },
   "source": [
    "**Question 3:** Describe your chosen procedure for preprocessing the data. \n",
    "- How does your code resize the images (by cropping, stretching, etc)?  What size did you pick for the input tensor, and why?\n",
    "- Did you decide to augment the dataset?  If so, how (through translations, flips, rotations, etc)?  If not, why not?\n"
   ]
  },
  {
   "cell_type": "markdown",
   "metadata": {
    "colab_type": "text",
    "id": "Rm9oFZmbCAUb"
   },
   "source": [
    "**Answer**:\n",
    "\n",
    "* My code resizes the images by\n",
    "    * cropping the given PIL Image and resizing it to 224px\n",
    "* Yes\n",
    "    * randomly changing the brightness, contrast and saturation of an image\n",
    "    * horizontally flipping the given PIL Image randomly with a given probability\n",
    "    * performing perspective transformation of the given PIL Image randomly with a given probability\n",
    "    * vertically flipping the given PIL Image randomly with a given probability\n",
    "    * rotating the image by angle ranging from -90 to 90"
   ]
  },
  {
   "cell_type": "markdown",
   "metadata": {
    "colab_type": "text",
    "id": "ZkPXmySNCAUc"
   },
   "source": [
    "### (IMPLEMENTATION) Model Architecture\n",
    "\n",
    "Create a CNN to classify dog breed.  Use the template in the code cell below."
   ]
  },
  {
   "cell_type": "code",
   "execution_count": 0,
   "metadata": {
    "colab": {},
    "colab_type": "code",
    "id": "czxBaxf6CAUd"
   },
   "outputs": [],
   "source": [
    "# define the CNN architecture\n",
    "class Net(nn.Module):\n",
    "    \n",
    "    def __init__(self, num_classes=133):\n",
    "        \n",
    "        super(Net, self).__init__()\n",
    "        \n",
    "        ## Define layers of a CNN\n",
    "        \n",
    "        self.conv1 = nn.Conv2d(3, 16, 3)\n",
    "        self.conv2 = nn.Conv2d(16, 32, 3)\n",
    "        self.conv3 = nn.Conv2d(32, 64, 3)\n",
    "        self.conv4 = nn.Conv2d(64, 128, 3)\n",
    "        self.conv5 = nn.Conv2d(128, 256, 3)\n",
    "        self.conv6 = nn.Conv2d(256, 512, 3)\n",
    "      \n",
    "        self.maxpool1 = nn.MaxPool2d(3, stride=2)\n",
    "        \n",
    "        self.bn1 = nn.BatchNorm2d(16)\n",
    "        self.bn2 = nn.BatchNorm2d(32)\n",
    "        self.bn3 = nn.BatchNorm2d(64)\n",
    "        self.bn4 = nn.BatchNorm2d(128)\n",
    "        self.bn5 = nn.BatchNorm2d(256)\n",
    "        self.bn6 = nn.BatchNorm2d(512)\n",
    "\n",
    "        self.fc1 = nn.Linear(25088, 1028)\n",
    "        self.fc2 = nn.Linear(1028, 512)\n",
    "        self.fc3 = nn.Linear(512, num_classes)\n",
    "\n",
    "        self.dropout = nn.Dropout(0.6)\n",
    "    \n",
    "    def forward(self, x):\n",
    "        \n",
    "        x = self.conv1(x)\n",
    "        x = self.bn1(x)\n",
    "        x = F.relu(self.maxpool1(x))\n",
    "        \n",
    "        x = self.conv2(x)\n",
    "        x = self.bn2(x)\n",
    "        x = F.relu(self.maxpool1(x))\n",
    "        \n",
    "        x = self.conv3(x)\n",
    "        x = self.bn3(x)\n",
    "        x = F.relu(self.maxpool1(x))\n",
    "\n",
    "        x = self.conv4(x)\n",
    "        x = self.bn4(x)\n",
    "        x = F.relu(self.maxpool1(x))\n",
    "\n",
    "        x = self.conv5(x)\n",
    "        x = self.bn5(x)\n",
    "        \n",
    "        x = self.conv6(x)\n",
    "        x = self.bn6(x)\n",
    "\n",
    "        x = x.view(x.shape[0], -1)\n",
    "\n",
    "        x = self.dropout(x)\n",
    "\n",
    "        x = self.fc1(x)\n",
    "        x = F.relu(x)\n",
    "\n",
    "        x = self.fc2(x)\n",
    "        x = F.relu(x)\n",
    "\n",
    "        x = self.fc3(x)\n",
    "        \n",
    "        return x"
   ]
  },
  {
   "cell_type": "code",
   "execution_count": 0,
   "metadata": {
    "colab": {},
    "colab_type": "code",
    "id": "WO5j8QksCAUg"
   },
   "outputs": [],
   "source": [
    "model_scratch = Net()\n",
    "\n",
    "if use_cuda:\n",
    "    model_scratch.cuda()"
   ]
  },
  {
   "cell_type": "markdown",
   "metadata": {
    "colab_type": "text",
    "id": "In0cYzADCAUj"
   },
   "source": [
    "__Question 4:__ Outline the steps you took to get to your final CNN architecture and your reasoning at each step.  "
   ]
  },
  {
   "cell_type": "markdown",
   "metadata": {
    "colab_type": "text",
    "id": "i_jMkKjhCAUk"
   },
   "source": [
    "__Answer:__ \n",
    "\n",
    "1. Created 3 convolutional layers and 2 fully connected layers\n",
    "2. Added batch normalization as it enables faster and more stable training of deep neural networks\n",
    "3. Added dropout as it avoids overfitting"
   ]
  },
  {
   "cell_type": "markdown",
   "metadata": {
    "colab_type": "text",
    "id": "eyeS1KLWCAUl"
   },
   "source": [
    "### (IMPLEMENTATION) Specify Loss Function and Optimizer\n",
    "\n",
    "Use the next code cell to specify a [loss function](http://pytorch.org/docs/stable/nn.html#loss-functions) and [optimizer](http://pytorch.org/docs/stable/optim.html).  Save the chosen loss function as `criterion_scratch`, and the optimizer as `optimizer_scratch` below."
   ]
  },
  {
   "cell_type": "code",
   "execution_count": 0,
   "metadata": {
    "colab": {},
    "colab_type": "code",
    "id": "4V3odiu3CAUl"
   },
   "outputs": [],
   "source": [
    "criterion_scratch = nn.CrossEntropyLoss()\n",
    "optimizer_scratch = optim.SGD(model_scratch.parameters(), lr=0.01)"
   ]
  },
  {
   "cell_type": "markdown",
   "metadata": {
    "colab_type": "text",
    "id": "jgkJFhciCAUo"
   },
   "source": [
    "### (IMPLEMENTATION) Train and Validate the Model\n",
    "\n",
    "Train and validate your model in the code cell below.  [Save the final model parameters](http://pytorch.org/docs/master/notes/serialization.html) at filepath `'model_scratch.pt'`."
   ]
  },
  {
   "cell_type": "code",
   "execution_count": 0,
   "metadata": {
    "colab": {},
    "colab_type": "code",
    "id": "IPyhph2KCAUp"
   },
   "outputs": [],
   "source": [
    "def train(n_epochs, loaders, model, optimizer, criterion, use_cuda, save_path):\n",
    "    \"\"\"returns trained model\"\"\"\n",
    "    # initialize tracker for minimum validation loss\n",
    "    valid_loss_min = np.Inf \n",
    "    \n",
    "    for epoch in range(1, n_epochs+1):\n",
    "        # initialize variables to monitor training and validation loss\n",
    "        train_loss = 0.0\n",
    "        valid_loss = 0.0\n",
    "        \n",
    "        ###################\n",
    "        # train the model #\n",
    "        ###################\n",
    "        model.train()\n",
    "        for batch_idx, (data, target) in enumerate(tqdm(loaders['train'])):\n",
    "            # move to GPU\n",
    "            if use_cuda:\n",
    "                data, target = data.cuda(), target.cuda()\n",
    "                \n",
    "            optimizer.zero_grad()\n",
    "                \n",
    "            output = model(data)\n",
    "            \n",
    "            ## find the loss and update the model parameters accordingly\n",
    "            loss = criterion(output, target)\n",
    "            \n",
    "            loss.backward()\n",
    "        \n",
    "            optimizer.step()\n",
    "        \n",
    "            ## record the average training loss, using something like\n",
    "            train_loss = train_loss + ((1 / (batch_idx + 1)) * (loss.data - train_loss))\n",
    "            \n",
    "        ######################    \n",
    "        # validate the model #\n",
    "        ######################\n",
    "        model.eval()\n",
    "        for batch_idx, (data, target) in enumerate(tqdm(loaders['valid'])):\n",
    "            # move to GPU\n",
    "            if use_cuda:\n",
    "                data, target = data.cuda(), target.cuda()\n",
    "                \n",
    "            output = model(data)\n",
    "            \n",
    "            loss = criterion(output, target)\n",
    "            \n",
    "            ## update the average validation loss\n",
    "            valid_loss = valid_loss + ((1 / (batch_idx + 1)) * (loss.data - valid_loss))\n",
    "        \n",
    "        if valid_loss < valid_loss_min:\n",
    "            valid_loss_min = valid_loss\n",
    "            torch.save(model.state_dict(), save_path)\n",
    "\n",
    "        # print training/validation statistics \n",
    "        print(' Epoch: {} Training Loss: {:.6f} Validation Loss: {:.6f} Min Validation Loss {:.6f}'.format(\n",
    "            epoch, \n",
    "            train_loss,\n",
    "            valid_loss,\n",
    "            valid_loss_min\n",
    "            ))\n",
    "\n",
    "            \n",
    "    # return trained model\n",
    "    return model"
   ]
  },
  {
   "cell_type": "code",
   "execution_count": 0,
   "metadata": {
    "colab": {},
    "colab_type": "code",
    "id": "VE5iSF61B9lI"
   },
   "outputs": [],
   "source": [
    "# train the model\n",
    "model_scratch = train(1000, loaders_scratch, model_scratch, optimizer_scratch, \n",
    "                      criterion_scratch, use_cuda, 'model_scratch.pt')"
   ]
  },
  {
   "cell_type": "markdown",
   "metadata": {
    "colab_type": "text",
    "id": "EYSx9FjbCAUs"
   },
   "source": [
    "### (IMPLEMENTATION) Test the Model\n",
    "\n",
    "Try out your model on the test dataset of dog images.  Use the code cell below to calculate and print the test loss and accuracy.  Ensure that your test accuracy is greater than 10%."
   ]
  },
  {
   "cell_type": "code",
   "execution_count": 0,
   "metadata": {
    "colab": {},
    "colab_type": "code",
    "id": "zk0ri_a_sKVM",
    "outputId": "42320c06-7625-4fa5-b8e3-ced69506e15b"
   },
   "outputs": [
    {
     "data": {
      "text/plain": [
       "<All keys matched successfully>"
      ]
     },
     "execution_count": 16,
     "metadata": {
      "tags": []
     },
     "output_type": "execute_result"
    }
   ],
   "source": [
    "# load the model that got the best validation accuracy\n",
    "model_scratch.load_state_dict(torch.load('model_scratch.pt', map_location=torch.device('cpu')))"
   ]
  },
  {
   "cell_type": "code",
   "execution_count": 22,
   "metadata": {
    "colab": {
     "base_uri": "https://localhost:8080/",
     "height": 198
    },
    "colab_type": "code",
    "id": "T8S5qDmdCAUt",
    "outputId": "9efa3d3e-f95e-474b-a708-f6d6c00c7f52"
   },
   "outputs": [
    {
     "ename": "NameError",
     "evalue": "ignored",
     "output_type": "error",
     "traceback": [
      "\u001b[0;31m---------------------------------------------------------------------------\u001b[0m",
      "\u001b[0;31mNameError\u001b[0m                                 Traceback (most recent call last)",
      "\u001b[0;32m<ipython-input-22-529b60cf43ff>\u001b[0m in \u001b[0;36m<module>\u001b[0;34m()\u001b[0m\n\u001b[1;32m     29\u001b[0m \u001b[0;34m\u001b[0m\u001b[0m\n\u001b[1;32m     30\u001b[0m \u001b[0;31m# call test function\u001b[0m\u001b[0;34m\u001b[0m\u001b[0;34m\u001b[0m\u001b[0;34m\u001b[0m\u001b[0m\n\u001b[0;32m---> 31\u001b[0;31m \u001b[0mtest\u001b[0m\u001b[0;34m(\u001b[0m\u001b[0mloaders_scratch\u001b[0m\u001b[0;34m,\u001b[0m \u001b[0mmodel_scratch\u001b[0m\u001b[0;34m,\u001b[0m \u001b[0mcriterion_scratch\u001b[0m\u001b[0;34m,\u001b[0m \u001b[0muse_cuda\u001b[0m\u001b[0;34m)\u001b[0m\u001b[0;34m\u001b[0m\u001b[0;34m\u001b[0m\u001b[0m\n\u001b[0m",
      "\u001b[0;31mNameError\u001b[0m: name 'loaders_scratch' is not defined"
     ]
    }
   ],
   "source": [
    "def test(loaders, model, criterion, use_cuda):\n",
    "\n",
    "    # monitor test loss and accuracy\n",
    "    test_loss = 0.\n",
    "    correct = 0.\n",
    "    total = 0.\n",
    "\n",
    "    model.eval()\n",
    "    for batch_idx, (data, target) in enumerate(loaders['test']):\n",
    "        # move to GPU\n",
    "        if use_cuda:\n",
    "            data, target = data.cuda(), target.cuda()\n",
    "        # forward pass: compute predicted outputs by passing inputs to the model\n",
    "        output = model(data)\n",
    "        # calculate the loss\n",
    "        loss = criterion(output, target)\n",
    "        # update average test loss \n",
    "        test_loss = test_loss + ((1 / (batch_idx + 1)) * (loss.data - test_loss))\n",
    "        # convert output probabilities to predicted class\n",
    "        pred = output.data.max(1, keepdim=True)[1]\n",
    "        # compare predictions to true label\n",
    "        correct += np.sum(np.squeeze(pred.eq(target.data.view_as(pred))).cpu().numpy())\n",
    "        total += data.size(0)\n",
    "            \n",
    "    print('Test Loss: {:.6f}\\n'.format(test_loss))\n",
    "\n",
    "    print('\\nTest Accuracy: %2d%% (%2d/%2d)' % (\n",
    "        100. * correct / total, correct, total))"
   ]
  },
  {
   "cell_type": "code",
   "execution_count": 0,
   "metadata": {
    "colab": {},
    "colab_type": "code",
    "id": "hnmhfzr1pQhq"
   },
   "outputs": [],
   "source": [
    "# call test function    \n",
    "test(loaders_scratch, model_scratch, criterion_scratch, use_cuda)"
   ]
  },
  {
   "cell_type": "markdown",
   "metadata": {
    "colab_type": "text",
    "id": "oAoSUXZrCAUx"
   },
   "source": [
    "---\n",
    "<a id='step5'></a>\n",
    "## Step 5: Create a CNN to Classify Dog Breeds (using Transfer Learning)\n",
    "\n",
    "You will now use transfer learning to create a CNN that can identify dog breed from images.  Your CNN must attain at least 60% accuracy on the test set.\n",
    "\n",
    "### (IMPLEMENTATION) Specify Data Loaders for the Dog Dataset\n",
    "\n",
    "Use the code cell below to write three separate [data loaders](http://pytorch.org/docs/master/data.html#torch.utils.data.DataLoader) for the training, validation, and test datasets of dog images (located at `dogImages/train`, `dogImages/valid`, and `dogImages/test`, respectively). \n",
    "\n",
    "If you like, **you are welcome to use the same data loaders from the previous step**, when you created a CNN from scratch."
   ]
  },
  {
   "cell_type": "code",
   "execution_count": 0,
   "metadata": {
    "colab": {},
    "colab_type": "code",
    "id": "LsXeAM3eCAU0"
   },
   "outputs": [],
   "source": [
    "loaders_transfer = dog_data_loaders"
   ]
  },
  {
   "cell_type": "markdown",
   "metadata": {
    "colab_type": "text",
    "id": "XF-DbE3uCAU4"
   },
   "source": [
    "### (IMPLEMENTATION) Model Architecture\n",
    "\n",
    "Use transfer learning to create a CNN to classify dog breed.  Use the code cell below, and save your initialized model as the variable `model_transfer`."
   ]
  },
  {
   "cell_type": "code",
   "execution_count": 0,
   "metadata": {
    "colab": {},
    "colab_type": "code",
    "id": "ipE27jyICAU4"
   },
   "outputs": [],
   "source": [
    "model_transfer = models.vgg16(pretrained=True)\n",
    "\n",
    "for param in model_transfer.parameters():\n",
    "    param.requires_grad = False\n",
    "\n",
    "model_transfer.classifier[6] = nn.Sequential(\n",
    "                      nn.Linear(4096, 256), \n",
    "                      nn.ReLU(), \n",
    "                      nn.Dropout(0.4),\n",
    "                      nn.Linear(256, 133))\n",
    "\n",
    "\n",
    "if use_cuda:\n",
    "    model_transfer = model_transfer.cuda()"
   ]
  },
  {
   "cell_type": "markdown",
   "metadata": {
    "colab_type": "text",
    "id": "rcpF1nl8CAU9"
   },
   "source": [
    "__Question 5:__ Outline the steps you took to get to your final CNN architecture and your reasoning at each step.  Describe why you think the architecture is suitable for the current problem."
   ]
  },
  {
   "cell_type": "markdown",
   "metadata": {
    "colab_type": "text",
    "id": "enNA0R4hCAU9"
   },
   "source": [
    "__Answer:__ \n"
   ]
  },
  {
   "cell_type": "markdown",
   "metadata": {
    "colab_type": "text",
    "id": "ghs1syOyCAVA"
   },
   "source": [
    "### (IMPLEMENTATION) Specify Loss Function and Optimizer\n",
    "\n",
    "Use the next code cell to specify a [loss function](http://pytorch.org/docs/master/nn.html#loss-functions) and [optimizer](http://pytorch.org/docs/master/optim.html).  Save the chosen loss function as `criterion_transfer`, and the optimizer as `optimizer_transfer` below."
   ]
  },
  {
   "cell_type": "code",
   "execution_count": 0,
   "metadata": {
    "colab": {},
    "colab_type": "code",
    "id": "bjMnfjWyCAVB"
   },
   "outputs": [],
   "source": [
    "learning_rate = 0.003\n",
    "\n",
    "criterion_transfer = nn.CrossEntropyLoss()\n",
    "optimizer_transfer = optim.SGD(model_transfer.classifier.parameters(), lr=learning_rate)"
   ]
  },
  {
   "cell_type": "markdown",
   "metadata": {
    "colab_type": "text",
    "id": "KsDGfuA0CAVE"
   },
   "source": [
    "### (IMPLEMENTATION) Train and Validate the Model\n",
    "\n",
    "Train and validate your model in the code cell below.  [Save the final model parameters](http://pytorch.org/docs/master/notes/serialization.html) at filepath `'model_transfer.pt'`."
   ]
  },
  {
   "cell_type": "code",
   "execution_count": 21,
   "metadata": {
    "colab": {
     "base_uri": "https://localhost:8080/",
     "height": 1000
    },
    "colab_type": "code",
    "id": "G3mD6kB5CAVE",
    "outputId": "148b9fd9-2fba-464a-f28e-b650e98df0ba"
   },
   "outputs": [
    {
     "name": "stderr",
     "output_type": "stream",
     "text": [
      "100%|██████████| 209/209 [03:22<00:00,  1.03it/s]\n",
      "100%|██████████| 27/27 [00:10<00:00,  2.56it/s]\n",
      "  0%|          | 0/209 [00:00<?, ?it/s]"
     ]
    },
    {
     "name": "stdout",
     "output_type": "stream",
     "text": [
      " Epoch: 1 Training Loss: 4.869192 Validation Loss: 4.705602 Min Validation Loss 4.705602\n"
     ]
    },
    {
     "name": "stderr",
     "output_type": "stream",
     "text": [
      "100%|██████████| 209/209 [03:15<00:00,  1.07it/s]\n",
      "100%|██████████| 27/27 [00:10<00:00,  2.53it/s]\n",
      "  0%|          | 0/209 [00:00<?, ?it/s]"
     ]
    },
    {
     "name": "stdout",
     "output_type": "stream",
     "text": [
      " Epoch: 2 Training Loss: 4.732315 Validation Loss: 4.459786 Min Validation Loss 4.459786\n"
     ]
    },
    {
     "name": "stderr",
     "output_type": "stream",
     "text": [
      "100%|██████████| 209/209 [03:18<00:00,  1.05it/s]\n",
      "100%|██████████| 27/27 [00:10<00:00,  2.50it/s]\n",
      "  0%|          | 0/209 [00:00<?, ?it/s]"
     ]
    },
    {
     "name": "stdout",
     "output_type": "stream",
     "text": [
      " Epoch: 3 Training Loss: 4.548646 Validation Loss: 4.116057 Min Validation Loss 4.116057\n"
     ]
    },
    {
     "name": "stderr",
     "output_type": "stream",
     "text": [
      "100%|██████████| 209/209 [03:21<00:00,  1.04it/s]\n",
      "100%|██████████| 27/27 [00:10<00:00,  2.45it/s]\n",
      "  0%|          | 0/209 [00:00<?, ?it/s]"
     ]
    },
    {
     "name": "stdout",
     "output_type": "stream",
     "text": [
      " Epoch: 4 Training Loss: 4.348132 Validation Loss: 3.751294 Min Validation Loss 3.751294\n"
     ]
    },
    {
     "name": "stderr",
     "output_type": "stream",
     "text": [
      "100%|██████████| 209/209 [03:21<00:00,  1.04it/s]\n",
      "100%|██████████| 27/27 [00:10<00:00,  2.52it/s]\n",
      "  0%|          | 0/209 [00:00<?, ?it/s]"
     ]
    },
    {
     "name": "stdout",
     "output_type": "stream",
     "text": [
      " Epoch: 5 Training Loss: 4.101437 Validation Loss: 3.329783 Min Validation Loss 3.329783\n"
     ]
    },
    {
     "name": "stderr",
     "output_type": "stream",
     "text": [
      "100%|██████████| 209/209 [03:21<00:00,  1.04it/s]\n",
      "100%|██████████| 27/27 [00:10<00:00,  2.53it/s]\n",
      "  0%|          | 0/209 [00:00<?, ?it/s]"
     ]
    },
    {
     "name": "stdout",
     "output_type": "stream",
     "text": [
      " Epoch: 6 Training Loss: 3.869760 Validation Loss: 2.953027 Min Validation Loss 2.953027\n"
     ]
    },
    {
     "name": "stderr",
     "output_type": "stream",
     "text": [
      "100%|██████████| 209/209 [03:11<00:00,  1.09it/s]\n",
      "100%|██████████| 27/27 [00:10<00:00,  2.55it/s]\n",
      "  0%|          | 0/209 [00:00<?, ?it/s]"
     ]
    },
    {
     "name": "stdout",
     "output_type": "stream",
     "text": [
      " Epoch: 7 Training Loss: 3.618668 Validation Loss: 2.647475 Min Validation Loss 2.647475\n"
     ]
    },
    {
     "name": "stderr",
     "output_type": "stream",
     "text": [
      "100%|██████████| 209/209 [03:16<00:00,  1.06it/s]\n",
      "100%|██████████| 27/27 [00:10<00:00,  2.57it/s]\n",
      "  0%|          | 0/209 [00:00<?, ?it/s]"
     ]
    },
    {
     "name": "stdout",
     "output_type": "stream",
     "text": [
      " Epoch: 8 Training Loss: 3.419600 Validation Loss: 2.306246 Min Validation Loss 2.306246\n"
     ]
    },
    {
     "name": "stderr",
     "output_type": "stream",
     "text": [
      "100%|██████████| 209/209 [03:21<00:00,  1.04it/s]\n",
      "100%|██████████| 27/27 [00:10<00:00,  2.55it/s]\n",
      "  0%|          | 0/209 [00:00<?, ?it/s]"
     ]
    },
    {
     "name": "stdout",
     "output_type": "stream",
     "text": [
      " Epoch: 9 Training Loss: 3.251432 Validation Loss: 2.038332 Min Validation Loss 2.038332\n"
     ]
    },
    {
     "name": "stderr",
     "output_type": "stream",
     "text": [
      "100%|██████████| 209/209 [03:12<00:00,  1.09it/s]\n",
      "100%|██████████| 27/27 [00:10<00:00,  2.56it/s]\n",
      "  0%|          | 0/209 [00:00<?, ?it/s]"
     ]
    },
    {
     "name": "stdout",
     "output_type": "stream",
     "text": [
      " Epoch: 10 Training Loss: 3.103251 Validation Loss: 1.841709 Min Validation Loss 1.841709\n"
     ]
    },
    {
     "name": "stderr",
     "output_type": "stream",
     "text": [
      "100%|██████████| 209/209 [03:19<00:00,  1.05it/s]\n",
      "100%|██████████| 27/27 [00:10<00:00,  2.58it/s]\n",
      "  0%|          | 0/209 [00:00<?, ?it/s]"
     ]
    },
    {
     "name": "stdout",
     "output_type": "stream",
     "text": [
      " Epoch: 11 Training Loss: 2.973403 Validation Loss: 1.740554 Min Validation Loss 1.740554\n"
     ]
    },
    {
     "name": "stderr",
     "output_type": "stream",
     "text": [
      "100%|██████████| 209/209 [03:22<00:00,  1.03it/s]\n",
      "100%|██████████| 27/27 [00:11<00:00,  2.43it/s]\n",
      "  0%|          | 0/209 [00:00<?, ?it/s]"
     ]
    },
    {
     "name": "stdout",
     "output_type": "stream",
     "text": [
      " Epoch: 12 Training Loss: 2.866516 Validation Loss: 1.555926 Min Validation Loss 1.555926\n"
     ]
    },
    {
     "name": "stderr",
     "output_type": "stream",
     "text": [
      "100%|██████████| 209/209 [03:24<00:00,  1.02it/s]\n",
      "100%|██████████| 27/27 [00:10<00:00,  2.56it/s]\n",
      "  0%|          | 0/209 [00:00<?, ?it/s]"
     ]
    },
    {
     "name": "stdout",
     "output_type": "stream",
     "text": [
      " Epoch: 13 Training Loss: 2.779480 Validation Loss: 1.464476 Min Validation Loss 1.464476\n"
     ]
    },
    {
     "name": "stderr",
     "output_type": "stream",
     "text": [
      "100%|██████████| 209/209 [03:15<00:00,  1.07it/s]\n",
      "100%|██████████| 27/27 [00:10<00:00,  2.57it/s]\n",
      "  0%|          | 0/209 [00:00<?, ?it/s]"
     ]
    },
    {
     "name": "stdout",
     "output_type": "stream",
     "text": [
      " Epoch: 14 Training Loss: 2.693151 Validation Loss: 1.353572 Min Validation Loss 1.353572\n"
     ]
    },
    {
     "name": "stderr",
     "output_type": "stream",
     "text": [
      "100%|██████████| 209/209 [03:19<00:00,  1.05it/s]\n",
      "100%|██████████| 27/27 [00:10<00:00,  2.52it/s]\n",
      "  0%|          | 0/209 [00:00<?, ?it/s]"
     ]
    },
    {
     "name": "stdout",
     "output_type": "stream",
     "text": [
      " Epoch: 15 Training Loss: 2.641832 Validation Loss: 1.316965 Min Validation Loss 1.316965\n"
     ]
    },
    {
     "name": "stderr",
     "output_type": "stream",
     "text": [
      "100%|██████████| 209/209 [03:16<00:00,  1.06it/s]\n",
      "100%|██████████| 27/27 [00:10<00:00,  2.56it/s]\n",
      "  0%|          | 0/209 [00:00<?, ?it/s]"
     ]
    },
    {
     "name": "stdout",
     "output_type": "stream",
     "text": [
      " Epoch: 16 Training Loss: 2.588865 Validation Loss: 1.209573 Min Validation Loss 1.209573\n"
     ]
    },
    {
     "name": "stderr",
     "output_type": "stream",
     "text": [
      "100%|██████████| 209/209 [03:27<00:00,  1.01it/s]\n",
      "100%|██████████| 27/27 [00:10<00:00,  2.57it/s]\n",
      "  0%|          | 0/209 [00:00<?, ?it/s]"
     ]
    },
    {
     "name": "stdout",
     "output_type": "stream",
     "text": [
      " Epoch: 17 Training Loss: 2.521410 Validation Loss: 1.139485 Min Validation Loss 1.139485\n"
     ]
    },
    {
     "name": "stderr",
     "output_type": "stream",
     "text": [
      "100%|██████████| 209/209 [03:16<00:00,  1.06it/s]\n",
      "100%|██████████| 27/27 [00:10<00:00,  2.52it/s]\n",
      "  0%|          | 0/209 [00:00<?, ?it/s]"
     ]
    },
    {
     "name": "stdout",
     "output_type": "stream",
     "text": [
      " Epoch: 18 Training Loss: 2.487261 Validation Loss: 1.114411 Min Validation Loss 1.114411\n"
     ]
    },
    {
     "name": "stderr",
     "output_type": "stream",
     "text": [
      "100%|██████████| 209/209 [03:20<00:00,  1.04it/s]\n",
      "100%|██████████| 27/27 [00:10<00:00,  2.53it/s]\n",
      "  0%|          | 0/209 [00:00<?, ?it/s]"
     ]
    },
    {
     "name": "stdout",
     "output_type": "stream",
     "text": [
      " Epoch: 19 Training Loss: 2.449503 Validation Loss: 1.173904 Min Validation Loss 1.114411\n"
     ]
    },
    {
     "name": "stderr",
     "output_type": "stream",
     "text": [
      "100%|██████████| 209/209 [03:18<00:00,  1.05it/s]\n",
      "100%|██████████| 27/27 [00:10<00:00,  2.52it/s]\n",
      "  0%|          | 0/209 [00:00<?, ?it/s]"
     ]
    },
    {
     "name": "stdout",
     "output_type": "stream",
     "text": [
      " Epoch: 20 Training Loss: 2.402381 Validation Loss: 1.061716 Min Validation Loss 1.061716\n"
     ]
    },
    {
     "name": "stderr",
     "output_type": "stream",
     "text": [
      "100%|██████████| 209/209 [03:17<00:00,  1.06it/s]\n",
      "100%|██████████| 27/27 [00:10<00:00,  2.53it/s]\n",
      "  0%|          | 0/209 [00:00<?, ?it/s]"
     ]
    },
    {
     "name": "stdout",
     "output_type": "stream",
     "text": [
      " Epoch: 21 Training Loss: 2.391064 Validation Loss: 1.060480 Min Validation Loss 1.060480\n"
     ]
    },
    {
     "name": "stderr",
     "output_type": "stream",
     "text": [
      "100%|██████████| 209/209 [03:17<00:00,  1.06it/s]\n",
      "100%|██████████| 27/27 [00:10<00:00,  2.53it/s]\n",
      "  0%|          | 0/209 [00:00<?, ?it/s]"
     ]
    },
    {
     "name": "stdout",
     "output_type": "stream",
     "text": [
      " Epoch: 22 Training Loss: 2.348698 Validation Loss: 1.005771 Min Validation Loss 1.005771\n"
     ]
    },
    {
     "name": "stderr",
     "output_type": "stream",
     "text": [
      "100%|██████████| 209/209 [03:16<00:00,  1.06it/s]\n",
      "100%|██████████| 27/27 [00:10<00:00,  2.52it/s]\n",
      "  0%|          | 0/209 [00:00<?, ?it/s]"
     ]
    },
    {
     "name": "stdout",
     "output_type": "stream",
     "text": [
      " Epoch: 23 Training Loss: 2.313194 Validation Loss: 0.925498 Min Validation Loss 0.925498\n"
     ]
    },
    {
     "name": "stderr",
     "output_type": "stream",
     "text": [
      "100%|██████████| 209/209 [03:19<00:00,  1.05it/s]\n",
      "100%|██████████| 27/27 [00:10<00:00,  2.52it/s]\n",
      "  0%|          | 0/209 [00:00<?, ?it/s]"
     ]
    },
    {
     "name": "stdout",
     "output_type": "stream",
     "text": [
      " Epoch: 24 Training Loss: 2.320421 Validation Loss: 0.907532 Min Validation Loss 0.907532\n"
     ]
    },
    {
     "name": "stderr",
     "output_type": "stream",
     "text": [
      "100%|██████████| 209/209 [03:18<00:00,  1.05it/s]\n",
      "100%|██████████| 27/27 [00:10<00:00,  2.52it/s]\n",
      "  0%|          | 0/209 [00:00<?, ?it/s]"
     ]
    },
    {
     "name": "stdout",
     "output_type": "stream",
     "text": [
      " Epoch: 25 Training Loss: 2.278945 Validation Loss: 0.915733 Min Validation Loss 0.907532\n"
     ]
    },
    {
     "name": "stderr",
     "output_type": "stream",
     "text": [
      "100%|██████████| 209/209 [03:23<00:00,  1.03it/s]\n",
      "100%|██████████| 27/27 [00:11<00:00,  2.43it/s]\n",
      "  0%|          | 0/209 [00:00<?, ?it/s]"
     ]
    },
    {
     "name": "stdout",
     "output_type": "stream",
     "text": [
      " Epoch: 26 Training Loss: 2.259967 Validation Loss: 0.898683 Min Validation Loss 0.898683\n"
     ]
    },
    {
     "name": "stderr",
     "output_type": "stream",
     "text": [
      "100%|██████████| 209/209 [03:20<00:00,  1.04it/s]\n",
      "100%|██████████| 27/27 [00:10<00:00,  2.52it/s]\n",
      "  0%|          | 0/209 [00:00<?, ?it/s]"
     ]
    },
    {
     "name": "stdout",
     "output_type": "stream",
     "text": [
      " Epoch: 27 Training Loss: 2.261559 Validation Loss: 0.864132 Min Validation Loss 0.864132\n"
     ]
    },
    {
     "name": "stderr",
     "output_type": "stream",
     "text": [
      "100%|██████████| 209/209 [03:21<00:00,  1.04it/s]\n",
      "100%|██████████| 27/27 [00:10<00:00,  2.51it/s]\n",
      "  0%|          | 0/209 [00:00<?, ?it/s]"
     ]
    },
    {
     "name": "stdout",
     "output_type": "stream",
     "text": [
      " Epoch: 28 Training Loss: 2.218267 Validation Loss: 0.832988 Min Validation Loss 0.832988\n"
     ]
    },
    {
     "name": "stderr",
     "output_type": "stream",
     "text": [
      "100%|██████████| 209/209 [03:13<00:00,  1.08it/s]\n",
      "100%|██████████| 27/27 [00:10<00:00,  2.52it/s]\n",
      "  0%|          | 0/209 [00:00<?, ?it/s]"
     ]
    },
    {
     "name": "stdout",
     "output_type": "stream",
     "text": [
      " Epoch: 29 Training Loss: 2.212095 Validation Loss: 0.828787 Min Validation Loss 0.828787\n"
     ]
    },
    {
     "name": "stderr",
     "output_type": "stream",
     "text": [
      "100%|██████████| 209/209 [03:17<00:00,  1.06it/s]\n",
      "100%|██████████| 27/27 [00:10<00:00,  2.52it/s]\n",
      "  0%|          | 0/209 [00:00<?, ?it/s]"
     ]
    },
    {
     "name": "stdout",
     "output_type": "stream",
     "text": [
      " Epoch: 30 Training Loss: 2.175570 Validation Loss: 0.830303 Min Validation Loss 0.828787\n"
     ]
    },
    {
     "name": "stderr",
     "output_type": "stream",
     "text": [
      "100%|██████████| 209/209 [03:16<00:00,  1.06it/s]\n",
      "100%|██████████| 27/27 [00:10<00:00,  2.51it/s]\n",
      "  0%|          | 0/209 [00:00<?, ?it/s]"
     ]
    },
    {
     "name": "stdout",
     "output_type": "stream",
     "text": [
      " Epoch: 31 Training Loss: 2.176807 Validation Loss: 0.798694 Min Validation Loss 0.798694\n"
     ]
    },
    {
     "name": "stderr",
     "output_type": "stream",
     "text": [
      "100%|██████████| 209/209 [03:22<00:00,  1.03it/s]\n",
      "100%|██████████| 27/27 [00:10<00:00,  2.52it/s]\n",
      "  0%|          | 0/209 [00:00<?, ?it/s]"
     ]
    },
    {
     "name": "stdout",
     "output_type": "stream",
     "text": [
      " Epoch: 32 Training Loss: 2.161951 Validation Loss: 0.809194 Min Validation Loss 0.798694\n"
     ]
    },
    {
     "name": "stderr",
     "output_type": "stream",
     "text": [
      "100%|██████████| 209/209 [03:18<00:00,  1.05it/s]\n",
      "100%|██████████| 27/27 [00:10<00:00,  2.49it/s]\n",
      "  0%|          | 0/209 [00:00<?, ?it/s]"
     ]
    },
    {
     "name": "stdout",
     "output_type": "stream",
     "text": [
      " Epoch: 33 Training Loss: 2.149819 Validation Loss: 0.781660 Min Validation Loss 0.781660\n"
     ]
    },
    {
     "name": "stderr",
     "output_type": "stream",
     "text": [
      "100%|██████████| 209/209 [03:21<00:00,  1.04it/s]\n",
      "100%|██████████| 27/27 [00:10<00:00,  2.50it/s]\n",
      "  0%|          | 0/209 [00:00<?, ?it/s]"
     ]
    },
    {
     "name": "stdout",
     "output_type": "stream",
     "text": [
      " Epoch: 34 Training Loss: 2.152064 Validation Loss: 0.785523 Min Validation Loss 0.781660\n"
     ]
    },
    {
     "name": "stderr",
     "output_type": "stream",
     "text": [
      "100%|██████████| 209/209 [03:25<00:00,  1.02it/s]\n",
      "100%|██████████| 27/27 [00:10<00:00,  2.49it/s]\n",
      "  0%|          | 0/209 [00:00<?, ?it/s]"
     ]
    },
    {
     "name": "stdout",
     "output_type": "stream",
     "text": [
      " Epoch: 35 Training Loss: 2.116702 Validation Loss: 0.757525 Min Validation Loss 0.757525\n"
     ]
    },
    {
     "name": "stderr",
     "output_type": "stream",
     "text": [
      "100%|██████████| 209/209 [03:24<00:00,  1.02it/s]\n",
      "100%|██████████| 27/27 [00:10<00:00,  2.50it/s]\n",
      "  0%|          | 0/209 [00:00<?, ?it/s]"
     ]
    },
    {
     "name": "stdout",
     "output_type": "stream",
     "text": [
      " Epoch: 36 Training Loss: 2.086242 Validation Loss: 0.738921 Min Validation Loss 0.738921\n"
     ]
    },
    {
     "name": "stderr",
     "output_type": "stream",
     "text": [
      "100%|██████████| 209/209 [03:28<00:00,  1.00it/s]\n",
      "100%|██████████| 27/27 [00:10<00:00,  2.45it/s]\n",
      "  0%|          | 0/209 [00:00<?, ?it/s]"
     ]
    },
    {
     "name": "stdout",
     "output_type": "stream",
     "text": [
      " Epoch: 37 Training Loss: 2.068300 Validation Loss: 0.748771 Min Validation Loss 0.738921\n"
     ]
    },
    {
     "name": "stderr",
     "output_type": "stream",
     "text": [
      "100%|██████████| 209/209 [03:22<00:00,  1.03it/s]\n",
      "100%|██████████| 27/27 [00:10<00:00,  2.49it/s]\n",
      "  0%|          | 0/209 [00:00<?, ?it/s]"
     ]
    },
    {
     "name": "stdout",
     "output_type": "stream",
     "text": [
      " Epoch: 38 Training Loss: 2.124815 Validation Loss: 0.734319 Min Validation Loss 0.734319\n"
     ]
    },
    {
     "name": "stderr",
     "output_type": "stream",
     "text": [
      "100%|██████████| 209/209 [03:23<00:00,  1.03it/s]\n",
      "100%|██████████| 27/27 [00:10<00:00,  2.52it/s]\n",
      "  0%|          | 0/209 [00:00<?, ?it/s]"
     ]
    },
    {
     "name": "stdout",
     "output_type": "stream",
     "text": [
      " Epoch: 39 Training Loss: 2.121421 Validation Loss: 0.723942 Min Validation Loss 0.723942\n"
     ]
    },
    {
     "name": "stderr",
     "output_type": "stream",
     "text": [
      "100%|██████████| 209/209 [03:30<00:00,  1.01s/it]\n",
      "100%|██████████| 27/27 [00:10<00:00,  2.50it/s]\n",
      "  0%|          | 0/209 [00:00<?, ?it/s]"
     ]
    },
    {
     "name": "stdout",
     "output_type": "stream",
     "text": [
      " Epoch: 40 Training Loss: 2.086694 Validation Loss: 0.729246 Min Validation Loss 0.723942\n"
     ]
    },
    {
     "name": "stderr",
     "output_type": "stream",
     "text": [
      "100%|██████████| 209/209 [03:23<00:00,  1.03it/s]\n",
      "100%|██████████| 27/27 [00:10<00:00,  2.51it/s]\n",
      "  0%|          | 0/209 [00:00<?, ?it/s]"
     ]
    },
    {
     "name": "stdout",
     "output_type": "stream",
     "text": [
      " Epoch: 41 Training Loss: 2.062379 Validation Loss: 0.714362 Min Validation Loss 0.714362\n"
     ]
    },
    {
     "name": "stderr",
     "output_type": "stream",
     "text": [
      "100%|██████████| 209/209 [03:27<00:00,  1.01it/s]\n",
      "100%|██████████| 27/27 [00:10<00:00,  2.50it/s]\n",
      "  0%|          | 0/209 [00:00<?, ?it/s]"
     ]
    },
    {
     "name": "stdout",
     "output_type": "stream",
     "text": [
      " Epoch: 42 Training Loss: 2.071492 Validation Loss: 0.737948 Min Validation Loss 0.714362\n"
     ]
    },
    {
     "name": "stderr",
     "output_type": "stream",
     "text": [
      "100%|██████████| 209/209 [03:20<00:00,  1.04it/s]\n",
      "100%|██████████| 27/27 [00:10<00:00,  2.50it/s]\n",
      "  0%|          | 0/209 [00:00<?, ?it/s]"
     ]
    },
    {
     "name": "stdout",
     "output_type": "stream",
     "text": [
      " Epoch: 43 Training Loss: 2.033868 Validation Loss: 0.696871 Min Validation Loss 0.696871\n"
     ]
    },
    {
     "name": "stderr",
     "output_type": "stream",
     "text": [
      "100%|██████████| 209/209 [03:23<00:00,  1.03it/s]\n",
      "100%|██████████| 27/27 [00:10<00:00,  2.50it/s]\n",
      "  0%|          | 0/209 [00:00<?, ?it/s]"
     ]
    },
    {
     "name": "stdout",
     "output_type": "stream",
     "text": [
      " Epoch: 44 Training Loss: 2.019963 Validation Loss: 0.729741 Min Validation Loss 0.696871\n"
     ]
    },
    {
     "name": "stderr",
     "output_type": "stream",
     "text": [
      "100%|██████████| 209/209 [03:24<00:00,  1.02it/s]\n",
      "100%|██████████| 27/27 [00:10<00:00,  2.46it/s]\n",
      "  0%|          | 0/209 [00:00<?, ?it/s]"
     ]
    },
    {
     "name": "stdout",
     "output_type": "stream",
     "text": [
      " Epoch: 45 Training Loss: 2.045500 Validation Loss: 0.728703 Min Validation Loss 0.696871\n"
     ]
    },
    {
     "name": "stderr",
     "output_type": "stream",
     "text": [
      "100%|██████████| 209/209 [03:25<00:00,  1.02it/s]\n",
      "100%|██████████| 27/27 [00:11<00:00,  2.44it/s]\n",
      "  0%|          | 0/209 [00:00<?, ?it/s]"
     ]
    },
    {
     "name": "stdout",
     "output_type": "stream",
     "text": [
      " Epoch: 46 Training Loss: 2.023936 Validation Loss: 0.707573 Min Validation Loss 0.696871\n"
     ]
    },
    {
     "name": "stderr",
     "output_type": "stream",
     "text": [
      "100%|██████████| 209/209 [03:28<00:00,  1.00it/s]\n",
      "100%|██████████| 27/27 [00:10<00:00,  2.49it/s]\n",
      "  0%|          | 0/209 [00:00<?, ?it/s]"
     ]
    },
    {
     "name": "stdout",
     "output_type": "stream",
     "text": [
      " Epoch: 47 Training Loss: 2.036410 Validation Loss: 0.666495 Min Validation Loss 0.666495\n"
     ]
    },
    {
     "name": "stderr",
     "output_type": "stream",
     "text": [
      "100%|██████████| 209/209 [03:27<00:00,  1.01it/s]\n",
      "100%|██████████| 27/27 [00:10<00:00,  2.51it/s]\n",
      "  0%|          | 0/209 [00:00<?, ?it/s]"
     ]
    },
    {
     "name": "stdout",
     "output_type": "stream",
     "text": [
      " Epoch: 48 Training Loss: 2.022701 Validation Loss: 0.670451 Min Validation Loss 0.666495\n"
     ]
    },
    {
     "name": "stderr",
     "output_type": "stream",
     "text": [
      "100%|██████████| 209/209 [03:27<00:00,  1.01it/s]\n",
      "100%|██████████| 27/27 [00:10<00:00,  2.49it/s]\n",
      "  0%|          | 0/209 [00:00<?, ?it/s]"
     ]
    },
    {
     "name": "stdout",
     "output_type": "stream",
     "text": [
      " Epoch: 49 Training Loss: 2.003186 Validation Loss: 0.659500 Min Validation Loss 0.659500\n"
     ]
    },
    {
     "name": "stderr",
     "output_type": "stream",
     "text": [
      "100%|██████████| 209/209 [03:24<00:00,  1.02it/s]\n",
      "100%|██████████| 27/27 [00:10<00:00,  2.48it/s]\n",
      "  0%|          | 0/209 [00:00<?, ?it/s]"
     ]
    },
    {
     "name": "stdout",
     "output_type": "stream",
     "text": [
      " Epoch: 50 Training Loss: 2.009923 Validation Loss: 0.648519 Min Validation Loss 0.648519\n"
     ]
    },
    {
     "name": "stderr",
     "output_type": "stream",
     "text": [
      "100%|██████████| 209/209 [03:19<00:00,  1.05it/s]\n",
      "100%|██████████| 27/27 [00:10<00:00,  2.49it/s]\n",
      "  0%|          | 0/209 [00:00<?, ?it/s]"
     ]
    },
    {
     "name": "stdout",
     "output_type": "stream",
     "text": [
      " Epoch: 51 Training Loss: 1.991497 Validation Loss: 0.676585 Min Validation Loss 0.648519\n"
     ]
    },
    {
     "name": "stderr",
     "output_type": "stream",
     "text": [
      "100%|██████████| 209/209 [03:26<00:00,  1.01it/s]\n",
      "100%|██████████| 27/27 [00:10<00:00,  2.50it/s]\n",
      "  0%|          | 0/209 [00:00<?, ?it/s]"
     ]
    },
    {
     "name": "stdout",
     "output_type": "stream",
     "text": [
      " Epoch: 52 Training Loss: 1.978760 Validation Loss: 0.645784 Min Validation Loss 0.645784\n"
     ]
    },
    {
     "name": "stderr",
     "output_type": "stream",
     "text": [
      "100%|██████████| 209/209 [03:27<00:00,  1.01it/s]\n",
      "100%|██████████| 27/27 [00:10<00:00,  2.51it/s]\n",
      "  0%|          | 0/209 [00:00<?, ?it/s]"
     ]
    },
    {
     "name": "stdout",
     "output_type": "stream",
     "text": [
      " Epoch: 53 Training Loss: 2.017973 Validation Loss: 0.636846 Min Validation Loss 0.636846\n"
     ]
    },
    {
     "name": "stderr",
     "output_type": "stream",
     "text": [
      "100%|██████████| 209/209 [03:25<00:00,  1.02it/s]\n",
      "100%|██████████| 27/27 [00:10<00:00,  2.49it/s]\n",
      "  0%|          | 0/209 [00:00<?, ?it/s]"
     ]
    },
    {
     "name": "stdout",
     "output_type": "stream",
     "text": [
      " Epoch: 54 Training Loss: 1.995646 Validation Loss: 0.632818 Min Validation Loss 0.632818\n"
     ]
    },
    {
     "name": "stderr",
     "output_type": "stream",
     "text": [
      "100%|██████████| 209/209 [03:25<00:00,  1.01it/s]\n",
      "100%|██████████| 27/27 [00:10<00:00,  2.51it/s]\n",
      "  0%|          | 0/209 [00:00<?, ?it/s]"
     ]
    },
    {
     "name": "stdout",
     "output_type": "stream",
     "text": [
      " Epoch: 55 Training Loss: 1.986916 Validation Loss: 0.648620 Min Validation Loss 0.632818\n"
     ]
    },
    {
     "name": "stderr",
     "output_type": "stream",
     "text": [
      "100%|██████████| 209/209 [03:24<00:00,  1.02it/s]\n",
      "100%|██████████| 27/27 [00:10<00:00,  2.50it/s]\n",
      "  0%|          | 0/209 [00:00<?, ?it/s]"
     ]
    },
    {
     "name": "stdout",
     "output_type": "stream",
     "text": [
      " Epoch: 56 Training Loss: 1.973932 Validation Loss: 0.689056 Min Validation Loss 0.632818\n"
     ]
    },
    {
     "name": "stderr",
     "output_type": "stream",
     "text": [
      "100%|██████████| 209/209 [03:25<00:00,  1.02it/s]\n",
      "100%|██████████| 27/27 [00:10<00:00,  2.50it/s]\n",
      "  0%|          | 0/209 [00:00<?, ?it/s]"
     ]
    },
    {
     "name": "stdout",
     "output_type": "stream",
     "text": [
      " Epoch: 57 Training Loss: 1.967622 Validation Loss: 0.629402 Min Validation Loss 0.629402\n"
     ]
    },
    {
     "name": "stderr",
     "output_type": "stream",
     "text": [
      "100%|██████████| 209/209 [03:26<00:00,  1.01it/s]\n",
      "100%|██████████| 27/27 [00:10<00:00,  2.49it/s]\n",
      "  0%|          | 0/209 [00:00<?, ?it/s]"
     ]
    },
    {
     "name": "stdout",
     "output_type": "stream",
     "text": [
      " Epoch: 58 Training Loss: 1.976764 Validation Loss: 0.624520 Min Validation Loss 0.624520\n"
     ]
    },
    {
     "name": "stderr",
     "output_type": "stream",
     "text": [
      "100%|██████████| 209/209 [03:22<00:00,  1.03it/s]\n",
      "100%|██████████| 27/27 [00:10<00:00,  2.51it/s]\n",
      "  0%|          | 0/209 [00:00<?, ?it/s]"
     ]
    },
    {
     "name": "stdout",
     "output_type": "stream",
     "text": [
      " Epoch: 59 Training Loss: 1.940886 Validation Loss: 0.634385 Min Validation Loss 0.624520\n"
     ]
    },
    {
     "name": "stderr",
     "output_type": "stream",
     "text": [
      "100%|██████████| 209/209 [03:18<00:00,  1.05it/s]\n",
      "100%|██████████| 27/27 [00:11<00:00,  2.41it/s]\n",
      "  0%|          | 0/209 [00:00<?, ?it/s]"
     ]
    },
    {
     "name": "stdout",
     "output_type": "stream",
     "text": [
      " Epoch: 60 Training Loss: 1.970370 Validation Loss: 0.623054 Min Validation Loss 0.623054\n"
     ]
    },
    {
     "name": "stderr",
     "output_type": "stream",
     "text": [
      "100%|██████████| 209/209 [03:27<00:00,  1.01it/s]\n",
      "100%|██████████| 27/27 [00:10<00:00,  2.51it/s]\n",
      "  0%|          | 0/209 [00:00<?, ?it/s]"
     ]
    },
    {
     "name": "stdout",
     "output_type": "stream",
     "text": [
      " Epoch: 61 Training Loss: 1.944999 Validation Loss: 0.606443 Min Validation Loss 0.606443\n"
     ]
    },
    {
     "name": "stderr",
     "output_type": "stream",
     "text": [
      "100%|██████████| 209/209 [03:31<00:00,  1.01s/it]\n",
      "100%|██████████| 27/27 [00:10<00:00,  2.46it/s]\n",
      "  0%|          | 0/209 [00:00<?, ?it/s]"
     ]
    },
    {
     "name": "stdout",
     "output_type": "stream",
     "text": [
      " Epoch: 62 Training Loss: 1.965346 Validation Loss: 0.626348 Min Validation Loss 0.606443\n"
     ]
    },
    {
     "name": "stderr",
     "output_type": "stream",
     "text": [
      "100%|██████████| 209/209 [03:29<00:00,  1.00s/it]\n",
      "100%|██████████| 27/27 [00:11<00:00,  2.42it/s]\n",
      "  0%|          | 0/209 [00:00<?, ?it/s]"
     ]
    },
    {
     "name": "stdout",
     "output_type": "stream",
     "text": [
      " Epoch: 63 Training Loss: 1.942675 Validation Loss: 0.614940 Min Validation Loss 0.606443\n"
     ]
    },
    {
     "name": "stderr",
     "output_type": "stream",
     "text": [
      "100%|██████████| 209/209 [03:24<00:00,  1.02it/s]\n",
      "100%|██████████| 27/27 [00:11<00:00,  2.45it/s]\n",
      "  0%|          | 0/209 [00:00<?, ?it/s]"
     ]
    },
    {
     "name": "stdout",
     "output_type": "stream",
     "text": [
      " Epoch: 64 Training Loss: 1.955644 Validation Loss: 0.601956 Min Validation Loss 0.601956\n"
     ]
    },
    {
     "name": "stderr",
     "output_type": "stream",
     "text": [
      "100%|██████████| 209/209 [03:29<00:00,  1.00s/it]\n",
      "100%|██████████| 27/27 [00:11<00:00,  2.43it/s]\n",
      "  0%|          | 0/209 [00:00<?, ?it/s]"
     ]
    },
    {
     "name": "stdout",
     "output_type": "stream",
     "text": [
      " Epoch: 65 Training Loss: 1.945479 Validation Loss: 0.626087 Min Validation Loss 0.601956\n"
     ]
    },
    {
     "name": "stderr",
     "output_type": "stream",
     "text": [
      "100%|██████████| 209/209 [03:32<00:00,  1.02s/it]\n",
      "100%|██████████| 27/27 [00:11<00:00,  2.41it/s]\n",
      "  0%|          | 0/209 [00:00<?, ?it/s]"
     ]
    },
    {
     "name": "stdout",
     "output_type": "stream",
     "text": [
      " Epoch: 66 Training Loss: 1.909768 Validation Loss: 0.635398 Min Validation Loss 0.601956\n"
     ]
    },
    {
     "name": "stderr",
     "output_type": "stream",
     "text": [
      "100%|██████████| 209/209 [03:31<00:00,  1.01s/it]\n",
      "100%|██████████| 27/27 [00:11<00:00,  2.36it/s]\n",
      "  0%|          | 0/209 [00:00<?, ?it/s]"
     ]
    },
    {
     "name": "stdout",
     "output_type": "stream",
     "text": [
      " Epoch: 67 Training Loss: 1.909928 Validation Loss: 0.591483 Min Validation Loss 0.591483\n"
     ]
    },
    {
     "name": "stderr",
     "output_type": "stream",
     "text": [
      "100%|██████████| 209/209 [03:34<00:00,  1.02s/it]\n",
      "100%|██████████| 27/27 [00:11<00:00,  2.40it/s]\n",
      "  0%|          | 0/209 [00:00<?, ?it/s]"
     ]
    },
    {
     "name": "stdout",
     "output_type": "stream",
     "text": [
      " Epoch: 68 Training Loss: 1.937390 Validation Loss: 0.599403 Min Validation Loss 0.591483\n"
     ]
    },
    {
     "name": "stderr",
     "output_type": "stream",
     "text": [
      "100%|██████████| 209/209 [03:24<00:00,  1.02it/s]\n",
      "100%|██████████| 27/27 [00:11<00:00,  2.41it/s]\n",
      "  0%|          | 0/209 [00:00<?, ?it/s]"
     ]
    },
    {
     "name": "stdout",
     "output_type": "stream",
     "text": [
      " Epoch: 69 Training Loss: 1.893933 Validation Loss: 0.629160 Min Validation Loss 0.591483\n"
     ]
    },
    {
     "name": "stderr",
     "output_type": "stream",
     "text": [
      "100%|██████████| 209/209 [03:28<00:00,  1.00it/s]\n",
      "100%|██████████| 27/27 [00:11<00:00,  2.40it/s]\n",
      "  0%|          | 0/209 [00:00<?, ?it/s]"
     ]
    },
    {
     "name": "stdout",
     "output_type": "stream",
     "text": [
      " Epoch: 70 Training Loss: 1.939463 Validation Loss: 0.599532 Min Validation Loss 0.591483\n"
     ]
    },
    {
     "name": "stderr",
     "output_type": "stream",
     "text": [
      "100%|██████████| 209/209 [03:34<00:00,  1.03s/it]\n",
      "100%|██████████| 27/27 [00:11<00:00,  2.40it/s]\n",
      "  0%|          | 0/209 [00:00<?, ?it/s]"
     ]
    },
    {
     "name": "stdout",
     "output_type": "stream",
     "text": [
      " Epoch: 71 Training Loss: 1.936535 Validation Loss: 0.601341 Min Validation Loss 0.591483\n"
     ]
    },
    {
     "name": "stderr",
     "output_type": "stream",
     "text": [
      "100%|██████████| 209/209 [03:34<00:00,  1.02s/it]\n",
      "100%|██████████| 27/27 [00:11<00:00,  2.41it/s]\n",
      "  0%|          | 0/209 [00:00<?, ?it/s]"
     ]
    },
    {
     "name": "stdout",
     "output_type": "stream",
     "text": [
      " Epoch: 72 Training Loss: 1.911943 Validation Loss: 0.592195 Min Validation Loss 0.591483\n"
     ]
    },
    {
     "name": "stderr",
     "output_type": "stream",
     "text": [
      "100%|██████████| 209/209 [03:31<00:00,  1.01s/it]\n",
      "100%|██████████| 27/27 [00:11<00:00,  2.42it/s]\n",
      "  0%|          | 0/209 [00:00<?, ?it/s]"
     ]
    },
    {
     "name": "stdout",
     "output_type": "stream",
     "text": [
      " Epoch: 73 Training Loss: 1.917970 Validation Loss: 0.576189 Min Validation Loss 0.576189\n"
     ]
    },
    {
     "name": "stderr",
     "output_type": "stream",
     "text": [
      "100%|██████████| 209/209 [03:34<00:00,  1.02s/it]\n",
      "100%|██████████| 27/27 [00:11<00:00,  2.34it/s]\n",
      "  0%|          | 0/209 [00:00<?, ?it/s]"
     ]
    },
    {
     "name": "stdout",
     "output_type": "stream",
     "text": [
      " Epoch: 74 Training Loss: 1.897559 Validation Loss: 0.586655 Min Validation Loss 0.576189\n"
     ]
    },
    {
     "name": "stderr",
     "output_type": "stream",
     "text": [
      "100%|██████████| 209/209 [03:28<00:00,  1.00it/s]\n",
      "100%|██████████| 27/27 [00:11<00:00,  2.40it/s]\n",
      "  0%|          | 0/209 [00:00<?, ?it/s]"
     ]
    },
    {
     "name": "stdout",
     "output_type": "stream",
     "text": [
      " Epoch: 75 Training Loss: 1.915445 Validation Loss: 0.584734 Min Validation Loss 0.576189\n"
     ]
    },
    {
     "name": "stderr",
     "output_type": "stream",
     "text": [
      "100%|██████████| 209/209 [03:36<00:00,  1.04s/it]\n",
      "100%|██████████| 27/27 [00:11<00:00,  2.42it/s]\n",
      "  0%|          | 0/209 [00:00<?, ?it/s]"
     ]
    },
    {
     "name": "stdout",
     "output_type": "stream",
     "text": [
      " Epoch: 76 Training Loss: 1.895120 Validation Loss: 0.625585 Min Validation Loss 0.576189\n"
     ]
    },
    {
     "name": "stderr",
     "output_type": "stream",
     "text": [
      "100%|██████████| 209/209 [03:29<00:00,  1.00s/it]\n",
      "100%|██████████| 27/27 [00:11<00:00,  2.40it/s]\n",
      "  0%|          | 0/209 [00:00<?, ?it/s]"
     ]
    },
    {
     "name": "stdout",
     "output_type": "stream",
     "text": [
      " Epoch: 77 Training Loss: 1.909322 Validation Loss: 0.573453 Min Validation Loss 0.573453\n"
     ]
    },
    {
     "name": "stderr",
     "output_type": "stream",
     "text": [
      "100%|██████████| 209/209 [03:35<00:00,  1.03s/it]\n",
      "100%|██████████| 27/27 [00:11<00:00,  2.35it/s]\n",
      "  0%|          | 0/209 [00:00<?, ?it/s]"
     ]
    },
    {
     "name": "stdout",
     "output_type": "stream",
     "text": [
      " Epoch: 78 Training Loss: 1.888258 Validation Loss: 0.575833 Min Validation Loss 0.573453\n"
     ]
    },
    {
     "name": "stderr",
     "output_type": "stream",
     "text": [
      "100%|██████████| 209/209 [03:35<00:00,  1.03s/it]\n",
      "100%|██████████| 27/27 [00:11<00:00,  2.41it/s]\n",
      "  0%|          | 0/209 [00:00<?, ?it/s]"
     ]
    },
    {
     "name": "stdout",
     "output_type": "stream",
     "text": [
      " Epoch: 79 Training Loss: 1.876020 Validation Loss: 0.562742 Min Validation Loss 0.562742\n"
     ]
    },
    {
     "name": "stderr",
     "output_type": "stream",
     "text": [
      "100%|██████████| 209/209 [03:33<00:00,  1.02s/it]\n",
      "100%|██████████| 27/27 [00:11<00:00,  2.41it/s]\n",
      "  0%|          | 0/209 [00:00<?, ?it/s]"
     ]
    },
    {
     "name": "stdout",
     "output_type": "stream",
     "text": [
      " Epoch: 80 Training Loss: 1.870708 Validation Loss: 0.562162 Min Validation Loss 0.562162\n"
     ]
    },
    {
     "name": "stderr",
     "output_type": "stream",
     "text": [
      "100%|██████████| 209/209 [03:35<00:00,  1.03s/it]\n",
      "100%|██████████| 27/27 [00:11<00:00,  2.39it/s]\n",
      "  0%|          | 0/209 [00:00<?, ?it/s]"
     ]
    },
    {
     "name": "stdout",
     "output_type": "stream",
     "text": [
      " Epoch: 81 Training Loss: 1.865330 Validation Loss: 0.554588 Min Validation Loss 0.554588\n"
     ]
    },
    {
     "name": "stderr",
     "output_type": "stream",
     "text": [
      "100%|██████████| 209/209 [03:39<00:00,  1.05s/it]\n",
      "100%|██████████| 27/27 [00:11<00:00,  2.32it/s]\n",
      "  0%|          | 0/209 [00:00<?, ?it/s]"
     ]
    },
    {
     "name": "stdout",
     "output_type": "stream",
     "text": [
      " Epoch: 82 Training Loss: 1.883679 Validation Loss: 0.578447 Min Validation Loss 0.554588\n"
     ]
    },
    {
     "name": "stderr",
     "output_type": "stream",
     "text": [
      "100%|██████████| 209/209 [03:35<00:00,  1.03s/it]\n",
      "100%|██████████| 27/27 [00:11<00:00,  2.36it/s]\n",
      "  0%|          | 0/209 [00:00<?, ?it/s]"
     ]
    },
    {
     "name": "stdout",
     "output_type": "stream",
     "text": [
      " Epoch: 83 Training Loss: 1.879303 Validation Loss: 0.560989 Min Validation Loss 0.554588\n"
     ]
    },
    {
     "name": "stderr",
     "output_type": "stream",
     "text": [
      "100%|██████████| 209/209 [03:31<00:00,  1.01s/it]\n",
      "100%|██████████| 27/27 [00:11<00:00,  2.41it/s]\n",
      "  0%|          | 0/209 [00:00<?, ?it/s]"
     ]
    },
    {
     "name": "stdout",
     "output_type": "stream",
     "text": [
      " Epoch: 84 Training Loss: 1.871098 Validation Loss: 0.600161 Min Validation Loss 0.554588\n"
     ]
    },
    {
     "name": "stderr",
     "output_type": "stream",
     "text": [
      "100%|██████████| 209/209 [03:36<00:00,  1.04s/it]\n",
      "100%|██████████| 27/27 [00:11<00:00,  2.38it/s]\n",
      "  0%|          | 0/209 [00:00<?, ?it/s]"
     ]
    },
    {
     "name": "stdout",
     "output_type": "stream",
     "text": [
      " Epoch: 85 Training Loss: 1.885035 Validation Loss: 0.567456 Min Validation Loss 0.554588\n"
     ]
    },
    {
     "name": "stderr",
     "output_type": "stream",
     "text": [
      "100%|██████████| 209/209 [03:27<00:00,  1.01it/s]\n",
      "100%|██████████| 27/27 [00:10<00:00,  2.49it/s]\n",
      "  0%|          | 0/209 [00:00<?, ?it/s]"
     ]
    },
    {
     "name": "stdout",
     "output_type": "stream",
     "text": [
      " Epoch: 86 Training Loss: 1.852253 Validation Loss: 0.550703 Min Validation Loss 0.550703\n"
     ]
    },
    {
     "name": "stderr",
     "output_type": "stream",
     "text": [
      "100%|██████████| 209/209 [03:16<00:00,  1.07it/s]\n",
      "100%|██████████| 27/27 [00:10<00:00,  2.49it/s]\n",
      "  0%|          | 0/209 [00:00<?, ?it/s]"
     ]
    },
    {
     "name": "stdout",
     "output_type": "stream",
     "text": [
      " Epoch: 87 Training Loss: 1.848286 Validation Loss: 0.589953 Min Validation Loss 0.550703\n"
     ]
    },
    {
     "name": "stderr",
     "output_type": "stream",
     "text": [
      "100%|██████████| 209/209 [03:26<00:00,  1.01it/s]\n",
      "100%|██████████| 27/27 [00:11<00:00,  2.45it/s]\n",
      "  0%|          | 0/209 [00:00<?, ?it/s]"
     ]
    },
    {
     "name": "stdout",
     "output_type": "stream",
     "text": [
      " Epoch: 88 Training Loss: 1.895589 Validation Loss: 0.584967 Min Validation Loss 0.550703\n"
     ]
    },
    {
     "name": "stderr",
     "output_type": "stream",
     "text": [
      "100%|██████████| 209/209 [03:22<00:00,  1.03it/s]\n",
      "100%|██████████| 27/27 [00:11<00:00,  2.44it/s]\n",
      "  0%|          | 0/209 [00:00<?, ?it/s]"
     ]
    },
    {
     "name": "stdout",
     "output_type": "stream",
     "text": [
      " Epoch: 89 Training Loss: 1.864594 Validation Loss: 0.552604 Min Validation Loss 0.550703\n"
     ]
    },
    {
     "name": "stderr",
     "output_type": "stream",
     "text": [
      "100%|██████████| 209/209 [03:27<00:00,  1.01it/s]\n",
      "100%|██████████| 27/27 [00:10<00:00,  2.46it/s]\n",
      "  0%|          | 0/209 [00:00<?, ?it/s]"
     ]
    },
    {
     "name": "stdout",
     "output_type": "stream",
     "text": [
      " Epoch: 90 Training Loss: 1.857259 Validation Loss: 0.563854 Min Validation Loss 0.550703\n"
     ]
    },
    {
     "name": "stderr",
     "output_type": "stream",
     "text": [
      "100%|██████████| 209/209 [03:26<00:00,  1.01it/s]\n",
      "100%|██████████| 27/27 [00:11<00:00,  2.45it/s]\n",
      "  0%|          | 0/209 [00:00<?, ?it/s]"
     ]
    },
    {
     "name": "stdout",
     "output_type": "stream",
     "text": [
      " Epoch: 91 Training Loss: 1.814308 Validation Loss: 0.548616 Min Validation Loss 0.548616\n"
     ]
    },
    {
     "name": "stderr",
     "output_type": "stream",
     "text": [
      "100%|██████████| 209/209 [03:24<00:00,  1.02it/s]\n",
      "100%|██████████| 27/27 [00:11<00:00,  2.45it/s]\n",
      "  0%|          | 0/209 [00:00<?, ?it/s]"
     ]
    },
    {
     "name": "stdout",
     "output_type": "stream",
     "text": [
      " Epoch: 92 Training Loss: 1.841646 Validation Loss: 0.545820 Min Validation Loss 0.545820\n"
     ]
    },
    {
     "name": "stderr",
     "output_type": "stream",
     "text": [
      "100%|██████████| 209/209 [03:33<00:00,  1.02s/it]\n",
      "100%|██████████| 27/27 [00:11<00:00,  2.43it/s]\n",
      "  0%|          | 0/209 [00:00<?, ?it/s]"
     ]
    },
    {
     "name": "stdout",
     "output_type": "stream",
     "text": [
      " Epoch: 93 Training Loss: 1.852243 Validation Loss: 0.558124 Min Validation Loss 0.545820\n"
     ]
    },
    {
     "name": "stderr",
     "output_type": "stream",
     "text": [
      "100%|██████████| 209/209 [03:35<00:00,  1.03s/it]\n",
      "100%|██████████| 27/27 [00:11<00:00,  2.41it/s]\n",
      "  0%|          | 0/209 [00:00<?, ?it/s]"
     ]
    },
    {
     "name": "stdout",
     "output_type": "stream",
     "text": [
      " Epoch: 94 Training Loss: 1.862376 Validation Loss: 0.547237 Min Validation Loss 0.545820\n"
     ]
    },
    {
     "name": "stderr",
     "output_type": "stream",
     "text": [
      "100%|██████████| 209/209 [03:29<00:00,  1.00s/it]\n",
      "100%|██████████| 27/27 [00:11<00:00,  2.41it/s]\n",
      "  0%|          | 0/209 [00:00<?, ?it/s]"
     ]
    },
    {
     "name": "stdout",
     "output_type": "stream",
     "text": [
      " Epoch: 95 Training Loss: 1.850135 Validation Loss: 0.547033 Min Validation Loss 0.545820\n"
     ]
    },
    {
     "name": "stderr",
     "output_type": "stream",
     "text": [
      "100%|██████████| 209/209 [03:27<00:00,  1.01it/s]\n",
      "100%|██████████| 27/27 [00:11<00:00,  2.45it/s]\n",
      "  0%|          | 0/209 [00:00<?, ?it/s]"
     ]
    },
    {
     "name": "stdout",
     "output_type": "stream",
     "text": [
      " Epoch: 96 Training Loss: 1.841597 Validation Loss: 0.565363 Min Validation Loss 0.545820\n"
     ]
    },
    {
     "name": "stderr",
     "output_type": "stream",
     "text": [
      "100%|██████████| 209/209 [03:30<00:00,  1.01s/it]\n",
      "100%|██████████| 27/27 [00:10<00:00,  2.46it/s]\n",
      "  0%|          | 0/209 [00:00<?, ?it/s]"
     ]
    },
    {
     "name": "stdout",
     "output_type": "stream",
     "text": [
      " Epoch: 97 Training Loss: 1.865765 Validation Loss: 0.579787 Min Validation Loss 0.545820\n"
     ]
    },
    {
     "name": "stderr",
     "output_type": "stream",
     "text": [
      "100%|██████████| 209/209 [03:21<00:00,  1.04it/s]\n",
      "100%|██████████| 27/27 [00:11<00:00,  2.43it/s]\n",
      "  0%|          | 0/209 [00:00<?, ?it/s]"
     ]
    },
    {
     "name": "stdout",
     "output_type": "stream",
     "text": [
      " Epoch: 98 Training Loss: 1.836094 Validation Loss: 0.542402 Min Validation Loss 0.542402\n"
     ]
    },
    {
     "name": "stderr",
     "output_type": "stream",
     "text": [
      "100%|██████████| 209/209 [03:30<00:00,  1.01s/it]\n",
      "100%|██████████| 27/27 [00:11<00:00,  2.40it/s]\n",
      "  0%|          | 0/209 [00:00<?, ?it/s]"
     ]
    },
    {
     "name": "stdout",
     "output_type": "stream",
     "text": [
      " Epoch: 99 Training Loss: 1.833319 Validation Loss: 0.533781 Min Validation Loss 0.533781\n"
     ]
    },
    {
     "name": "stderr",
     "output_type": "stream",
     "text": [
      "100%|██████████| 209/209 [03:28<00:00,  1.00it/s]\n",
      "100%|██████████| 27/27 [00:11<00:00,  2.45it/s]\n",
      "  0%|          | 0/209 [00:00<?, ?it/s]"
     ]
    },
    {
     "name": "stdout",
     "output_type": "stream",
     "text": [
      " Epoch: 100 Training Loss: 1.816213 Validation Loss: 0.560566 Min Validation Loss 0.533781\n"
     ]
    },
    {
     "name": "stderr",
     "output_type": "stream",
     "text": [
      "100%|██████████| 209/209 [03:29<00:00,  1.00s/it]\n",
      "100%|██████████| 27/27 [00:11<00:00,  2.40it/s]\n",
      "  0%|          | 0/209 [00:00<?, ?it/s]"
     ]
    },
    {
     "name": "stdout",
     "output_type": "stream",
     "text": [
      " Epoch: 101 Training Loss: 1.836717 Validation Loss: 0.558026 Min Validation Loss 0.533781\n"
     ]
    },
    {
     "name": "stderr",
     "output_type": "stream",
     "text": [
      "100%|██████████| 209/209 [03:24<00:00,  1.02it/s]\n",
      "100%|██████████| 27/27 [00:11<00:00,  2.42it/s]\n",
      "  0%|          | 0/209 [00:00<?, ?it/s]"
     ]
    },
    {
     "name": "stdout",
     "output_type": "stream",
     "text": [
      " Epoch: 102 Training Loss: 1.835342 Validation Loss: 0.533326 Min Validation Loss 0.533326\n"
     ]
    },
    {
     "name": "stderr",
     "output_type": "stream",
     "text": [
      "100%|██████████| 209/209 [03:29<00:00,  1.00s/it]\n",
      "100%|██████████| 27/27 [00:11<00:00,  2.41it/s]\n",
      "  0%|          | 0/209 [00:00<?, ?it/s]"
     ]
    },
    {
     "name": "stdout",
     "output_type": "stream",
     "text": [
      " Epoch: 103 Training Loss: 1.819166 Validation Loss: 0.554639 Min Validation Loss 0.533326\n"
     ]
    },
    {
     "name": "stderr",
     "output_type": "stream",
     "text": [
      "100%|██████████| 209/209 [03:36<00:00,  1.03s/it]\n",
      "100%|██████████| 27/27 [00:11<00:00,  2.39it/s]\n",
      "  0%|          | 0/209 [00:00<?, ?it/s]"
     ]
    },
    {
     "name": "stdout",
     "output_type": "stream",
     "text": [
      " Epoch: 104 Training Loss: 1.811688 Validation Loss: 0.541877 Min Validation Loss 0.533326\n"
     ]
    },
    {
     "name": "stderr",
     "output_type": "stream",
     "text": [
      "100%|██████████| 209/209 [03:34<00:00,  1.03s/it]\n",
      "100%|██████████| 27/27 [00:11<00:00,  2.40it/s]\n",
      "  0%|          | 0/209 [00:00<?, ?it/s]"
     ]
    },
    {
     "name": "stdout",
     "output_type": "stream",
     "text": [
      " Epoch: 105 Training Loss: 1.832541 Validation Loss: 0.539511 Min Validation Loss 0.533326\n"
     ]
    },
    {
     "name": "stderr",
     "output_type": "stream",
     "text": [
      "100%|██████████| 209/209 [03:25<00:00,  1.02it/s]\n",
      "100%|██████████| 27/27 [00:11<00:00,  2.43it/s]\n",
      "  0%|          | 0/209 [00:00<?, ?it/s]"
     ]
    },
    {
     "name": "stdout",
     "output_type": "stream",
     "text": [
      " Epoch: 106 Training Loss: 1.824534 Validation Loss: 0.576307 Min Validation Loss 0.533326\n"
     ]
    },
    {
     "name": "stderr",
     "output_type": "stream",
     "text": [
      "100%|██████████| 209/209 [03:27<00:00,  1.01it/s]\n",
      "100%|██████████| 27/27 [00:11<00:00,  2.37it/s]\n",
      "  0%|          | 0/209 [00:00<?, ?it/s]"
     ]
    },
    {
     "name": "stdout",
     "output_type": "stream",
     "text": [
      " Epoch: 107 Training Loss: 1.840991 Validation Loss: 0.557750 Min Validation Loss 0.533326\n"
     ]
    },
    {
     "name": "stderr",
     "output_type": "stream",
     "text": [
      "100%|██████████| 209/209 [03:32<00:00,  1.02s/it]\n",
      "100%|██████████| 27/27 [00:11<00:00,  2.43it/s]\n",
      "  0%|          | 0/209 [00:00<?, ?it/s]"
     ]
    },
    {
     "name": "stdout",
     "output_type": "stream",
     "text": [
      " Epoch: 108 Training Loss: 1.826652 Validation Loss: 0.518747 Min Validation Loss 0.518747\n"
     ]
    },
    {
     "name": "stderr",
     "output_type": "stream",
     "text": [
      "100%|██████████| 209/209 [03:26<00:00,  1.01it/s]\n",
      "100%|██████████| 27/27 [00:11<00:00,  2.40it/s]\n",
      "  0%|          | 0/209 [00:00<?, ?it/s]"
     ]
    },
    {
     "name": "stdout",
     "output_type": "stream",
     "text": [
      " Epoch: 109 Training Loss: 1.808020 Validation Loss: 0.545379 Min Validation Loss 0.518747\n"
     ]
    },
    {
     "name": "stderr",
     "output_type": "stream",
     "text": [
      "100%|██████████| 209/209 [03:31<00:00,  1.01s/it]\n",
      "100%|██████████| 27/27 [00:11<00:00,  2.44it/s]\n",
      "  0%|          | 0/209 [00:00<?, ?it/s]"
     ]
    },
    {
     "name": "stdout",
     "output_type": "stream",
     "text": [
      " Epoch: 110 Training Loss: 1.780089 Validation Loss: 0.518024 Min Validation Loss 0.518024\n"
     ]
    },
    {
     "name": "stderr",
     "output_type": "stream",
     "text": [
      "100%|██████████| 209/209 [03:29<00:00,  1.00s/it]\n",
      "100%|██████████| 27/27 [00:11<00:00,  2.44it/s]\n",
      "  0%|          | 0/209 [00:00<?, ?it/s]"
     ]
    },
    {
     "name": "stdout",
     "output_type": "stream",
     "text": [
      " Epoch: 111 Training Loss: 1.824719 Validation Loss: 0.580229 Min Validation Loss 0.518024\n"
     ]
    },
    {
     "name": "stderr",
     "output_type": "stream",
     "text": [
      "100%|██████████| 209/209 [03:27<00:00,  1.01it/s]\n",
      "100%|██████████| 27/27 [00:11<00:00,  2.45it/s]\n",
      "  0%|          | 0/209 [00:00<?, ?it/s]"
     ]
    },
    {
     "name": "stdout",
     "output_type": "stream",
     "text": [
      " Epoch: 112 Training Loss: 1.787085 Validation Loss: 0.541575 Min Validation Loss 0.518024\n"
     ]
    },
    {
     "name": "stderr",
     "output_type": "stream",
     "text": [
      "100%|██████████| 209/209 [03:31<00:00,  1.01s/it]\n",
      "100%|██████████| 27/27 [00:11<00:00,  2.43it/s]\n",
      "  0%|          | 0/209 [00:00<?, ?it/s]"
     ]
    },
    {
     "name": "stdout",
     "output_type": "stream",
     "text": [
      " Epoch: 113 Training Loss: 1.828329 Validation Loss: 0.525537 Min Validation Loss 0.518024\n"
     ]
    },
    {
     "name": "stderr",
     "output_type": "stream",
     "text": [
      "100%|██████████| 209/209 [03:31<00:00,  1.01s/it]\n",
      "100%|██████████| 27/27 [00:11<00:00,  2.40it/s]\n",
      "  0%|          | 0/209 [00:00<?, ?it/s]"
     ]
    },
    {
     "name": "stdout",
     "output_type": "stream",
     "text": [
      " Epoch: 114 Training Loss: 1.810636 Validation Loss: 0.518826 Min Validation Loss 0.518024\n"
     ]
    },
    {
     "name": "stderr",
     "output_type": "stream",
     "text": [
      "100%|██████████| 209/209 [03:23<00:00,  1.03it/s]\n",
      "100%|██████████| 27/27 [00:11<00:00,  2.43it/s]\n",
      "  0%|          | 0/209 [00:00<?, ?it/s]"
     ]
    },
    {
     "name": "stdout",
     "output_type": "stream",
     "text": [
      " Epoch: 115 Training Loss: 1.793327 Validation Loss: 0.516566 Min Validation Loss 0.516566\n"
     ]
    },
    {
     "name": "stderr",
     "output_type": "stream",
     "text": [
      "100%|██████████| 209/209 [03:30<00:00,  1.00s/it]\n",
      "100%|██████████| 27/27 [00:11<00:00,  2.43it/s]\n",
      "  0%|          | 0/209 [00:00<?, ?it/s]"
     ]
    },
    {
     "name": "stdout",
     "output_type": "stream",
     "text": [
      " Epoch: 116 Training Loss: 1.830720 Validation Loss: 0.545617 Min Validation Loss 0.516566\n"
     ]
    },
    {
     "name": "stderr",
     "output_type": "stream",
     "text": [
      "100%|██████████| 209/209 [03:28<00:00,  1.00it/s]\n",
      "100%|██████████| 27/27 [00:11<00:00,  2.42it/s]\n",
      "  0%|          | 0/209 [00:00<?, ?it/s]"
     ]
    },
    {
     "name": "stdout",
     "output_type": "stream",
     "text": [
      " Epoch: 117 Training Loss: 1.799417 Validation Loss: 0.521610 Min Validation Loss 0.516566\n"
     ]
    },
    {
     "name": "stderr",
     "output_type": "stream",
     "text": [
      "100%|██████████| 209/209 [03:28<00:00,  1.00it/s]\n",
      "100%|██████████| 27/27 [00:11<00:00,  2.45it/s]\n",
      "  0%|          | 0/209 [00:00<?, ?it/s]"
     ]
    },
    {
     "name": "stdout",
     "output_type": "stream",
     "text": [
      " Epoch: 118 Training Loss: 1.808319 Validation Loss: 0.518191 Min Validation Loss 0.516566\n"
     ]
    },
    {
     "name": "stderr",
     "output_type": "stream",
     "text": [
      "100%|██████████| 209/209 [03:27<00:00,  1.01it/s]\n",
      "100%|██████████| 27/27 [00:11<00:00,  2.45it/s]\n",
      "  0%|          | 0/209 [00:00<?, ?it/s]"
     ]
    },
    {
     "name": "stdout",
     "output_type": "stream",
     "text": [
      " Epoch: 119 Training Loss: 1.806098 Validation Loss: 0.506976 Min Validation Loss 0.506976\n"
     ]
    },
    {
     "name": "stderr",
     "output_type": "stream",
     "text": [
      "100%|██████████| 209/209 [03:25<00:00,  1.02it/s]\n",
      "100%|██████████| 27/27 [00:10<00:00,  2.50it/s]\n",
      "  0%|          | 0/209 [00:00<?, ?it/s]"
     ]
    },
    {
     "name": "stdout",
     "output_type": "stream",
     "text": [
      " Epoch: 120 Training Loss: 1.810579 Validation Loss: 0.511678 Min Validation Loss 0.506976\n"
     ]
    },
    {
     "name": "stderr",
     "output_type": "stream",
     "text": [
      "100%|██████████| 209/209 [03:23<00:00,  1.03it/s]\n",
      "100%|██████████| 27/27 [00:10<00:00,  2.47it/s]\n",
      "  0%|          | 0/209 [00:00<?, ?it/s]"
     ]
    },
    {
     "name": "stdout",
     "output_type": "stream",
     "text": [
      " Epoch: 121 Training Loss: 1.808008 Validation Loss: 0.515281 Min Validation Loss 0.506976\n"
     ]
    },
    {
     "name": "stderr",
     "output_type": "stream",
     "text": [
      "100%|██████████| 209/209 [03:18<00:00,  1.05it/s]\n",
      "100%|██████████| 27/27 [00:10<00:00,  2.55it/s]\n",
      "  0%|          | 0/209 [00:00<?, ?it/s]"
     ]
    },
    {
     "name": "stdout",
     "output_type": "stream",
     "text": [
      " Epoch: 122 Training Loss: 1.793994 Validation Loss: 0.510389 Min Validation Loss 0.506976\n"
     ]
    },
    {
     "name": "stderr",
     "output_type": "stream",
     "text": [
      "100%|██████████| 209/209 [03:19<00:00,  1.05it/s]\n",
      "100%|██████████| 27/27 [00:10<00:00,  2.55it/s]\n",
      "  0%|          | 0/209 [00:00<?, ?it/s]"
     ]
    },
    {
     "name": "stdout",
     "output_type": "stream",
     "text": [
      " Epoch: 123 Training Loss: 1.819448 Validation Loss: 0.503711 Min Validation Loss 0.503711\n"
     ]
    },
    {
     "name": "stderr",
     "output_type": "stream",
     "text": [
      "100%|██████████| 209/209 [03:23<00:00,  1.03it/s]\n",
      "100%|██████████| 27/27 [00:10<00:00,  2.49it/s]\n",
      "  0%|          | 0/209 [00:00<?, ?it/s]"
     ]
    },
    {
     "name": "stdout",
     "output_type": "stream",
     "text": [
      " Epoch: 124 Training Loss: 1.781178 Validation Loss: 0.512136 Min Validation Loss 0.503711\n"
     ]
    },
    {
     "name": "stderr",
     "output_type": "stream",
     "text": [
      "100%|██████████| 209/209 [03:19<00:00,  1.05it/s]\n",
      "100%|██████████| 27/27 [00:10<00:00,  2.46it/s]\n",
      "  0%|          | 0/209 [00:00<?, ?it/s]"
     ]
    },
    {
     "name": "stdout",
     "output_type": "stream",
     "text": [
      " Epoch: 125 Training Loss: 1.798854 Validation Loss: 0.537392 Min Validation Loss 0.503711\n"
     ]
    },
    {
     "name": "stderr",
     "output_type": "stream",
     "text": [
      "100%|██████████| 209/209 [03:20<00:00,  1.04it/s]\n",
      "100%|██████████| 27/27 [00:11<00:00,  2.45it/s]\n",
      "  0%|          | 0/209 [00:00<?, ?it/s]"
     ]
    },
    {
     "name": "stdout",
     "output_type": "stream",
     "text": [
      " Epoch: 126 Training Loss: 1.788004 Validation Loss: 0.513735 Min Validation Loss 0.503711\n"
     ]
    },
    {
     "name": "stderr",
     "output_type": "stream",
     "text": [
      "100%|██████████| 209/209 [03:29<00:00,  1.00s/it]\n",
      "100%|██████████| 27/27 [00:11<00:00,  2.41it/s]\n",
      "  0%|          | 0/209 [00:00<?, ?it/s]"
     ]
    },
    {
     "name": "stdout",
     "output_type": "stream",
     "text": [
      " Epoch: 127 Training Loss: 1.794532 Validation Loss: 0.512509 Min Validation Loss 0.503711\n"
     ]
    },
    {
     "name": "stderr",
     "output_type": "stream",
     "text": [
      "100%|██████████| 209/209 [03:27<00:00,  1.01it/s]\n",
      "100%|██████████| 27/27 [00:11<00:00,  2.40it/s]\n",
      "  0%|          | 0/209 [00:00<?, ?it/s]"
     ]
    },
    {
     "name": "stdout",
     "output_type": "stream",
     "text": [
      " Epoch: 128 Training Loss: 1.828648 Validation Loss: 0.527369 Min Validation Loss 0.503711\n"
     ]
    },
    {
     "name": "stderr",
     "output_type": "stream",
     "text": [
      "100%|██████████| 209/209 [03:27<00:00,  1.01it/s]\n",
      "100%|██████████| 27/27 [00:11<00:00,  2.35it/s]\n",
      "  0%|          | 0/209 [00:00<?, ?it/s]"
     ]
    },
    {
     "name": "stdout",
     "output_type": "stream",
     "text": [
      " Epoch: 129 Training Loss: 1.764125 Validation Loss: 0.504211 Min Validation Loss 0.503711\n"
     ]
    },
    {
     "name": "stderr",
     "output_type": "stream",
     "text": [
      "100%|██████████| 209/209 [03:33<00:00,  1.02s/it]\n",
      "100%|██████████| 27/27 [00:11<00:00,  2.44it/s]\n",
      "  0%|          | 0/209 [00:00<?, ?it/s]"
     ]
    },
    {
     "name": "stdout",
     "output_type": "stream",
     "text": [
      " Epoch: 130 Training Loss: 1.761233 Validation Loss: 0.514468 Min Validation Loss 0.503711\n"
     ]
    },
    {
     "name": "stderr",
     "output_type": "stream",
     "text": [
      "100%|██████████| 209/209 [03:34<00:00,  1.03s/it]\n",
      "100%|██████████| 27/27 [00:11<00:00,  2.39it/s]\n",
      "  0%|          | 0/209 [00:00<?, ?it/s]"
     ]
    },
    {
     "name": "stdout",
     "output_type": "stream",
     "text": [
      " Epoch: 131 Training Loss: 1.810241 Validation Loss: 0.506857 Min Validation Loss 0.503711\n"
     ]
    },
    {
     "name": "stderr",
     "output_type": "stream",
     "text": [
      "100%|██████████| 209/209 [03:34<00:00,  1.03s/it]\n",
      "100%|██████████| 27/27 [00:11<00:00,  2.41it/s]\n",
      "  0%|          | 0/209 [00:00<?, ?it/s]"
     ]
    },
    {
     "name": "stdout",
     "output_type": "stream",
     "text": [
      " Epoch: 132 Training Loss: 1.786043 Validation Loss: 0.499836 Min Validation Loss 0.499836\n"
     ]
    },
    {
     "name": "stderr",
     "output_type": "stream",
     "text": [
      "100%|██████████| 209/209 [03:34<00:00,  1.03s/it]\n",
      "100%|██████████| 27/27 [00:11<00:00,  2.38it/s]\n",
      "  0%|          | 0/209 [00:00<?, ?it/s]"
     ]
    },
    {
     "name": "stdout",
     "output_type": "stream",
     "text": [
      " Epoch: 133 Training Loss: 1.772082 Validation Loss: 0.512972 Min Validation Loss 0.499836\n"
     ]
    },
    {
     "name": "stderr",
     "output_type": "stream",
     "text": [
      "100%|██████████| 209/209 [03:28<00:00,  1.00it/s]\n",
      "100%|██████████| 27/27 [00:11<00:00,  2.39it/s]\n",
      "  0%|          | 0/209 [00:00<?, ?it/s]"
     ]
    },
    {
     "name": "stdout",
     "output_type": "stream",
     "text": [
      " Epoch: 134 Training Loss: 1.763461 Validation Loss: 0.528556 Min Validation Loss 0.499836\n"
     ]
    },
    {
     "name": "stderr",
     "output_type": "stream",
     "text": [
      "100%|██████████| 209/209 [03:29<00:00,  1.00s/it]\n",
      "100%|██████████| 27/27 [00:11<00:00,  2.38it/s]\n",
      "  0%|          | 0/209 [00:00<?, ?it/s]"
     ]
    },
    {
     "name": "stdout",
     "output_type": "stream",
     "text": [
      " Epoch: 135 Training Loss: 1.787304 Validation Loss: 0.498615 Min Validation Loss 0.498615\n"
     ]
    },
    {
     "name": "stderr",
     "output_type": "stream",
     "text": [
      "100%|██████████| 209/209 [03:34<00:00,  1.02s/it]\n",
      "100%|██████████| 27/27 [00:11<00:00,  2.41it/s]\n",
      "  0%|          | 0/209 [00:00<?, ?it/s]"
     ]
    },
    {
     "name": "stdout",
     "output_type": "stream",
     "text": [
      " Epoch: 136 Training Loss: 1.783233 Validation Loss: 0.499926 Min Validation Loss 0.498615\n"
     ]
    },
    {
     "name": "stderr",
     "output_type": "stream",
     "text": [
      "100%|██████████| 209/209 [03:24<00:00,  1.02it/s]\n",
      "100%|██████████| 27/27 [00:11<00:00,  2.40it/s]\n",
      "  0%|          | 0/209 [00:00<?, ?it/s]"
     ]
    },
    {
     "name": "stdout",
     "output_type": "stream",
     "text": [
      " Epoch: 137 Training Loss: 1.793432 Validation Loss: 0.488432 Min Validation Loss 0.488432\n"
     ]
    },
    {
     "name": "stderr",
     "output_type": "stream",
     "text": [
      "100%|██████████| 209/209 [03:30<00:00,  1.01s/it]\n",
      "100%|██████████| 27/27 [00:11<00:00,  2.41it/s]\n",
      "  0%|          | 0/209 [00:00<?, ?it/s]"
     ]
    },
    {
     "name": "stdout",
     "output_type": "stream",
     "text": [
      " Epoch: 138 Training Loss: 1.770277 Validation Loss: 0.534211 Min Validation Loss 0.488432\n"
     ]
    },
    {
     "name": "stderr",
     "output_type": "stream",
     "text": [
      "100%|██████████| 209/209 [03:29<00:00,  1.00s/it]\n",
      "100%|██████████| 27/27 [00:11<00:00,  2.36it/s]\n",
      "  0%|          | 0/209 [00:00<?, ?it/s]"
     ]
    },
    {
     "name": "stdout",
     "output_type": "stream",
     "text": [
      " Epoch: 139 Training Loss: 1.781727 Validation Loss: 0.492668 Min Validation Loss 0.488432\n"
     ]
    },
    {
     "name": "stderr",
     "output_type": "stream",
     "text": [
      "100%|██████████| 209/209 [03:31<00:00,  1.01s/it]\n",
      "100%|██████████| 27/27 [00:11<00:00,  2.42it/s]\n",
      "  0%|          | 0/209 [00:00<?, ?it/s]"
     ]
    },
    {
     "name": "stdout",
     "output_type": "stream",
     "text": [
      " Epoch: 140 Training Loss: 1.761046 Validation Loss: 0.530061 Min Validation Loss 0.488432\n"
     ]
    },
    {
     "name": "stderr",
     "output_type": "stream",
     "text": [
      "100%|██████████| 209/209 [03:27<00:00,  1.01it/s]\n",
      "100%|██████████| 27/27 [00:11<00:00,  2.44it/s]\n",
      "  0%|          | 0/209 [00:00<?, ?it/s]"
     ]
    },
    {
     "name": "stdout",
     "output_type": "stream",
     "text": [
      " Epoch: 141 Training Loss: 1.796954 Validation Loss: 0.524432 Min Validation Loss 0.488432\n"
     ]
    },
    {
     "name": "stderr",
     "output_type": "stream",
     "text": [
      "100%|██████████| 209/209 [03:27<00:00,  1.01it/s]\n",
      "100%|██████████| 27/27 [00:10<00:00,  2.49it/s]\n",
      "  0%|          | 0/209 [00:00<?, ?it/s]"
     ]
    },
    {
     "name": "stdout",
     "output_type": "stream",
     "text": [
      " Epoch: 142 Training Loss: 1.775695 Validation Loss: 0.502848 Min Validation Loss 0.488432\n"
     ]
    },
    {
     "name": "stderr",
     "output_type": "stream",
     "text": [
      "100%|██████████| 209/209 [03:27<00:00,  1.01it/s]\n",
      "100%|██████████| 27/27 [00:11<00:00,  2.43it/s]\n",
      "  0%|          | 0/209 [00:00<?, ?it/s]"
     ]
    },
    {
     "name": "stdout",
     "output_type": "stream",
     "text": [
      " Epoch: 143 Training Loss: 1.807847 Validation Loss: 0.543251 Min Validation Loss 0.488432\n"
     ]
    },
    {
     "name": "stderr",
     "output_type": "stream",
     "text": [
      "100%|██████████| 209/209 [03:13<00:00,  1.08it/s]\n",
      "100%|██████████| 27/27 [00:10<00:00,  2.54it/s]\n",
      "  0%|          | 0/209 [00:00<?, ?it/s]"
     ]
    },
    {
     "name": "stdout",
     "output_type": "stream",
     "text": [
      " Epoch: 144 Training Loss: 1.762641 Validation Loss: 0.495165 Min Validation Loss 0.488432\n"
     ]
    },
    {
     "name": "stderr",
     "output_type": "stream",
     "text": [
      "100%|██████████| 209/209 [03:19<00:00,  1.05it/s]\n",
      "100%|██████████| 27/27 [00:10<00:00,  2.51it/s]\n",
      "  0%|          | 0/209 [00:00<?, ?it/s]"
     ]
    },
    {
     "name": "stdout",
     "output_type": "stream",
     "text": [
      " Epoch: 145 Training Loss: 1.756555 Validation Loss: 0.537287 Min Validation Loss 0.488432\n"
     ]
    },
    {
     "name": "stderr",
     "output_type": "stream",
     "text": [
      "100%|██████████| 209/209 [03:25<00:00,  1.01it/s]\n",
      "100%|██████████| 27/27 [00:11<00:00,  2.41it/s]\n",
      "  0%|          | 0/209 [00:00<?, ?it/s]"
     ]
    },
    {
     "name": "stdout",
     "output_type": "stream",
     "text": [
      " Epoch: 146 Training Loss: 1.777286 Validation Loss: 0.503820 Min Validation Loss 0.488432\n"
     ]
    },
    {
     "name": "stderr",
     "output_type": "stream",
     "text": [
      "100%|██████████| 209/209 [03:30<00:00,  1.00s/it]\n",
      "100%|██████████| 27/27 [00:10<00:00,  2.46it/s]\n",
      "  0%|          | 0/209 [00:00<?, ?it/s]"
     ]
    },
    {
     "name": "stdout",
     "output_type": "stream",
     "text": [
      " Epoch: 147 Training Loss: 1.761968 Validation Loss: 0.519776 Min Validation Loss 0.488432\n"
     ]
    },
    {
     "name": "stderr",
     "output_type": "stream",
     "text": [
      "100%|██████████| 209/209 [03:27<00:00,  1.01it/s]\n",
      "100%|██████████| 27/27 [00:10<00:00,  2.48it/s]\n",
      "  0%|          | 0/209 [00:00<?, ?it/s]"
     ]
    },
    {
     "name": "stdout",
     "output_type": "stream",
     "text": [
      " Epoch: 148 Training Loss: 1.754499 Validation Loss: 0.530858 Min Validation Loss 0.488432\n"
     ]
    },
    {
     "name": "stderr",
     "output_type": "stream",
     "text": [
      "100%|██████████| 209/209 [03:30<00:00,  1.00s/it]\n",
      "100%|██████████| 27/27 [00:10<00:00,  2.47it/s]\n",
      "  0%|          | 0/209 [00:00<?, ?it/s]"
     ]
    },
    {
     "name": "stdout",
     "output_type": "stream",
     "text": [
      " Epoch: 149 Training Loss: 1.766923 Validation Loss: 0.487475 Min Validation Loss 0.487475\n"
     ]
    },
    {
     "name": "stderr",
     "output_type": "stream",
     "text": [
      "100%|██████████| 209/209 [03:20<00:00,  1.04it/s]\n",
      "100%|██████████| 27/27 [00:11<00:00,  2.45it/s]\n",
      "  0%|          | 0/209 [00:00<?, ?it/s]"
     ]
    },
    {
     "name": "stdout",
     "output_type": "stream",
     "text": [
      " Epoch: 150 Training Loss: 1.775759 Validation Loss: 0.495632 Min Validation Loss 0.487475\n"
     ]
    },
    {
     "name": "stderr",
     "output_type": "stream",
     "text": [
      "100%|██████████| 209/209 [03:26<00:00,  1.01it/s]\n",
      "100%|██████████| 27/27 [00:11<00:00,  2.42it/s]\n",
      "  0%|          | 0/209 [00:00<?, ?it/s]"
     ]
    },
    {
     "name": "stdout",
     "output_type": "stream",
     "text": [
      " Epoch: 151 Training Loss: 1.762897 Validation Loss: 0.497275 Min Validation Loss 0.487475\n"
     ]
    },
    {
     "name": "stderr",
     "output_type": "stream",
     "text": [
      "100%|██████████| 209/209 [03:28<00:00,  1.00it/s]\n",
      "100%|██████████| 27/27 [00:11<00:00,  2.43it/s]\n",
      "  0%|          | 0/209 [00:00<?, ?it/s]"
     ]
    },
    {
     "name": "stdout",
     "output_type": "stream",
     "text": [
      " Epoch: 152 Training Loss: 1.759871 Validation Loss: 0.530330 Min Validation Loss 0.487475\n"
     ]
    },
    {
     "name": "stderr",
     "output_type": "stream",
     "text": [
      "100%|██████████| 209/209 [03:32<00:00,  1.02s/it]\n",
      "100%|██████████| 27/27 [00:11<00:00,  2.40it/s]\n",
      "  0%|          | 0/209 [00:00<?, ?it/s]"
     ]
    },
    {
     "name": "stdout",
     "output_type": "stream",
     "text": [
      " Epoch: 153 Training Loss: 1.762151 Validation Loss: 0.500529 Min Validation Loss 0.487475\n"
     ]
    },
    {
     "name": "stderr",
     "output_type": "stream",
     "text": [
      "100%|██████████| 209/209 [03:28<00:00,  1.00it/s]\n",
      "100%|██████████| 27/27 [00:11<00:00,  2.43it/s]\n",
      "  0%|          | 0/209 [00:00<?, ?it/s]"
     ]
    },
    {
     "name": "stdout",
     "output_type": "stream",
     "text": [
      " Epoch: 154 Training Loss: 1.754217 Validation Loss: 0.508934 Min Validation Loss 0.487475\n"
     ]
    },
    {
     "name": "stderr",
     "output_type": "stream",
     "text": [
      "100%|██████████| 209/209 [03:28<00:00,  1.00it/s]\n",
      "100%|██████████| 27/27 [00:11<00:00,  2.43it/s]\n",
      "  0%|          | 0/209 [00:00<?, ?it/s]"
     ]
    },
    {
     "name": "stdout",
     "output_type": "stream",
     "text": [
      " Epoch: 155 Training Loss: 1.742118 Validation Loss: 0.483343 Min Validation Loss 0.483343\n"
     ]
    },
    {
     "name": "stderr",
     "output_type": "stream",
     "text": [
      "100%|██████████| 209/209 [03:25<00:00,  1.02it/s]\n",
      "100%|██████████| 27/27 [00:11<00:00,  2.45it/s]\n",
      "  0%|          | 0/209 [00:00<?, ?it/s]"
     ]
    },
    {
     "name": "stdout",
     "output_type": "stream",
     "text": [
      " Epoch: 156 Training Loss: 1.756545 Validation Loss: 0.484991 Min Validation Loss 0.483343\n"
     ]
    },
    {
     "name": "stderr",
     "output_type": "stream",
     "text": [
      "100%|██████████| 209/209 [03:30<00:00,  1.01s/it]\n",
      "100%|██████████| 27/27 [00:11<00:00,  2.44it/s]\n",
      "  0%|          | 0/209 [00:00<?, ?it/s]"
     ]
    },
    {
     "name": "stdout",
     "output_type": "stream",
     "text": [
      " Epoch: 157 Training Loss: 1.759321 Validation Loss: 0.487485 Min Validation Loss 0.483343\n"
     ]
    },
    {
     "name": "stderr",
     "output_type": "stream",
     "text": [
      "100%|██████████| 209/209 [03:29<00:00,  1.00s/it]\n",
      "100%|██████████| 27/27 [00:11<00:00,  2.41it/s]\n",
      "  0%|          | 0/209 [00:00<?, ?it/s]"
     ]
    },
    {
     "name": "stdout",
     "output_type": "stream",
     "text": [
      " Epoch: 158 Training Loss: 1.755002 Validation Loss: 0.499524 Min Validation Loss 0.483343\n"
     ]
    },
    {
     "name": "stderr",
     "output_type": "stream",
     "text": [
      "100%|██████████| 209/209 [03:33<00:00,  1.02s/it]\n",
      "100%|██████████| 27/27 [00:11<00:00,  2.42it/s]\n",
      "  0%|          | 0/209 [00:00<?, ?it/s]"
     ]
    },
    {
     "name": "stdout",
     "output_type": "stream",
     "text": [
      " Epoch: 159 Training Loss: 1.759882 Validation Loss: 0.493955 Min Validation Loss 0.483343\n"
     ]
    },
    {
     "name": "stderr",
     "output_type": "stream",
     "text": [
      "100%|██████████| 209/209 [03:27<00:00,  1.01it/s]\n",
      "100%|██████████| 27/27 [00:11<00:00,  2.41it/s]\n",
      "  0%|          | 0/209 [00:00<?, ?it/s]"
     ]
    },
    {
     "name": "stdout",
     "output_type": "stream",
     "text": [
      " Epoch: 160 Training Loss: 1.751038 Validation Loss: 0.483846 Min Validation Loss 0.483343\n"
     ]
    },
    {
     "name": "stderr",
     "output_type": "stream",
     "text": [
      "100%|██████████| 209/209 [03:27<00:00,  1.01it/s]\n",
      "100%|██████████| 27/27 [00:11<00:00,  2.40it/s]\n",
      "  0%|          | 0/209 [00:00<?, ?it/s]"
     ]
    },
    {
     "name": "stdout",
     "output_type": "stream",
     "text": [
      " Epoch: 161 Training Loss: 1.728544 Validation Loss: 0.479994 Min Validation Loss 0.479994\n"
     ]
    },
    {
     "name": "stderr",
     "output_type": "stream",
     "text": [
      "100%|██████████| 209/209 [03:32<00:00,  1.02s/it]\n",
      "100%|██████████| 27/27 [00:11<00:00,  2.44it/s]\n",
      "  0%|          | 0/209 [00:00<?, ?it/s]"
     ]
    },
    {
     "name": "stdout",
     "output_type": "stream",
     "text": [
      " Epoch: 162 Training Loss: 1.747720 Validation Loss: 0.512617 Min Validation Loss 0.479994\n"
     ]
    },
    {
     "name": "stderr",
     "output_type": "stream",
     "text": [
      "100%|██████████| 209/209 [03:24<00:00,  1.02it/s]\n",
      "100%|██████████| 27/27 [00:10<00:00,  2.49it/s]\n",
      "  0%|          | 0/209 [00:00<?, ?it/s]"
     ]
    },
    {
     "name": "stdout",
     "output_type": "stream",
     "text": [
      " Epoch: 163 Training Loss: 1.774411 Validation Loss: 0.486720 Min Validation Loss 0.479994\n"
     ]
    },
    {
     "name": "stderr",
     "output_type": "stream",
     "text": [
      "100%|██████████| 209/209 [03:26<00:00,  1.01it/s]\n",
      "100%|██████████| 27/27 [00:11<00:00,  2.44it/s]\n",
      "  0%|          | 0/209 [00:00<?, ?it/s]"
     ]
    },
    {
     "name": "stdout",
     "output_type": "stream",
     "text": [
      " Epoch: 164 Training Loss: 1.751593 Validation Loss: 0.502083 Min Validation Loss 0.479994\n"
     ]
    },
    {
     "name": "stderr",
     "output_type": "stream",
     "text": [
      "100%|██████████| 209/209 [03:34<00:00,  1.03s/it]\n",
      "100%|██████████| 27/27 [00:11<00:00,  2.43it/s]\n",
      "  0%|          | 0/209 [00:00<?, ?it/s]"
     ]
    },
    {
     "name": "stdout",
     "output_type": "stream",
     "text": [
      " Epoch: 165 Training Loss: 1.763230 Validation Loss: 0.481594 Min Validation Loss 0.479994\n"
     ]
    },
    {
     "name": "stderr",
     "output_type": "stream",
     "text": [
      "100%|██████████| 209/209 [03:28<00:00,  1.00it/s]\n",
      "100%|██████████| 27/27 [00:11<00:00,  2.42it/s]\n",
      "  0%|          | 0/209 [00:00<?, ?it/s]"
     ]
    },
    {
     "name": "stdout",
     "output_type": "stream",
     "text": [
      " Epoch: 166 Training Loss: 1.747438 Validation Loss: 0.482796 Min Validation Loss 0.479994\n"
     ]
    },
    {
     "name": "stderr",
     "output_type": "stream",
     "text": [
      "100%|██████████| 209/209 [03:29<00:00,  1.00s/it]\n",
      "100%|██████████| 27/27 [00:11<00:00,  2.42it/s]\n",
      "  0%|          | 0/209 [00:00<?, ?it/s]"
     ]
    },
    {
     "name": "stdout",
     "output_type": "stream",
     "text": [
      " Epoch: 167 Training Loss: 1.764722 Validation Loss: 0.511283 Min Validation Loss 0.479994\n"
     ]
    },
    {
     "name": "stderr",
     "output_type": "stream",
     "text": [
      "100%|██████████| 209/209 [03:28<00:00,  1.00it/s]\n",
      "100%|██████████| 27/27 [00:11<00:00,  2.43it/s]\n",
      "  0%|          | 0/209 [00:00<?, ?it/s]"
     ]
    },
    {
     "name": "stdout",
     "output_type": "stream",
     "text": [
      " Epoch: 168 Training Loss: 1.706360 Validation Loss: 0.481748 Min Validation Loss 0.479994\n"
     ]
    },
    {
     "name": "stderr",
     "output_type": "stream",
     "text": [
      "100%|██████████| 209/209 [03:28<00:00,  1.00it/s]\n",
      "100%|██████████| 27/27 [00:11<00:00,  2.44it/s]\n",
      "  0%|          | 0/209 [00:00<?, ?it/s]"
     ]
    },
    {
     "name": "stdout",
     "output_type": "stream",
     "text": [
      " Epoch: 169 Training Loss: 1.785609 Validation Loss: 0.485296 Min Validation Loss 0.479994\n"
     ]
    },
    {
     "name": "stderr",
     "output_type": "stream",
     "text": [
      "100%|██████████| 209/209 [03:29<00:00,  1.00s/it]\n",
      "100%|██████████| 27/27 [00:11<00:00,  2.41it/s]\n",
      "  0%|          | 0/209 [00:00<?, ?it/s]"
     ]
    },
    {
     "name": "stdout",
     "output_type": "stream",
     "text": [
      " Epoch: 170 Training Loss: 1.770499 Validation Loss: 0.484102 Min Validation Loss 0.479994\n"
     ]
    },
    {
     "name": "stderr",
     "output_type": "stream",
     "text": [
      "100%|██████████| 209/209 [03:27<00:00,  1.01it/s]\n",
      "100%|██████████| 27/27 [00:11<00:00,  2.42it/s]\n",
      "  0%|          | 0/209 [00:00<?, ?it/s]"
     ]
    },
    {
     "name": "stdout",
     "output_type": "stream",
     "text": [
      " Epoch: 171 Training Loss: 1.745542 Validation Loss: 0.477382 Min Validation Loss 0.477382\n"
     ]
    },
    {
     "name": "stderr",
     "output_type": "stream",
     "text": [
      "100%|██████████| 209/209 [03:29<00:00,  1.00s/it]\n",
      "100%|██████████| 27/27 [00:11<00:00,  2.42it/s]\n",
      "  0%|          | 0/209 [00:00<?, ?it/s]"
     ]
    },
    {
     "name": "stdout",
     "output_type": "stream",
     "text": [
      " Epoch: 172 Training Loss: 1.723559 Validation Loss: 0.485067 Min Validation Loss 0.477382\n"
     ]
    },
    {
     "name": "stderr",
     "output_type": "stream",
     "text": [
      "100%|██████████| 209/209 [03:30<00:00,  1.01s/it]\n",
      "100%|██████████| 27/27 [00:11<00:00,  2.42it/s]\n",
      "  0%|          | 0/209 [00:00<?, ?it/s]"
     ]
    },
    {
     "name": "stdout",
     "output_type": "stream",
     "text": [
      " Epoch: 173 Training Loss: 1.717751 Validation Loss: 0.488377 Min Validation Loss 0.477382\n"
     ]
    },
    {
     "name": "stderr",
     "output_type": "stream",
     "text": [
      "100%|██████████| 209/209 [03:30<00:00,  1.01s/it]\n",
      "100%|██████████| 27/27 [00:11<00:00,  2.42it/s]\n",
      "  0%|          | 0/209 [00:00<?, ?it/s]"
     ]
    },
    {
     "name": "stdout",
     "output_type": "stream",
     "text": [
      " Epoch: 174 Training Loss: 1.741969 Validation Loss: 0.476424 Min Validation Loss 0.476424\n"
     ]
    },
    {
     "name": "stderr",
     "output_type": "stream",
     "text": [
      "100%|██████████| 209/209 [03:28<00:00,  1.00it/s]\n",
      "100%|██████████| 27/27 [00:10<00:00,  2.49it/s]\n",
      "  0%|          | 0/209 [00:00<?, ?it/s]"
     ]
    },
    {
     "name": "stdout",
     "output_type": "stream",
     "text": [
      " Epoch: 175 Training Loss: 1.748656 Validation Loss: 0.470392 Min Validation Loss 0.470392\n"
     ]
    },
    {
     "name": "stderr",
     "output_type": "stream",
     "text": [
      "100%|██████████| 209/209 [03:25<00:00,  1.02it/s]\n",
      "100%|██████████| 27/27 [00:10<00:00,  2.49it/s]\n",
      "  0%|          | 0/209 [00:00<?, ?it/s]"
     ]
    },
    {
     "name": "stdout",
     "output_type": "stream",
     "text": [
      " Epoch: 176 Training Loss: 1.703228 Validation Loss: 0.478186 Min Validation Loss 0.470392\n"
     ]
    },
    {
     "name": "stderr",
     "output_type": "stream",
     "text": [
      "100%|██████████| 209/209 [03:25<00:00,  1.01it/s]\n",
      "100%|██████████| 27/27 [00:11<00:00,  2.44it/s]\n",
      "  0%|          | 0/209 [00:00<?, ?it/s]"
     ]
    },
    {
     "name": "stdout",
     "output_type": "stream",
     "text": [
      " Epoch: 177 Training Loss: 1.737366 Validation Loss: 0.518587 Min Validation Loss 0.470392\n"
     ]
    },
    {
     "name": "stderr",
     "output_type": "stream",
     "text": [
      "100%|██████████| 209/209 [03:27<00:00,  1.00it/s]\n",
      "100%|██████████| 27/27 [00:10<00:00,  2.47it/s]\n",
      "  0%|          | 0/209 [00:00<?, ?it/s]"
     ]
    },
    {
     "name": "stdout",
     "output_type": "stream",
     "text": [
      " Epoch: 178 Training Loss: 1.748737 Validation Loss: 0.490341 Min Validation Loss 0.470392\n"
     ]
    },
    {
     "name": "stderr",
     "output_type": "stream",
     "text": [
      "100%|██████████| 209/209 [03:27<00:00,  1.01it/s]\n",
      "100%|██████████| 27/27 [00:11<00:00,  2.45it/s]\n",
      "  0%|          | 0/209 [00:00<?, ?it/s]"
     ]
    },
    {
     "name": "stdout",
     "output_type": "stream",
     "text": [
      " Epoch: 179 Training Loss: 1.734021 Validation Loss: 0.476893 Min Validation Loss 0.470392\n"
     ]
    },
    {
     "name": "stderr",
     "output_type": "stream",
     "text": [
      "100%|██████████| 209/209 [03:30<00:00,  1.01s/it]\n",
      "100%|██████████| 27/27 [00:11<00:00,  2.43it/s]\n",
      "  0%|          | 0/209 [00:00<?, ?it/s]"
     ]
    },
    {
     "name": "stdout",
     "output_type": "stream",
     "text": [
      " Epoch: 180 Training Loss: 1.721114 Validation Loss: 0.509229 Min Validation Loss 0.470392\n"
     ]
    },
    {
     "name": "stderr",
     "output_type": "stream",
     "text": [
      "100%|██████████| 209/209 [03:26<00:00,  1.01it/s]\n",
      "100%|██████████| 27/27 [00:11<00:00,  2.43it/s]\n",
      "  0%|          | 0/209 [00:00<?, ?it/s]"
     ]
    },
    {
     "name": "stdout",
     "output_type": "stream",
     "text": [
      " Epoch: 181 Training Loss: 1.744225 Validation Loss: 0.512274 Min Validation Loss 0.470392\n"
     ]
    },
    {
     "name": "stderr",
     "output_type": "stream",
     "text": [
      "100%|██████████| 209/209 [03:26<00:00,  1.01it/s]\n",
      "100%|██████████| 27/27 [00:11<00:00,  2.45it/s]\n",
      "  0%|          | 0/209 [00:00<?, ?it/s]"
     ]
    },
    {
     "name": "stdout",
     "output_type": "stream",
     "text": [
      " Epoch: 182 Training Loss: 1.709744 Validation Loss: 0.492973 Min Validation Loss 0.470392\n"
     ]
    },
    {
     "name": "stderr",
     "output_type": "stream",
     "text": [
      "100%|██████████| 209/209 [03:28<00:00,  1.00it/s]\n",
      "100%|██████████| 27/27 [00:11<00:00,  2.43it/s]\n",
      "  0%|          | 0/209 [00:00<?, ?it/s]"
     ]
    },
    {
     "name": "stdout",
     "output_type": "stream",
     "text": [
      " Epoch: 183 Training Loss: 1.696508 Validation Loss: 0.507482 Min Validation Loss 0.470392\n"
     ]
    },
    {
     "name": "stderr",
     "output_type": "stream",
     "text": [
      "100%|██████████| 209/209 [03:24<00:00,  1.02it/s]\n",
      "100%|██████████| 27/27 [00:11<00:00,  2.43it/s]\n",
      "  0%|          | 0/209 [00:00<?, ?it/s]"
     ]
    },
    {
     "name": "stdout",
     "output_type": "stream",
     "text": [
      " Epoch: 184 Training Loss: 1.733495 Validation Loss: 0.467659 Min Validation Loss 0.467659\n"
     ]
    },
    {
     "name": "stderr",
     "output_type": "stream",
     "text": [
      "100%|██████████| 209/209 [03:29<00:00,  1.00s/it]\n",
      "100%|██████████| 27/27 [00:10<00:00,  2.46it/s]\n",
      "  0%|          | 0/209 [00:00<?, ?it/s]"
     ]
    },
    {
     "name": "stdout",
     "output_type": "stream",
     "text": [
      " Epoch: 185 Training Loss: 1.716431 Validation Loss: 0.478536 Min Validation Loss 0.467659\n"
     ]
    },
    {
     "name": "stderr",
     "output_type": "stream",
     "text": [
      "100%|██████████| 209/209 [03:25<00:00,  1.02it/s]\n",
      "100%|██████████| 27/27 [00:10<00:00,  2.47it/s]\n",
      "  0%|          | 0/209 [00:00<?, ?it/s]"
     ]
    },
    {
     "name": "stdout",
     "output_type": "stream",
     "text": [
      " Epoch: 186 Training Loss: 1.732240 Validation Loss: 0.472098 Min Validation Loss 0.467659\n"
     ]
    },
    {
     "name": "stderr",
     "output_type": "stream",
     "text": [
      "100%|██████████| 209/209 [03:28<00:00,  1.00it/s]\n",
      "100%|██████████| 27/27 [00:11<00:00,  2.34it/s]\n",
      "  0%|          | 0/209 [00:00<?, ?it/s]"
     ]
    },
    {
     "name": "stdout",
     "output_type": "stream",
     "text": [
      " Epoch: 187 Training Loss: 1.725077 Validation Loss: 0.485675 Min Validation Loss 0.467659\n"
     ]
    },
    {
     "name": "stderr",
     "output_type": "stream",
     "text": [
      "100%|██████████| 209/209 [03:27<00:00,  1.01it/s]\n",
      "100%|██████████| 27/27 [00:11<00:00,  2.44it/s]\n",
      "  0%|          | 0/209 [00:00<?, ?it/s]"
     ]
    },
    {
     "name": "stdout",
     "output_type": "stream",
     "text": [
      " Epoch: 188 Training Loss: 1.720427 Validation Loss: 0.503936 Min Validation Loss 0.467659\n"
     ]
    },
    {
     "name": "stderr",
     "output_type": "stream",
     "text": [
      "100%|██████████| 209/209 [03:27<00:00,  1.00it/s]\n",
      "100%|██████████| 27/27 [00:11<00:00,  2.44it/s]\n",
      "  0%|          | 0/209 [00:00<?, ?it/s]"
     ]
    },
    {
     "name": "stdout",
     "output_type": "stream",
     "text": [
      " Epoch: 189 Training Loss: 1.747549 Validation Loss: 0.490003 Min Validation Loss 0.467659\n"
     ]
    },
    {
     "name": "stderr",
     "output_type": "stream",
     "text": [
      "100%|██████████| 209/209 [03:25<00:00,  1.02it/s]\n",
      "100%|██████████| 27/27 [00:11<00:00,  2.45it/s]\n",
      "  0%|          | 0/209 [00:00<?, ?it/s]"
     ]
    },
    {
     "name": "stdout",
     "output_type": "stream",
     "text": [
      " Epoch: 190 Training Loss: 1.716817 Validation Loss: 0.490817 Min Validation Loss 0.467659\n"
     ]
    },
    {
     "name": "stderr",
     "output_type": "stream",
     "text": [
      "100%|██████████| 209/209 [03:24<00:00,  1.02it/s]\n",
      "100%|██████████| 27/27 [00:11<00:00,  2.45it/s]\n",
      "  0%|          | 0/209 [00:00<?, ?it/s]"
     ]
    },
    {
     "name": "stdout",
     "output_type": "stream",
     "text": [
      " Epoch: 191 Training Loss: 1.698009 Validation Loss: 0.476712 Min Validation Loss 0.467659\n"
     ]
    },
    {
     "name": "stderr",
     "output_type": "stream",
     "text": [
      "100%|██████████| 209/209 [03:27<00:00,  1.01it/s]\n",
      "100%|██████████| 27/27 [00:11<00:00,  2.42it/s]\n",
      "  0%|          | 0/209 [00:00<?, ?it/s]"
     ]
    },
    {
     "name": "stdout",
     "output_type": "stream",
     "text": [
      " Epoch: 192 Training Loss: 1.746475 Validation Loss: 0.491341 Min Validation Loss 0.467659\n"
     ]
    },
    {
     "name": "stderr",
     "output_type": "stream",
     "text": [
      "100%|██████████| 209/209 [03:29<00:00,  1.00s/it]\n",
      "100%|██████████| 27/27 [00:11<00:00,  2.42it/s]\n",
      "  0%|          | 0/209 [00:00<?, ?it/s]"
     ]
    },
    {
     "name": "stdout",
     "output_type": "stream",
     "text": [
      " Epoch: 193 Training Loss: 1.712855 Validation Loss: 0.490395 Min Validation Loss 0.467659\n"
     ]
    },
    {
     "name": "stderr",
     "output_type": "stream",
     "text": [
      "100%|██████████| 209/209 [03:34<00:00,  1.03s/it]\n",
      "100%|██████████| 27/27 [00:11<00:00,  2.43it/s]\n",
      "  0%|          | 0/209 [00:00<?, ?it/s]"
     ]
    },
    {
     "name": "stdout",
     "output_type": "stream",
     "text": [
      " Epoch: 194 Training Loss: 1.724656 Validation Loss: 0.470250 Min Validation Loss 0.467659\n"
     ]
    },
    {
     "name": "stderr",
     "output_type": "stream",
     "text": [
      "100%|██████████| 209/209 [03:33<00:00,  1.02s/it]\n",
      "100%|██████████| 27/27 [00:11<00:00,  2.44it/s]\n",
      "  0%|          | 0/209 [00:00<?, ?it/s]"
     ]
    },
    {
     "name": "stdout",
     "output_type": "stream",
     "text": [
      " Epoch: 195 Training Loss: 1.716660 Validation Loss: 0.485717 Min Validation Loss 0.467659\n"
     ]
    },
    {
     "name": "stderr",
     "output_type": "stream",
     "text": [
      "100%|██████████| 209/209 [03:23<00:00,  1.02it/s]\n",
      "100%|██████████| 27/27 [00:10<00:00,  2.46it/s]\n",
      "  0%|          | 0/209 [00:00<?, ?it/s]"
     ]
    },
    {
     "name": "stdout",
     "output_type": "stream",
     "text": [
      " Epoch: 196 Training Loss: 1.734512 Validation Loss: 0.514361 Min Validation Loss 0.467659\n"
     ]
    },
    {
     "name": "stderr",
     "output_type": "stream",
     "text": [
      "100%|██████████| 209/209 [03:26<00:00,  1.01it/s]\n",
      "100%|██████████| 27/27 [00:11<00:00,  2.44it/s]\n",
      "  0%|          | 0/209 [00:00<?, ?it/s]"
     ]
    },
    {
     "name": "stdout",
     "output_type": "stream",
     "text": [
      " Epoch: 197 Training Loss: 1.712057 Validation Loss: 0.497483 Min Validation Loss 0.467659\n"
     ]
    },
    {
     "name": "stderr",
     "output_type": "stream",
     "text": [
      "100%|██████████| 209/209 [03:31<00:00,  1.01s/it]\n",
      "100%|██████████| 27/27 [00:11<00:00,  2.45it/s]\n",
      "  0%|          | 0/209 [00:00<?, ?it/s]"
     ]
    },
    {
     "name": "stdout",
     "output_type": "stream",
     "text": [
      " Epoch: 198 Training Loss: 1.744685 Validation Loss: 0.469760 Min Validation Loss 0.467659\n"
     ]
    },
    {
     "name": "stderr",
     "output_type": "stream",
     "text": [
      "100%|██████████| 209/209 [03:23<00:00,  1.03it/s]\n",
      "100%|██████████| 27/27 [00:11<00:00,  2.38it/s]\n",
      "  0%|          | 0/209 [00:00<?, ?it/s]"
     ]
    },
    {
     "name": "stdout",
     "output_type": "stream",
     "text": [
      " Epoch: 199 Training Loss: 1.706715 Validation Loss: 0.488150 Min Validation Loss 0.467659\n"
     ]
    },
    {
     "name": "stderr",
     "output_type": "stream",
     "text": [
      "100%|██████████| 209/209 [03:28<00:00,  1.00it/s]\n",
      "100%|██████████| 27/27 [00:11<00:00,  2.43it/s]\n"
     ]
    },
    {
     "name": "stdout",
     "output_type": "stream",
     "text": [
      " Epoch: 200 Training Loss: 1.730295 Validation Loss: 0.467819 Min Validation Loss 0.467659\n"
     ]
    },
    {
     "data": {
      "text/plain": [
       "<All keys matched successfully>"
      ]
     },
     "execution_count": 21,
     "metadata": {
      "tags": []
     },
     "output_type": "execute_result"
    }
   ],
   "source": [
    "# train the model\n",
    "model_transfer = train(200, loaders_transfer, model_transfer, optimizer_transfer, criterion_transfer, use_cuda, 'model_transfer.pt')\n",
    "\n",
    "# load the model that got the best validation accuracy (uncomment the line below)\n",
    "model_transfer.load_state_dict(torch.load('model_transfer.pt'))"
   ]
  },
  {
   "cell_type": "markdown",
   "metadata": {
    "colab_type": "text",
    "id": "0juiD2bgCAVI"
   },
   "source": [
    "### (IMPLEMENTATION) Test the Model\n",
    "\n",
    "Try out your model on the test dataset of dog images. Use the code cell below to calculate and print the test loss and accuracy.  Ensure that your test accuracy is greater than 60%."
   ]
  },
  {
   "cell_type": "code",
   "execution_count": 23,
   "metadata": {
    "colab": {
     "base_uri": "https://localhost:8080/",
     "height": 85
    },
    "colab_type": "code",
    "id": "BHh5cet_CAVJ",
    "outputId": "67d2f8e2-86da-42af-8d98-34cc5fb733ee"
   },
   "outputs": [
    {
     "name": "stdout",
     "output_type": "stream",
     "text": [
      "Test Loss: 0.532422\n",
      "\n",
      "\n",
      "Test Accuracy: 84% (703/836)\n"
     ]
    }
   ],
   "source": [
    "test(loaders_transfer, model_transfer, criterion_transfer, use_cuda)"
   ]
  },
  {
   "cell_type": "markdown",
   "metadata": {
    "colab_type": "text",
    "id": "AlPeV5VzCAVM"
   },
   "source": [
    "### (IMPLEMENTATION) Predict Dog Breed with the Model\n",
    "\n",
    "Write a function that takes an image path as input and returns the dog breed (`Affenpinscher`, `Afghan hound`, etc) that is predicted by your model.  "
   ]
  },
  {
   "cell_type": "code",
   "execution_count": 0,
   "metadata": {
    "colab": {},
    "colab_type": "code",
    "id": "7KETShiHCAVM"
   },
   "outputs": [],
   "source": [
    "### TODO: Write a function that takes a path to an image as input\n",
    "### and returns the dog breed that is predicted by the model.\n",
    "\n",
    "# list of class names by index, i.e. a name can be accessed like class_names[0]\n",
    "class_names = [item[4:].replace(\"_\", \" \") for item in data_transfer['train'].classes]\n",
    "\n",
    "def predict_breed_transfer(img_path):\n",
    "    # load the image and return the predicted breed\n",
    "    return None"
   ]
  },
  {
   "cell_type": "markdown",
   "metadata": {
    "colab_type": "text",
    "id": "MIOHLD5OCAVP"
   },
   "source": [
    "---\n",
    "<a id='step6'></a>\n",
    "## Step 6: Write your Algorithm\n",
    "\n",
    "Write an algorithm that accepts a file path to an image and first determines whether the image contains a human, dog, or neither.  Then,\n",
    "- if a __dog__ is detected in the image, return the predicted breed.\n",
    "- if a __human__ is detected in the image, return the resembling dog breed.\n",
    "- if __neither__ is detected in the image, provide output that indicates an error.\n",
    "\n",
    "You are welcome to write your own functions for detecting humans and dogs in images, but feel free to use the `face_detector` and `dog_detector` functions developed above.  You are __required__ to use your CNN from Step 4 to predict dog breed.  \n",
    "\n",
    "Some sample output for our algorithm is provided below, but feel free to design your own user experience!\n",
    "\n",
    "![Sample Human Output](images/sample_human_output.png)\n",
    "\n",
    "\n",
    "### (IMPLEMENTATION) Write your Algorithm"
   ]
  },
  {
   "cell_type": "code",
   "execution_count": 0,
   "metadata": {
    "colab": {},
    "colab_type": "code",
    "id": "bxq20066CAVQ"
   },
   "outputs": [],
   "source": [
    "### TODO: Write your algorithm.\n",
    "### Feel free to use as many code cells as needed.\n",
    "\n",
    "def run_app(img_path):\n",
    "    ## handle cases for a human face, dog, and neither\n",
    "    \n"
   ]
  },
  {
   "cell_type": "markdown",
   "metadata": {
    "colab_type": "text",
    "id": "D9JBMOkxCAVV"
   },
   "source": [
    "---\n",
    "<a id='step7'></a>\n",
    "## Step 7: Test Your Algorithm\n",
    "\n",
    "In this section, you will take your new algorithm for a spin!  What kind of dog does the algorithm think that _you_ look like?  If you have a dog, does it predict your dog's breed accurately?  If you have a cat, does it mistakenly think that your cat is a dog?\n",
    "\n",
    "### (IMPLEMENTATION) Test Your Algorithm on Sample Images!\n",
    "\n",
    "Test your algorithm at least six images on your computer.  Feel free to use any images you like.  Use at least two human and two dog images.  \n",
    "\n",
    "__Question 6:__ Is the output better than you expected :) ?  Or worse :( ?  Provide at least three possible points of improvement for your algorithm."
   ]
  },
  {
   "cell_type": "markdown",
   "metadata": {
    "colab_type": "text",
    "id": "hZK3QkTyCAVW"
   },
   "source": [
    "__Answer:__ (Three possible points for improvement)"
   ]
  },
  {
   "cell_type": "code",
   "execution_count": 0,
   "metadata": {
    "colab": {},
    "colab_type": "code",
    "id": "3VF3SWhQCAVX"
   },
   "outputs": [],
   "source": [
    "## TODO: Execute your algorithm from Step 6 on\n",
    "## at least 6 images on your computer.\n",
    "## Feel free to use as many code cells as needed.\n",
    "\n",
    "## suggested code, below\n",
    "for file in np.hstack((human_files[:3], dog_files[:3])):\n",
    "    run_app(file)"
   ]
  }
 ],
 "metadata": {
  "accelerator": "GPU",
  "anaconda-cloud": {},
  "colab": {
   "collapsed_sections": [
    "BrouwfNeCAT6",
    "nTm3r549CAT_",
    "nokDe7QaCAUE",
    "AlPeV5VzCAVM"
   ],
   "machine_shape": "hm",
   "name": "2.ipynb",
   "provenance": []
  },
  "kernelspec": {
   "display_name": "Python 3",
   "language": "python",
   "name": "python3"
  },
  "language_info": {
   "codemirror_mode": {
    "name": "ipython",
    "version": 3
   },
   "file_extension": ".py",
   "mimetype": "text/x-python",
   "name": "python",
   "nbconvert_exporter": "python",
   "pygments_lexer": "ipython3",
   "version": "3.7.6"
  }
 },
 "nbformat": 4,
 "nbformat_minor": 1
}
