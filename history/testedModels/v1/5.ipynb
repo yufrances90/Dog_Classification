{
  "nbformat": 4,
  "nbformat_minor": 0,
  "metadata": {
    "anaconda-cloud": {},
    "kernelspec": {
      "display_name": "Python 3",
      "language": "python",
      "name": "python3"
    },
    "language_info": {
      "codemirror_mode": {
        "name": "ipython",
        "version": 3
      },
      "file_extension": ".py",
      "mimetype": "text/x-python",
      "name": "python",
      "nbconvert_exporter": "python",
      "pygments_lexer": "ipython3",
      "version": "3.7.6"
    },
    "colab": {
      "name": "5.ipynb",
      "provenance": [],
      "collapsed_sections": [
        "GTQZURxkmOys",
        "b8k7FM6zmOyz",
        "zfb8ZVKumOy6",
        "J7n5jb0-mOz-",
        "vw0GRVdVmO0E",
        "rqbi7G7tmO0I",
        "KVI3eRI7mO0O",
        "kuy10bqPmO0U"
      ],
      "machine_shape": "hm"
    },
    "accelerator": "GPU"
  },
  "cells": [
    {
      "cell_type": "markdown",
      "metadata": {
        "id": "L6EFOeAemOxw",
        "colab_type": "text"
      },
      "source": [
        "# Convolutional Neural Networks\n",
        "\n",
        "## Project: Write an Algorithm for a Dog Identification App \n",
        "\n",
        "---\n",
        "\n",
        "In this notebook, some template code has already been provided for you, and you will need to implement additional functionality to successfully complete this project. You will not need to modify the included code beyond what is requested. Sections that begin with **'(IMPLEMENTATION)'** in the header indicate that the following block of code will require additional functionality which you must provide. Instructions will be provided for each section, and the specifics of the implementation are marked in the code block with a 'TODO' statement. Please be sure to read the instructions carefully! \n",
        "\n",
        "> **Note**: Once you have completed all of the code implementations, you need to finalize your work by exporting the Jupyter Notebook as an HTML document. Before exporting the notebook to html, all of the code cells need to have been run so that reviewers can see the final implementation and output. You can then export the notebook by using the menu above and navigating to **File -> Download as -> HTML (.html)**. Include the finished document along with this notebook as your submission.\n",
        "\n",
        "In addition to implementing code, there will be questions that you must answer which relate to the project and your implementation. Each section where you will answer a question is preceded by a **'Question X'** header. Carefully read each question and provide thorough answers in the following text boxes that begin with **'Answer:'**. Your project submission will be evaluated based on your answers to each of the questions and the implementation you provide.\n",
        "\n",
        ">**Note:** Code and Markdown cells can be executed using the **Shift + Enter** keyboard shortcut.  Markdown cells can be edited by double-clicking the cell to enter edit mode.\n",
        "\n",
        "The rubric contains _optional_ \"Stand Out Suggestions\" for enhancing the project beyond the minimum requirements. If you decide to pursue the \"Stand Out Suggestions\", you should include the code in this Jupyter notebook.\n",
        "\n",
        "\n",
        "\n",
        "---\n",
        "### Why We're Here \n",
        "\n",
        "In this notebook, you will make the first steps towards developing an algorithm that could be used as part of a mobile or web app.  At the end of this project, your code will accept any user-supplied image as input.  If a dog is detected in the image, it will provide an estimate of the dog's breed.  If a human is detected, it will provide an estimate of the dog breed that is most resembling.  The image below displays potential sample output of your finished project (... but we expect that each student's algorithm will behave differently!). \n",
        "\n",
        "![Sample Dog Output](images/sample_dog_output.png)\n",
        "\n",
        "In this real-world setting, you will need to piece together a series of models to perform different tasks; for instance, the algorithm that detects humans in an image will be different from the CNN that infers dog breed.  There are many points of possible failure, and no perfect algorithm exists.  Your imperfect solution will nonetheless create a fun user experience!\n",
        "\n",
        "### The Road Ahead\n",
        "\n",
        "We break the notebook into separate steps.  Feel free to use the links below to navigate the notebook.\n",
        "\n",
        "* [Step 0](#step0): Import Datasets\n",
        "* [Step 1](#step1): Detect Humans\n",
        "* [Step 2](#step2): Detect Dogs\n",
        "* [Step 3](#step3): Create a CNN to Classify Dog Breeds (from Scratch)\n",
        "* [Step 4](#step4): Create a CNN to Classify Dog Breeds (using Transfer Learning)\n",
        "* [Step 5](#step5): Write your Algorithm\n",
        "* [Step 6](#step6): Test Your Algorithm\n",
        "\n",
        "---\n",
        "<a id='step0'></a>\n",
        "## Step 0: Import Datasets\n",
        "\n",
        "Make sure that you've downloaded the required human and dog datasets:\n",
        "* Download the [dog dataset](https://s3-us-west-1.amazonaws.com/udacity-aind/dog-project/dogImages.zip).  Unzip the folder and place it in this project's home directory, at the location `/dogImages`. \n",
        "\n",
        "* Download the [human dataset](https://s3-us-west-1.amazonaws.com/udacity-aind/dog-project/lfw.zip).  Unzip the folder and place it in the home directory, at location `/lfw`.  \n",
        "\n",
        "*Note: If you are using a Windows machine, you are encouraged to use [7zip](http://www.7-zip.org/) to extract the folder.*\n",
        "\n",
        "In the code cell below, we save the file paths for both the human (LFW) dataset and dog dataset in the numpy arrays `human_files` and `dog_files`."
      ]
    },
    {
      "cell_type": "code",
      "metadata": {
        "id": "NAG9yKiGmTRy",
        "colab_type": "code",
        "outputId": "8e98ba2a-1832-485d-fa22-db00c64d4b8b",
        "colab": {
          "base_uri": "https://localhost:8080/",
          "height": 34
        }
      },
      "source": [
        "from google.colab import drive\n",
        "\n",
        "drive.mount('/content/gdrive')"
      ],
      "execution_count": 1,
      "outputs": [
        {
          "output_type": "stream",
          "text": [
            "Drive already mounted at /content/gdrive; to attempt to forcibly remount, call drive.mount(\"/content/gdrive\", force_remount=True).\n"
          ],
          "name": "stdout"
        }
      ]
    },
    {
      "cell_type": "code",
      "metadata": {
        "id": "YTzjiHB_mOxy",
        "colab_type": "code",
        "colab": {}
      },
      "source": [
        "import numpy as np\n",
        "import cv2                \n",
        "import matplotlib.pyplot as plt  \n",
        "import torch\n",
        "import torchvision.models as models\n",
        "import torchvision.transforms as transforms\n",
        "import os\n",
        "import torch.nn as nn\n",
        "import torch.nn.functional as F\n",
        "import torch.optim as optim\n",
        "\n",
        "from glob import glob\n",
        "from tqdm import tqdm\n",
        "from PIL import Image, ImageFile\n",
        "from torchvision import datasets\n",
        "            \n",
        "%matplotlib inline \n",
        "\n",
        "ImageFile.LOAD_TRUNCATED_IMAGES = True"
      ],
      "execution_count": 0,
      "outputs": []
    },
    {
      "cell_type": "code",
      "metadata": {
        "id": "-oAcM3x3mOx9",
        "colab_type": "code",
        "colab": {}
      },
      "source": [
        "# check if CUDA is available\n",
        "use_cuda = torch.cuda.is_available()"
      ],
      "execution_count": 0,
      "outputs": []
    },
    {
      "cell_type": "code",
      "metadata": {
        "id": "k4O5_SgnmOyB",
        "colab_type": "code",
        "outputId": "126d0352-9c0b-4cbd-b403-50b80eb6c2ea",
        "colab": {
          "base_uri": "https://localhost:8080/",
          "height": 51
        }
      },
      "source": [
        "# load filenames for human and dog images\n",
        "human_files = np.array(glob(\"lfw/*/*\"))\n",
        "dog_files = np.array(glob(\"gdrive/My Drive/Lab/dogImages/*/*/*\"))\n",
        "\n",
        "# print number of images in each dataset\n",
        "print('There are %d total human images.' % len(human_files))\n",
        "print('There are %d total dog images.' % len(dog_files))"
      ],
      "execution_count": 4,
      "outputs": [
        {
          "output_type": "stream",
          "text": [
            "There are 0 total human images.\n",
            "There are 8352 total dog images.\n"
          ],
          "name": "stdout"
        }
      ]
    },
    {
      "cell_type": "code",
      "metadata": {
        "id": "eVzaSW-XmOyG",
        "colab_type": "code",
        "colab": {}
      },
      "source": [
        "human_files_short = human_files[:100]\n",
        "dog_files_short = dog_files[:100]"
      ],
      "execution_count": 0,
      "outputs": []
    },
    {
      "cell_type": "code",
      "metadata": {
        "id": "S5OqJPaUmOyK",
        "colab_type": "code",
        "colab": {}
      },
      "source": [
        "dog_data_dir = 'gdrive/My Drive/Lab/dogImages'\n",
        "human_data_dir = 'lfw'\n",
        "\n",
        "def get_data_dir(is_dog):\n",
        "    \n",
        "    data_dir = dog_data_dir if is_dog else human_data_dir\n",
        "    \n",
        "    if not is_dog:\n",
        "        return {\n",
        "        'train_dir': data_dir,\n",
        "        'valid_dir': data_dir,\n",
        "        'test_dir': data_dir\n",
        "    }\n",
        "    \n",
        "    train_dir = data_dir + '/train'\n",
        "    valid_dir = data_dir + '/valid'\n",
        "    test_dir = data_dir + '/test'\n",
        "    \n",
        "    return {\n",
        "        'train_dir': train_dir,\n",
        "        'valid_dir': valid_dir,\n",
        "        'test_dir': test_dir\n",
        "    }"
      ],
      "execution_count": 0,
      "outputs": []
    },
    {
      "cell_type": "code",
      "metadata": {
        "id": "_182OSrJmOyN",
        "colab_type": "code",
        "colab": {}
      },
      "source": [
        "normalize = transforms.Normalize(mean=[0.485, 0.456, 0.406],\n",
        "                                 std=[0.229, 0.224, 0.225])\n",
        "\n",
        "train_transforms = transforms.Compose([transforms.RandomRotation((0, 360)),\n",
        "                                       transforms.RandomResizedCrop(224),              \n",
        "                                       transforms.ToTensor(),  \n",
        "                                       normalize])\n",
        "\n",
        "valid_transforms = transforms.Compose([transforms.RandomRotation((0, 360)),\n",
        "                                       transforms.RandomResizedCrop(224),              \n",
        "                                       transforms.ToTensor(),  \n",
        "                                       normalize])\n",
        "\n",
        "test_transforms = transforms.Compose([transforms.Resize(256), \n",
        "                                       transforms.CenterCrop(224),              \n",
        "                                       transforms.ToTensor(), \n",
        "                                       normalize])"
      ],
      "execution_count": 0,
      "outputs": []
    },
    {
      "cell_type": "code",
      "metadata": {
        "id": "EPUYTRlrmOyQ",
        "colab_type": "code",
        "colab": {}
      },
      "source": [
        "def get_data_loaders(is_dog, batch_sizes=[32, 32, 32]):\n",
        "    \n",
        "    data_dir_dict = get_data_dir(is_dog)\n",
        "    \n",
        "    train_dir = data_dir_dict['train_dir']\n",
        "    valid_dir = data_dir_dict['valid_dir']\n",
        "    test_dir = data_dir_dict['test_dir']\n",
        "    \n",
        "    train_data = datasets.ImageFolder(train_dir, transform=train_transforms)\n",
        "    valid_data = datasets.ImageFolder(valid_dir, transform=valid_transforms)\n",
        "    test_data = datasets.ImageFolder(test_dir, transform=test_transforms)\n",
        "\n",
        "    train_loader = torch.utils.data.DataLoader(train_data, batch_size=batch_sizes[0])\n",
        "    valid_loader = torch.utils.data.DataLoader(valid_data, batch_size=batch_sizes[1])\n",
        "    test_loader = torch.utils.data.DataLoader(test_data, batch_size=batch_sizes[2])\n",
        "    \n",
        "    return {\n",
        "        'train': train_loader,\n",
        "        'valid': valid_loader,\n",
        "        'test': test_loader\n",
        "    }"
      ],
      "execution_count": 0,
      "outputs": []
    },
    {
      "cell_type": "markdown",
      "metadata": {
        "id": "NmTZwLu4mOyV",
        "colab_type": "text"
      },
      "source": [
        "<a id='step1'></a>\n",
        "## Step 1: Detect Humans\n",
        "\n",
        "In this section, we use OpenCV's implementation of [Haar feature-based cascade classifiers](http://docs.opencv.org/trunk/d7/d8b/tutorial_py_face_detection.html) to detect human faces in images.  \n",
        "\n",
        "OpenCV provides many pre-trained face detectors, stored as XML files on [github](https://github.com/opencv/opencv/tree/master/data/haarcascades).  We have downloaded one of these detectors and stored it in the `haarcascades` directory.  In the next code cell, we demonstrate how to use this detector to find human faces in a sample image."
      ]
    },
    {
      "cell_type": "code",
      "metadata": {
        "id": "7uI3j4uHmOyV",
        "colab_type": "code",
        "colab": {
          "base_uri": "https://localhost:8080/",
          "height": 232
        },
        "outputId": "8b6cf2ec-71ff-4501-fc17-f831d059302f"
      },
      "source": [
        "# extract pre-trained face detector\n",
        "face_cascade = cv2.CascadeClassifier('haarcascades/haarcascade_frontalface_alt.xml')\n",
        "\n",
        "# load color (BGR) image\n",
        "img = cv2.imread(human_files[0])\n",
        "# convert BGR image to grayscale\n",
        "gray = cv2.cvtColor(img, cv2.COLOR_BGR2GRAY)\n",
        "\n",
        "# find faces in image\n",
        "faces = face_cascade.detectMultiScale(gray)\n",
        "\n",
        "# print number of faces detected in the image\n",
        "print('Number of faces detected:', len(faces))\n",
        "\n",
        "# get bounding box for each detected face\n",
        "for (x,y,w,h) in faces:\n",
        "    # add bounding box to color image\n",
        "    cv2.rectangle(img,(x,y),(x+w,y+h),(255,0,0),2)\n",
        "    \n",
        "# convert BGR image to RGB for plotting\n",
        "cv_rgb = cv2.cvtColor(img, cv2.COLOR_BGR2RGB)\n",
        "\n",
        "# display the image, along with bounding box\n",
        "plt.imshow(cv_rgb)\n",
        "plt.show()"
      ],
      "execution_count": 13,
      "outputs": [
        {
          "output_type": "error",
          "ename": "IndexError",
          "evalue": "ignored",
          "traceback": [
            "\u001b[0;31m---------------------------------------------------------------------------\u001b[0m",
            "\u001b[0;31mIndexError\u001b[0m                                Traceback (most recent call last)",
            "\u001b[0;32m<ipython-input-13-651b2aae6f60>\u001b[0m in \u001b[0;36m<module>\u001b[0;34m()\u001b[0m\n\u001b[1;32m      3\u001b[0m \u001b[0;34m\u001b[0m\u001b[0m\n\u001b[1;32m      4\u001b[0m \u001b[0;31m# load color (BGR) image\u001b[0m\u001b[0;34m\u001b[0m\u001b[0;34m\u001b[0m\u001b[0;34m\u001b[0m\u001b[0m\n\u001b[0;32m----> 5\u001b[0;31m \u001b[0mimg\u001b[0m \u001b[0;34m=\u001b[0m \u001b[0mcv2\u001b[0m\u001b[0;34m.\u001b[0m\u001b[0mimread\u001b[0m\u001b[0;34m(\u001b[0m\u001b[0mhuman_files\u001b[0m\u001b[0;34m[\u001b[0m\u001b[0;36m0\u001b[0m\u001b[0;34m]\u001b[0m\u001b[0;34m)\u001b[0m\u001b[0;34m\u001b[0m\u001b[0;34m\u001b[0m\u001b[0m\n\u001b[0m\u001b[1;32m      6\u001b[0m \u001b[0;31m# convert BGR image to grayscale\u001b[0m\u001b[0;34m\u001b[0m\u001b[0;34m\u001b[0m\u001b[0;34m\u001b[0m\u001b[0m\n\u001b[1;32m      7\u001b[0m \u001b[0mgray\u001b[0m \u001b[0;34m=\u001b[0m \u001b[0mcv2\u001b[0m\u001b[0;34m.\u001b[0m\u001b[0mcvtColor\u001b[0m\u001b[0;34m(\u001b[0m\u001b[0mimg\u001b[0m\u001b[0;34m,\u001b[0m \u001b[0mcv2\u001b[0m\u001b[0;34m.\u001b[0m\u001b[0mCOLOR_BGR2GRAY\u001b[0m\u001b[0;34m)\u001b[0m\u001b[0;34m\u001b[0m\u001b[0;34m\u001b[0m\u001b[0m\n",
            "\u001b[0;31mIndexError\u001b[0m: index 0 is out of bounds for axis 0 with size 0"
          ]
        }
      ]
    },
    {
      "cell_type": "markdown",
      "metadata": {
        "id": "6ZMKZyqumOyY",
        "colab_type": "text"
      },
      "source": [
        "Before using any of the face detectors, it is standard procedure to convert the images to grayscale.  The `detectMultiScale` function executes the classifier stored in `face_cascade` and takes the grayscale image as a parameter.  \n",
        "\n",
        "In the above code, `faces` is a numpy array of detected faces, where each row corresponds to a detected face.  Each detected face is a 1D array with four entries that specifies the bounding box of the detected face.  The first two entries in the array (extracted in the above code as `x` and `y`) specify the horizontal and vertical positions of the top left corner of the bounding box.  The last two entries in the array (extracted here as `w` and `h`) specify the width and height of the box.\n",
        "\n",
        "### Write a Human Face Detector\n",
        "\n",
        "We can use this procedure to write a function that returns `True` if a human face is detected in an image and `False` otherwise.  This function, aptly named `face_detector`, takes a string-valued file path to an image as input and appears in the code block below."
      ]
    },
    {
      "cell_type": "code",
      "metadata": {
        "id": "OGptwBuAmOyZ",
        "colab_type": "code",
        "colab": {}
      },
      "source": [
        "# returns \"True\" if face is detected in image stored at img_path\n",
        "def face_detector(img_path):\n",
        "    img = cv2.imread(img_path)\n",
        "    gray = cv2.cvtColor(img, cv2.COLOR_BGR2GRAY)\n",
        "    faces = face_cascade.detectMultiScale(gray)\n",
        "    return len(faces) > 0"
      ],
      "execution_count": 0,
      "outputs": []
    },
    {
      "cell_type": "markdown",
      "metadata": {
        "id": "aYzDj72MmOyd",
        "colab_type": "text"
      },
      "source": [
        "### (IMPLEMENTATION) Assess the Human Face Detector\n",
        "\n",
        "__Question 1:__ Use the code cell below to test the performance of the `face_detector` function.  \n",
        "- What percentage of the first 100 images in `human_files` have a detected human face?  \n",
        "- What percentage of the first 100 images in `dog_files` have a detected human face? \n",
        "\n",
        "Ideally, we would like 100% of human images with a detected face and 0% of dog images with a detected face.  You will see that our algorithm falls short of this goal, but still gives acceptable performance.  We extract the file paths for the first 100 images from each of the datasets and store them in the numpy arrays `human_files_short` and `dog_files_short`."
      ]
    },
    {
      "cell_type": "markdown",
      "metadata": {
        "id": "gLd6AHH8mOye",
        "colab_type": "text"
      },
      "source": [
        "__Answer:__ \n",
        "(You can print out your results and/or write your percentages in this cell)"
      ]
    },
    {
      "cell_type": "code",
      "metadata": {
        "id": "KYoaBFfcmOyf",
        "colab_type": "code",
        "colab": {}
      },
      "source": [
        "files_size = 100\n",
        "\n",
        "human_correct_face_count = 0\n",
        "dog_correct_face_count = 0\n",
        "\n",
        "for i in tqdm(range(files_size)):\n",
        "    if face_detector(human_files_short[i]):\n",
        "        human_correct_face_count += 1\n",
        "    if face_detector(dog_files_short[i]):\n",
        "        dog_correct_face_count += 1\n",
        "        \n",
        "print(\"Face dectection in first 100 images in human_files : {}%\".format(\n",
        "    (human_correct_face_count / files_size) * 100))\n",
        "print(\"Face dectection in first 100 images in dog_files : {}%\".format(\n",
        "    (dog_correct_face_count / files_size) * 100))\n"
      ],
      "execution_count": 0,
      "outputs": []
    },
    {
      "cell_type": "markdown",
      "metadata": {
        "id": "fvoeoK9NmOyj",
        "colab_type": "text"
      },
      "source": [
        "We suggest the face detector from OpenCV as a potential way to detect human images in your algorithm, but you are free to explore other approaches, especially approaches that make use of deep learning :).  Please use the code cell below to design and test your own face detection algorithm.  If you decide to pursue this _optional_ task, report performance on `human_files_short` and `dog_files_short`."
      ]
    },
    {
      "cell_type": "code",
      "metadata": {
        "id": "hymCf7USmOyk",
        "colab_type": "code",
        "colab": {}
      },
      "source": [
        "### (Optional) \n",
        "### TODO: Test performance of another face detection algorithm.\n",
        "### Feel free to use as many code cells as needed."
      ],
      "execution_count": 0,
      "outputs": []
    },
    {
      "cell_type": "markdown",
      "metadata": {
        "id": "aPgpOhHomOyn",
        "colab_type": "text"
      },
      "source": [
        "---\n",
        "<a id='step2'></a>\n",
        "## Step 2: Detect Dogs\n",
        "\n",
        "In this section, we use a [pre-trained model](http://pytorch.org/docs/master/torchvision/models.html) to detect dogs in images.  \n",
        "\n",
        "### Obtain Pre-trained VGG-16 Model\n",
        "\n",
        "The code cell below downloads the VGG-16 model, along with weights that have been trained on [ImageNet](http://www.image-net.org/), a very large, very popular dataset used for image classification and other vision tasks.  ImageNet contains over 10 million URLs, each linking to an image containing an object from one of [1000 categories](https://gist.github.com/yrevar/942d3a0ac09ec9e5eb3a).  "
      ]
    },
    {
      "cell_type": "code",
      "metadata": {
        "scrolled": true,
        "id": "KHQSRtWTmOyo",
        "colab_type": "code",
        "colab": {}
      },
      "source": [
        "# define VGG16 model\n",
        "VGG16 = models.vgg16(pretrained=True)\n",
        "\n",
        "# move model to GPU if CUDA is available\n",
        "if use_cuda:\n",
        "    VGG16 = VGG16.cuda()"
      ],
      "execution_count": 0,
      "outputs": []
    },
    {
      "cell_type": "markdown",
      "metadata": {
        "id": "VaKtz4a9mOyr",
        "colab_type": "text"
      },
      "source": [
        "Given an image, this pre-trained VGG-16 model returns a prediction (derived from the 1000 possible categories in ImageNet) for the object that is contained in the image."
      ]
    },
    {
      "cell_type": "markdown",
      "metadata": {
        "id": "GTQZURxkmOys",
        "colab_type": "text"
      },
      "source": [
        "### (IMPLEMENTATION) Making Predictions with a Pre-trained Model\n",
        "\n",
        "In the next code cell, you will write a function that accepts a path to an image (such as `'dogImages/train/001.Affenpinscher/Affenpinscher_00001.jpg'`) as input and returns the index corresponding to the ImageNet class that is predicted by the pre-trained VGG-16 model.  The output should always be an integer between 0 and 999, inclusive.\n",
        "\n",
        "Before writing the function, make sure that you take the time to learn  how to appropriately pre-process tensors for pre-trained models in the [PyTorch documentation](http://pytorch.org/docs/stable/torchvision/models.html)."
      ]
    },
    {
      "cell_type": "code",
      "metadata": {
        "id": "U1NOybr-mOyt",
        "colab_type": "code",
        "colab": {}
      },
      "source": [
        "def VGG16_predict(img_path):\n",
        "    '''\n",
        "    Use pre-trained VGG-16 model to obtain index corresponding to \n",
        "    predicted ImageNet class for image at specified path\n",
        "    \n",
        "    Args:\n",
        "        img_path: path to an image\n",
        "        \n",
        "    Returns:\n",
        "        Index corresponding to VGG-16 model's prediction\n",
        "    '''\n",
        "    \n",
        "    image = Image.open(img_path)\n",
        "    \n",
        "    image_tensor = transforms.Compose([transforms.ToTensor()])(image).unsqueeze(0)\n",
        "    \n",
        "    ps = VGG16(image_tensor)\n",
        "    \n",
        "    top_p, top_class = ps.topk(1, dim=1)\n",
        "    \n",
        "    return top_class.numpy().item(0)"
      ],
      "execution_count": 0,
      "outputs": []
    },
    {
      "cell_type": "markdown",
      "metadata": {
        "id": "b8k7FM6zmOyz",
        "colab_type": "text"
      },
      "source": [
        "### (IMPLEMENTATION) Write a Dog Detector\n",
        "\n",
        "While looking at the [dictionary](https://gist.github.com/yrevar/942d3a0ac09ec9e5eb3a), you will notice that the categories corresponding to dogs appear in an uninterrupted sequence and correspond to dictionary keys 151-268, inclusive, to include all categories from `'Chihuahua'` to `'Mexican hairless'`.  Thus, in order to check to see if an image is predicted to contain a dog by the pre-trained VGG-16 model, we need only check if the pre-trained model predicts an index between 151 and 268 (inclusive).\n",
        "\n",
        "Use these ideas to complete the `dog_detector` function below, which returns `True` if a dog is detected in an image (and `False` if not)."
      ]
    },
    {
      "cell_type": "code",
      "metadata": {
        "id": "_gcQtrvwmOy0",
        "colab_type": "code",
        "colab": {}
      },
      "source": [
        "### returns \"True\" if a dog is detected in the image stored at img_path\n",
        "def dog_detector(img_path):\n",
        "    \n",
        "    predicted_index = VGG16_predict(img_path)\n",
        "    \n",
        "    return predicted_index >= 151 and predicted_index <= 268"
      ],
      "execution_count": 0,
      "outputs": []
    },
    {
      "cell_type": "markdown",
      "metadata": {
        "id": "zfb8ZVKumOy6",
        "colab_type": "text"
      },
      "source": [
        "### (IMPLEMENTATION) Assess the Dog Detector\n",
        "\n",
        "__Question 2:__ Use the code cell below to test the performance of your `dog_detector` function.  \n",
        "- What percentage of the images in `human_files_short` have a detected dog?  \n",
        "- What percentage of the images in `dog_files_short` have a detected dog?"
      ]
    },
    {
      "cell_type": "markdown",
      "metadata": {
        "id": "tDzVHLnumOy7",
        "colab_type": "text"
      },
      "source": [
        "__Answer:__ \n"
      ]
    },
    {
      "cell_type": "code",
      "metadata": {
        "id": "wO0dZQv-mOy8",
        "colab_type": "code",
        "colab": {}
      },
      "source": [
        "files_size = 100\n",
        "\n",
        "human_correct_dog_count = 0\n",
        "dog_correct_dog_count = 0\n",
        "\n",
        "for i in tqdm(range(files_size)):\n",
        "    if dog_detector(human_files_short[i]):\n",
        "        human_correct_dog_count += 1\n",
        "    if dog_detector(dog_files_short[i]):\n",
        "        dog_correct_dog_count += 1\n",
        "        \n",
        "print(\"Dog dectection in first 100 images in human_files : {}%\".format(\n",
        "    (human_correct_dog_count / files_size) * 100))\n",
        "print(\"Dog dectection in first 100 images in dog_files : {}%\".format(\n",
        "    (dog_correct_dog_count / files_size) * 100))\n"
      ],
      "execution_count": 0,
      "outputs": []
    },
    {
      "cell_type": "markdown",
      "metadata": {
        "id": "_0SYgU7bmOy_",
        "colab_type": "text"
      },
      "source": [
        "We suggest VGG-16 as a potential network to detect dog images in your algorithm, but you are free to explore other pre-trained networks (such as [Inception-v3](http://pytorch.org/docs/master/torchvision/models.html#inception-v3), [ResNet-50](http://pytorch.org/docs/master/torchvision/models.html#id3), etc).  Please use the code cell below to test other pre-trained PyTorch models.  If you decide to pursue this _optional_ task, report performance on `human_files_short` and `dog_files_short`."
      ]
    },
    {
      "cell_type": "code",
      "metadata": {
        "id": "icsXmtFGmOzA",
        "colab_type": "code",
        "colab": {}
      },
      "source": [
        "### (Optional) \n",
        "### TODO: Report the performance of another pre-trained network.\n",
        "### Feel free to use as many code cells as needed."
      ],
      "execution_count": 0,
      "outputs": []
    },
    {
      "cell_type": "markdown",
      "metadata": {
        "id": "3JTZ2gEVmOzC",
        "colab_type": "text"
      },
      "source": [
        "---\n",
        "<a id='step3'></a>\n",
        "## Step 3: Create a CNN to Classify Dog Breeds (from Scratch)\n",
        "\n",
        "Now that we have functions for detecting humans and dogs in images, we need a way to predict breed from images.  In this step, you will create a CNN that classifies dog breeds.  You must create your CNN _from scratch_ (so, you can't use transfer learning _yet_!), and you must attain a test accuracy of at least 10%.  In Step 4 of this notebook, you will have the opportunity to use transfer learning to create a CNN that attains greatly improved accuracy.\n",
        "\n",
        "We mention that the task of assigning breed to dogs from images is considered exceptionally challenging.  To see why, consider that *even a human* would have trouble distinguishing between a Brittany and a Welsh Springer Spaniel.  \n",
        "\n",
        "Brittany | Welsh Springer Spaniel\n",
        "- | - \n",
        "<img src=\"images/Brittany_02625.jpg\" width=\"100\"> | <img src=\"images/Welsh_springer_spaniel_08203.jpg\" width=\"200\">\n",
        "\n",
        "It is not difficult to find other dog breed pairs with minimal inter-class variation (for instance, Curly-Coated Retrievers and American Water Spaniels).  \n",
        "\n",
        "Curly-Coated Retriever | American Water Spaniel\n",
        "- | -\n",
        "<img src=\"images/Curly-coated_retriever_03896.jpg\" width=\"200\"> | <img src=\"images/American_water_spaniel_00648.jpg\" width=\"200\">\n",
        "\n",
        "\n",
        "Likewise, recall that labradors come in yellow, chocolate, and black.  Your vision-based algorithm will have to conquer this high intra-class variation to determine how to classify all of these different shades as the same breed.  \n",
        "\n",
        "Yellow Labrador | Chocolate Labrador | Black Labrador\n",
        "- | -\n",
        "<img src=\"images/Labrador_retriever_06457.jpg\" width=\"150\"> | <img src=\"images/Labrador_retriever_06455.jpg\" width=\"240\"> | <img src=\"images/Labrador_retriever_06449.jpg\" width=\"220\">\n",
        "\n",
        "We also mention that random chance presents an exceptionally low bar: setting aside the fact that the classes are slightly imabalanced, a random guess will provide a correct answer roughly 1 in 133 times, which corresponds to an accuracy of less than 1%.  \n",
        "\n",
        "Remember that the practice is far ahead of the theory in deep learning.  Experiment with many different architectures, and trust your intuition.  And, of course, have fun!\n",
        "\n",
        "### (IMPLEMENTATION) Specify Data Loaders for the Dog Dataset\n",
        "\n",
        "Use the code cell below to write three separate [data loaders](http://pytorch.org/docs/stable/data.html#torch.utils.data.DataLoader) for the training, validation, and test datasets of dog images (located at `dogImages/train`, `dogImages/valid`, and `dogImages/test`, respectively).  You may find [this documentation on custom datasets](http://pytorch.org/docs/stable/torchvision/datasets.html) to be a useful resource.  If you are interested in augmenting your training and/or validation data, check out the wide variety of [transforms](http://pytorch.org/docs/stable/torchvision/transforms.html?highlight=transform)!"
      ]
    },
    {
      "cell_type": "code",
      "metadata": {
        "id": "oSliZDm-mOzD",
        "colab_type": "code",
        "colab": {}
      },
      "source": [
        "## Specify appropriate transforms, and batch_sizes\n",
        "\n",
        "dog_data_loaders = get_data_loaders(is_dog=True, batch_sizes=[32, 32, 32])\n",
        "\n",
        "loaders_scratch = dog_data_loaders"
      ],
      "execution_count": 0,
      "outputs": []
    },
    {
      "cell_type": "markdown",
      "metadata": {
        "id": "A-yWwyOamOzF",
        "colab_type": "text"
      },
      "source": [
        "**Question 3:** Describe your chosen procedure for preprocessing the data. \n",
        "- How does your code resize the images (by cropping, stretching, etc)?  What size did you pick for the input tensor, and why?\n",
        "- Did you decide to augment the dataset?  If so, how (through translations, flips, rotations, etc)?  If not, why not?\n"
      ]
    },
    {
      "cell_type": "markdown",
      "metadata": {
        "id": "fc5OzQMamOzG",
        "colab_type": "text"
      },
      "source": [
        "**Answer**:"
      ]
    },
    {
      "cell_type": "markdown",
      "metadata": {
        "id": "eRDlwJQLmOzG",
        "colab_type": "text"
      },
      "source": [
        "### (IMPLEMENTATION) Model Architecture\n",
        "\n",
        "Create a CNN to classify dog breed.  Use the template in the code cell below."
      ]
    },
    {
      "cell_type": "markdown",
      "metadata": {
        "id": "J01BunofmOzL",
        "colab_type": "text"
      },
      "source": [
        "https://medium.com/nanonets/how-to-easily-build-a-dog-breed-image-classification-model-2fd214419cde"
      ]
    },
    {
      "cell_type": "code",
      "metadata": {
        "id": "Xx9J186pmOzM",
        "colab_type": "code",
        "colab": {}
      },
      "source": [
        "# define the CNN architecture\n",
        "class Net(nn.Module):\n",
        "    \n",
        "    def __init__(self, num_classes=133):\n",
        "        \n",
        "        super(Net, self).__init__()\n",
        "        \n",
        "        ## Define layers of a CNN\n",
        "        \n",
        "        self.conv1 = nn.Conv2d(3, 16, 7)\n",
        "        self.conv2 = nn.Conv2d(16, 32, 7)\n",
        "        self.conv3 = nn.Conv2d(32, 64, 7)\n",
        "        self.conv4 = nn.Conv2d(64, 128, 7)\n",
        "        self.conv5 = nn.Conv2d(128, 256, 7)\n",
        "        self.conv6 = nn.Conv2d(256, 512, 7, padding=4)\n",
        "      \n",
        "        self.maxpool1 = nn.MaxPool2d(3, stride=2)\n",
        "        \n",
        "        self.bn1 = nn.BatchNorm2d(16)\n",
        "        self.bn2 = nn.BatchNorm2d(32)\n",
        "        self.bn3 = nn.BatchNorm2d(64)\n",
        "        self.bn4 = nn.BatchNorm2d(128)\n",
        "        self.bn5 = nn.BatchNorm2d(256)\n",
        "        self.bn6 = nn.BatchNorm2d(512)\n",
        "        \n",
        "        self.bn7 = nn.BatchNorm1d(1028)\n",
        "        self.bn8 = nn.BatchNorm1d(512)\n",
        "\n",
        "        self.fc1 = nn.Linear(4608, 1028)\n",
        "        self.fc2 = nn.Linear(1028, 512)\n",
        "        self.fc3 = nn.Linear(512, num_classes)\n",
        "\n",
        "        self.dropout = nn.Dropout(0.80)\n",
        "        \n",
        "        \n",
        "    def forward(self, x):\n",
        "        \n",
        "        x = self.conv1(x)\n",
        "        x = self.bn1(x)\n",
        "        x = F.relu(self.maxpool1(x))\n",
        "        \n",
        "        x = self.conv2(x)\n",
        "        x = self.bn2(x)\n",
        "        x = F.relu(self.maxpool1(x))\n",
        "        \n",
        "        x = self.conv3(x)\n",
        "        x = self.bn3(x)\n",
        "        x = F.relu(self.maxpool1(x))\n",
        "\n",
        "        x = self.conv4(x)\n",
        "        x = self.bn4(x)\n",
        "        x = F.relu(self.maxpool1(x))\n",
        "\n",
        "        x = self.conv5(x)\n",
        "        x = self.bn5(x)\n",
        "        \n",
        "        x = self.conv6(x)\n",
        "        x = self.bn6(x)\n",
        "\n",
        "        x = x.view(x.shape[0], -1)\n",
        "\n",
        "        x = self.dropout(x)\n",
        "\n",
        "        x = self.fc1(x)\n",
        "        x = F.relu(x)\n",
        "\n",
        "        x = self.fc2(x)\n",
        "        x = F.relu(x)\n",
        "\n",
        "        x = self.fc3(x)\n",
        "        \n",
        "        return x"
      ],
      "execution_count": 0,
      "outputs": []
    },
    {
      "cell_type": "code",
      "metadata": {
        "id": "SVtfufzAmOzQ",
        "colab_type": "code",
        "colab": {}
      },
      "source": [
        "@torch.no_grad()\n",
        "def init_weights(m):\n",
        "    \n",
        "    if type(m) == nn.Linear:\n",
        "        \n",
        "        y = m.in_features\n",
        "        # m.weight.data shoud be taken from a normal distribution\n",
        "        m.weight.data.normal_(0.0,1/np.sqrt(y))\n",
        "        # m.bias.data should be 0\n",
        "        m.bias.data.fill_(0)"
      ],
      "execution_count": 0,
      "outputs": []
    },
    {
      "cell_type": "code",
      "metadata": {
        "id": "VmX2vLTvmOzV",
        "colab_type": "code",
        "colab": {}
      },
      "source": [
        "# instantiate the CNN\n",
        "model_scratch = Net()\n",
        "# model_scratch.apply(init_weights)\n",
        "\n",
        "# move tensors to GPU if CUDA is available\n",
        "if use_cuda:\n",
        "    model_scratch.cuda()"
      ],
      "execution_count": 0,
      "outputs": []
    },
    {
      "cell_type": "code",
      "metadata": {
        "id": "_svedu_hwWB5",
        "colab_type": "code",
        "outputId": "164bc740-3ff2-45a8-d46f-6649e4b42fad",
        "colab": {
          "base_uri": "https://localhost:8080/",
          "height": 34
        }
      },
      "source": [
        "data, target = next(iter(loaders_scratch['train']))\n",
        "\n",
        "if use_cuda:\n",
        "    data, target = data.cuda(), target.cuda()\n",
        "\n",
        "output = model_scratch.forward(data)\n",
        "\n",
        "output.shape"
      ],
      "execution_count": 0,
      "outputs": [
        {
          "output_type": "execute_result",
          "data": {
            "text/plain": [
              "torch.Size([32, 133])"
            ]
          },
          "metadata": {
            "tags": []
          },
          "execution_count": 13
        }
      ]
    },
    {
      "cell_type": "markdown",
      "metadata": {
        "id": "4udPxppCmOzj",
        "colab_type": "text"
      },
      "source": [
        "__Question 4:__ Outline the steps you took to get to your final CNN architecture and your reasoning at each step.  "
      ]
    },
    {
      "cell_type": "markdown",
      "metadata": {
        "id": "7BSlgFOXmOzj",
        "colab_type": "text"
      },
      "source": [
        "__Answer:__ "
      ]
    },
    {
      "cell_type": "markdown",
      "metadata": {
        "id": "oqQacUe1mOzk",
        "colab_type": "text"
      },
      "source": [
        "### (IMPLEMENTATION) Specify Loss Function and Optimizer\n",
        "\n",
        "Use the next code cell to specify a [loss function](http://pytorch.org/docs/stable/nn.html#loss-functions) and [optimizer](http://pytorch.org/docs/stable/optim.html).  Save the chosen loss function as `criterion_scratch`, and the optimizer as `optimizer_scratch` below."
      ]
    },
    {
      "cell_type": "code",
      "metadata": {
        "id": "kD3NLh4SmOzk",
        "colab_type": "code",
        "colab": {}
      },
      "source": [
        "criterion_scratch = nn.CrossEntropyLoss()\n",
        "\n",
        "optimizer_scratch = optim.SGD(model_scratch.parameters(), lr=0.001)"
      ],
      "execution_count": 0,
      "outputs": []
    },
    {
      "cell_type": "markdown",
      "metadata": {
        "id": "y8shMpVnmOzo",
        "colab_type": "text"
      },
      "source": [
        "### (IMPLEMENTATION) Train and Validate the Model\n",
        "\n",
        "Train and validate your model in the code cell below.  [Save the final model parameters](http://pytorch.org/docs/master/notes/serialization.html) at filepath `'model_scratch.pt'`."
      ]
    },
    {
      "cell_type": "code",
      "metadata": {
        "id": "9ikBbJ1smOzo",
        "colab_type": "code",
        "outputId": "a7f49c09-801e-4c86-dcbe-db41990354ec",
        "colab": {
          "base_uri": "https://localhost:8080/",
          "height": 1000
        }
      },
      "source": [
        "def train(n_epochs, loaders, model, optimizer, criterion, use_cuda, save_path):\n",
        "    \"\"\"returns trained model\"\"\"\n",
        "    # initialize tracker for minimum validation loss\n",
        "    valid_loss_min = np.Inf \n",
        "    \n",
        "    for epoch in range(1, n_epochs+1):\n",
        "        # initialize variables to monitor training and validation loss\n",
        "        train_loss = 0.0\n",
        "        valid_loss = 0.0\n",
        "        \n",
        "        ###################\n",
        "        # train the model #\n",
        "        ###################\n",
        "        model.train()\n",
        "        for batch_idx, (data, target) in enumerate(tqdm(loaders['train'])):\n",
        "            # move to GPU\n",
        "            if use_cuda:\n",
        "                data, target = data.cuda(), target.cuda()\n",
        "                \n",
        "            optimizer.zero_grad()\n",
        "                \n",
        "            output = model(data)\n",
        "            \n",
        "            ## find the loss and update the model parameters accordingly\n",
        "            loss = criterion(output, target)\n",
        "            \n",
        "            loss.backward()\n",
        "        \n",
        "            optimizer.step()\n",
        "        \n",
        "            ## record the average training loss, using something like\n",
        "            train_loss = train_loss + ((1 / (batch_idx + 1)) * (loss.data - train_loss))\n",
        "            \n",
        "        ######################    \n",
        "        # validate the model #\n",
        "        ######################\n",
        "        model.eval()\n",
        "        for batch_idx, (data, target) in enumerate(tqdm(loaders['valid'])):\n",
        "            # move to GPU\n",
        "            if use_cuda:\n",
        "                data, target = data.cuda(), target.cuda()\n",
        "                \n",
        "            output = model(data)\n",
        "            \n",
        "            loss = criterion(output, target)\n",
        "            \n",
        "            ## update the average validation loss\n",
        "            valid_loss = valid_loss + ((1 / (batch_idx + 1)) * (loss.data - valid_loss))\n",
        "        \n",
        "        if valid_loss < valid_loss_min:\n",
        "          valid_loss_min = valid_loss\n",
        "          torch.save(model.state_dict(), save_path)\n",
        "\n",
        "        # print training/validation statistics \n",
        "        print(' Epoch: {} Training Loss: {:.6f} Validation Loss: {:.6f} Min Validation Loss {:.6f}'.format(\n",
        "            epoch, \n",
        "            train_loss,\n",
        "            valid_loss,\n",
        "            valid_loss_min\n",
        "            ))\n",
        "\n",
        "        if train_loss + 2 < valid_loss or valid_loss < 1.0:\n",
        "          break\n",
        "        \n",
        "        ## TODO: save the model if validation loss has decreased\n",
        "            \n",
        "    # return trained model\n",
        "    return model\n",
        "\n",
        "\n",
        "# train the model\n",
        "model_scratch = train(1000, loaders_scratch, model_scratch, optimizer_scratch, \n",
        "                      criterion_scratch, use_cuda, 'gdrive/My Drive/Lab/model_scratch.pt')\n",
        "\n",
        "# load the model that got the best validation accuracy\n",
        "model_scratch.load_state_dict(torch.load('gdrive/My Drive/Lab/model_scratch.pt'))"
      ],
      "execution_count": 13,
      "outputs": [
        {
          "output_type": "stream",
          "text": [
            "100%|██████████| 209/209 [01:27<00:00,  2.39it/s]\n",
            "100%|██████████| 27/27 [00:09<00:00,  2.73it/s]\n",
            "  0%|          | 0/209 [00:00<?, ?it/s]"
          ],
          "name": "stderr"
        },
        {
          "output_type": "stream",
          "text": [
            " Epoch: 1 Training Loss: 4.932896 Validation Loss: 4.892006 Min Validation Loss 4.892006\n"
          ],
          "name": "stdout"
        },
        {
          "output_type": "stream",
          "text": [
            "100%|██████████| 209/209 [01:27<00:00,  2.39it/s]\n",
            "100%|██████████| 27/27 [00:09<00:00,  2.77it/s]\n",
            "  0%|          | 0/209 [00:00<?, ?it/s]"
          ],
          "name": "stderr"
        },
        {
          "output_type": "stream",
          "text": [
            " Epoch: 2 Training Loss: 4.924007 Validation Loss: 4.885307 Min Validation Loss 4.885307\n"
          ],
          "name": "stdout"
        },
        {
          "output_type": "stream",
          "text": [
            "100%|██████████| 209/209 [01:27<00:00,  2.39it/s]\n",
            "100%|██████████| 27/27 [00:09<00:00,  2.76it/s]\n",
            "  0%|          | 0/209 [00:00<?, ?it/s]"
          ],
          "name": "stderr"
        },
        {
          "output_type": "stream",
          "text": [
            " Epoch: 3 Training Loss: 4.916665 Validation Loss: 4.885916 Min Validation Loss 4.885307\n"
          ],
          "name": "stdout"
        },
        {
          "output_type": "stream",
          "text": [
            "100%|██████████| 209/209 [01:27<00:00,  2.39it/s]\n",
            "100%|██████████| 27/27 [00:10<00:00,  2.69it/s]\n",
            "  0%|          | 0/209 [00:00<?, ?it/s]"
          ],
          "name": "stderr"
        },
        {
          "output_type": "stream",
          "text": [
            " Epoch: 4 Training Loss: 4.912287 Validation Loss: 4.882233 Min Validation Loss 4.882233\n"
          ],
          "name": "stdout"
        },
        {
          "output_type": "stream",
          "text": [
            "100%|██████████| 209/209 [01:27<00:00,  2.39it/s]\n",
            "100%|██████████| 27/27 [00:10<00:00,  2.64it/s]\n",
            "  0%|          | 0/209 [00:00<?, ?it/s]"
          ],
          "name": "stderr"
        },
        {
          "output_type": "stream",
          "text": [
            " Epoch: 5 Training Loss: 4.909749 Validation Loss: 4.876953 Min Validation Loss 4.876953\n"
          ],
          "name": "stdout"
        },
        {
          "output_type": "stream",
          "text": [
            "100%|██████████| 209/209 [01:29<00:00,  2.34it/s]\n",
            "100%|██████████| 27/27 [00:09<00:00,  2.73it/s]\n",
            "  0%|          | 0/209 [00:00<?, ?it/s]"
          ],
          "name": "stderr"
        },
        {
          "output_type": "stream",
          "text": [
            " Epoch: 6 Training Loss: 4.907517 Validation Loss: 4.874111 Min Validation Loss 4.874111\n"
          ],
          "name": "stdout"
        },
        {
          "output_type": "stream",
          "text": [
            "100%|██████████| 209/209 [01:27<00:00,  2.38it/s]\n",
            "100%|██████████| 27/27 [00:09<00:00,  2.74it/s]\n",
            "  0%|          | 0/209 [00:00<?, ?it/s]"
          ],
          "name": "stderr"
        },
        {
          "output_type": "stream",
          "text": [
            " Epoch: 7 Training Loss: 4.904466 Validation Loss: 4.871150 Min Validation Loss 4.871150\n"
          ],
          "name": "stdout"
        },
        {
          "output_type": "stream",
          "text": [
            "100%|██████████| 209/209 [01:27<00:00,  2.40it/s]\n",
            "100%|██████████| 27/27 [00:09<00:00,  2.74it/s]\n",
            "  0%|          | 0/209 [00:00<?, ?it/s]"
          ],
          "name": "stderr"
        },
        {
          "output_type": "stream",
          "text": [
            " Epoch: 8 Training Loss: 4.897224 Validation Loss: 4.869645 Min Validation Loss 4.869645\n"
          ],
          "name": "stdout"
        },
        {
          "output_type": "stream",
          "text": [
            "100%|██████████| 209/209 [01:27<00:00,  2.38it/s]\n",
            "100%|██████████| 27/27 [00:09<00:00,  2.72it/s]\n",
            "  0%|          | 0/209 [00:00<?, ?it/s]"
          ],
          "name": "stderr"
        },
        {
          "output_type": "stream",
          "text": [
            " Epoch: 9 Training Loss: 4.894227 Validation Loss: 4.865904 Min Validation Loss 4.865904\n"
          ],
          "name": "stdout"
        },
        {
          "output_type": "stream",
          "text": [
            "100%|██████████| 209/209 [01:28<00:00,  2.36it/s]\n",
            "100%|██████████| 27/27 [00:09<00:00,  2.73it/s]\n",
            "  0%|          | 0/209 [00:00<?, ?it/s]"
          ],
          "name": "stderr"
        },
        {
          "output_type": "stream",
          "text": [
            " Epoch: 10 Training Loss: 4.891016 Validation Loss: 4.871683 Min Validation Loss 4.865904\n"
          ],
          "name": "stdout"
        },
        {
          "output_type": "stream",
          "text": [
            "100%|██████████| 209/209 [01:28<00:00,  2.37it/s]\n",
            "100%|██████████| 27/27 [00:09<00:00,  2.77it/s]\n",
            "  0%|          | 0/209 [00:00<?, ?it/s]"
          ],
          "name": "stderr"
        },
        {
          "output_type": "stream",
          "text": [
            " Epoch: 11 Training Loss: 4.891957 Validation Loss: 4.861362 Min Validation Loss 4.861362\n"
          ],
          "name": "stdout"
        },
        {
          "output_type": "stream",
          "text": [
            "100%|██████████| 209/209 [01:27<00:00,  2.39it/s]\n",
            "100%|██████████| 27/27 [00:09<00:00,  2.74it/s]\n",
            "  0%|          | 0/209 [00:00<?, ?it/s]"
          ],
          "name": "stderr"
        },
        {
          "output_type": "stream",
          "text": [
            " Epoch: 12 Training Loss: 4.892414 Validation Loss: 4.858405 Min Validation Loss 4.858405\n"
          ],
          "name": "stdout"
        },
        {
          "output_type": "stream",
          "text": [
            "100%|██████████| 209/209 [01:28<00:00,  2.36it/s]\n",
            "100%|██████████| 27/27 [00:10<00:00,  2.67it/s]\n",
            "  0%|          | 0/209 [00:00<?, ?it/s]"
          ],
          "name": "stderr"
        },
        {
          "output_type": "stream",
          "text": [
            " Epoch: 13 Training Loss: 4.891380 Validation Loss: 4.858314 Min Validation Loss 4.858314\n"
          ],
          "name": "stdout"
        },
        {
          "output_type": "stream",
          "text": [
            "100%|██████████| 209/209 [01:27<00:00,  2.38it/s]\n",
            "100%|██████████| 27/27 [00:09<00:00,  2.72it/s]\n",
            "  0%|          | 0/209 [00:00<?, ?it/s]"
          ],
          "name": "stderr"
        },
        {
          "output_type": "stream",
          "text": [
            " Epoch: 14 Training Loss: 4.888660 Validation Loss: 4.853028 Min Validation Loss 4.853028\n"
          ],
          "name": "stdout"
        },
        {
          "output_type": "stream",
          "text": [
            "100%|██████████| 209/209 [01:28<00:00,  2.37it/s]\n",
            "100%|██████████| 27/27 [00:09<00:00,  2.70it/s]\n",
            "  0%|          | 0/209 [00:00<?, ?it/s]"
          ],
          "name": "stderr"
        },
        {
          "output_type": "stream",
          "text": [
            " Epoch: 15 Training Loss: 4.885320 Validation Loss: 4.855753 Min Validation Loss 4.853028\n"
          ],
          "name": "stdout"
        },
        {
          "output_type": "stream",
          "text": [
            "100%|██████████| 209/209 [01:27<00:00,  2.39it/s]\n",
            "100%|██████████| 27/27 [00:09<00:00,  2.75it/s]\n",
            "  0%|          | 0/209 [00:00<?, ?it/s]"
          ],
          "name": "stderr"
        },
        {
          "output_type": "stream",
          "text": [
            " Epoch: 16 Training Loss: 4.886082 Validation Loss: 4.854047 Min Validation Loss 4.853028\n"
          ],
          "name": "stdout"
        },
        {
          "output_type": "stream",
          "text": [
            "100%|██████████| 209/209 [01:27<00:00,  2.38it/s]\n",
            "100%|██████████| 27/27 [00:09<00:00,  2.74it/s]\n",
            "  0%|          | 0/209 [00:00<?, ?it/s]"
          ],
          "name": "stderr"
        },
        {
          "output_type": "stream",
          "text": [
            " Epoch: 17 Training Loss: 4.885986 Validation Loss: 4.850936 Min Validation Loss 4.850936\n"
          ],
          "name": "stdout"
        },
        {
          "output_type": "stream",
          "text": [
            "100%|██████████| 209/209 [01:27<00:00,  2.39it/s]\n",
            "100%|██████████| 27/27 [00:09<00:00,  2.76it/s]\n",
            "  0%|          | 0/209 [00:00<?, ?it/s]"
          ],
          "name": "stderr"
        },
        {
          "output_type": "stream",
          "text": [
            " Epoch: 18 Training Loss: 4.885447 Validation Loss: 4.846747 Min Validation Loss 4.846747\n"
          ],
          "name": "stdout"
        },
        {
          "output_type": "stream",
          "text": [
            "100%|██████████| 209/209 [01:28<00:00,  2.37it/s]\n",
            "100%|██████████| 27/27 [00:09<00:00,  2.78it/s]\n",
            "  0%|          | 0/209 [00:00<?, ?it/s]"
          ],
          "name": "stderr"
        },
        {
          "output_type": "stream",
          "text": [
            " Epoch: 19 Training Loss: 4.884017 Validation Loss: 4.845916 Min Validation Loss 4.845916\n"
          ],
          "name": "stdout"
        },
        {
          "output_type": "stream",
          "text": [
            "100%|██████████| 209/209 [01:28<00:00,  2.37it/s]\n",
            "100%|██████████| 27/27 [00:09<00:00,  2.73it/s]\n",
            "  0%|          | 0/209 [00:00<?, ?it/s]"
          ],
          "name": "stderr"
        },
        {
          "output_type": "stream",
          "text": [
            " Epoch: 20 Training Loss: 4.882111 Validation Loss: 4.845930 Min Validation Loss 4.845916\n"
          ],
          "name": "stdout"
        },
        {
          "output_type": "stream",
          "text": [
            "100%|██████████| 209/209 [01:26<00:00,  2.40it/s]\n",
            "100%|██████████| 27/27 [00:09<00:00,  2.76it/s]\n",
            "  0%|          | 0/209 [00:00<?, ?it/s]"
          ],
          "name": "stderr"
        },
        {
          "output_type": "stream",
          "text": [
            " Epoch: 21 Training Loss: 4.883404 Validation Loss: 4.840983 Min Validation Loss 4.840983\n"
          ],
          "name": "stdout"
        },
        {
          "output_type": "stream",
          "text": [
            "100%|██████████| 209/209 [01:27<00:00,  2.40it/s]\n",
            "100%|██████████| 27/27 [00:09<00:00,  2.76it/s]\n",
            "  0%|          | 0/209 [00:00<?, ?it/s]"
          ],
          "name": "stderr"
        },
        {
          "output_type": "stream",
          "text": [
            " Epoch: 22 Training Loss: 4.881136 Validation Loss: 4.840065 Min Validation Loss 4.840065\n"
          ],
          "name": "stdout"
        },
        {
          "output_type": "stream",
          "text": [
            "100%|██████████| 209/209 [01:28<00:00,  2.37it/s]\n",
            "100%|██████████| 27/27 [00:09<00:00,  2.75it/s]\n",
            "  0%|          | 0/209 [00:00<?, ?it/s]"
          ],
          "name": "stderr"
        },
        {
          "output_type": "stream",
          "text": [
            " Epoch: 23 Training Loss: 4.875403 Validation Loss: 4.839987 Min Validation Loss 4.839987\n"
          ],
          "name": "stdout"
        },
        {
          "output_type": "stream",
          "text": [
            "100%|██████████| 209/209 [01:27<00:00,  2.39it/s]\n",
            "100%|██████████| 27/27 [00:09<00:00,  2.71it/s]\n",
            "  0%|          | 0/209 [00:00<?, ?it/s]"
          ],
          "name": "stderr"
        },
        {
          "output_type": "stream",
          "text": [
            " Epoch: 24 Training Loss: 4.878260 Validation Loss: 4.842190 Min Validation Loss 4.839987\n"
          ],
          "name": "stdout"
        },
        {
          "output_type": "stream",
          "text": [
            "100%|██████████| 209/209 [01:27<00:00,  2.38it/s]\n",
            "100%|██████████| 27/27 [00:09<00:00,  2.75it/s]\n",
            "  0%|          | 0/209 [00:00<?, ?it/s]"
          ],
          "name": "stderr"
        },
        {
          "output_type": "stream",
          "text": [
            " Epoch: 25 Training Loss: 4.878014 Validation Loss: 4.838384 Min Validation Loss 4.838384\n"
          ],
          "name": "stdout"
        },
        {
          "output_type": "stream",
          "text": [
            "100%|██████████| 209/209 [01:28<00:00,  2.36it/s]\n",
            "100%|██████████| 27/27 [00:09<00:00,  2.72it/s]\n",
            "  0%|          | 0/209 [00:00<?, ?it/s]"
          ],
          "name": "stderr"
        },
        {
          "output_type": "stream",
          "text": [
            " Epoch: 26 Training Loss: 4.876514 Validation Loss: 4.834604 Min Validation Loss 4.834604\n"
          ],
          "name": "stdout"
        },
        {
          "output_type": "stream",
          "text": [
            "100%|██████████| 209/209 [01:27<00:00,  2.39it/s]\n",
            "100%|██████████| 27/27 [00:10<00:00,  2.70it/s]\n",
            "  0%|          | 0/209 [00:00<?, ?it/s]"
          ],
          "name": "stderr"
        },
        {
          "output_type": "stream",
          "text": [
            " Epoch: 27 Training Loss: 4.876477 Validation Loss: 4.838341 Min Validation Loss 4.834604\n"
          ],
          "name": "stdout"
        },
        {
          "output_type": "stream",
          "text": [
            "100%|██████████| 209/209 [01:27<00:00,  2.38it/s]\n",
            "100%|██████████| 27/27 [00:09<00:00,  2.73it/s]\n",
            "  0%|          | 0/209 [00:00<?, ?it/s]"
          ],
          "name": "stderr"
        },
        {
          "output_type": "stream",
          "text": [
            " Epoch: 28 Training Loss: 4.876889 Validation Loss: 4.835529 Min Validation Loss 4.834604\n"
          ],
          "name": "stdout"
        },
        {
          "output_type": "stream",
          "text": [
            "100%|██████████| 209/209 [01:27<00:00,  2.38it/s]\n",
            "100%|██████████| 27/27 [00:10<00:00,  2.67it/s]\n",
            "  0%|          | 0/209 [00:00<?, ?it/s]"
          ],
          "name": "stderr"
        },
        {
          "output_type": "stream",
          "text": [
            " Epoch: 29 Training Loss: 4.873948 Validation Loss: 4.842350 Min Validation Loss 4.834604\n"
          ],
          "name": "stdout"
        },
        {
          "output_type": "stream",
          "text": [
            "100%|██████████| 209/209 [01:27<00:00,  2.38it/s]\n",
            "100%|██████████| 27/27 [00:09<00:00,  2.73it/s]\n",
            "  0%|          | 0/209 [00:00<?, ?it/s]"
          ],
          "name": "stderr"
        },
        {
          "output_type": "stream",
          "text": [
            " Epoch: 30 Training Loss: 4.872214 Validation Loss: 4.830684 Min Validation Loss 4.830684\n"
          ],
          "name": "stdout"
        },
        {
          "output_type": "stream",
          "text": [
            "100%|██████████| 209/209 [01:27<00:00,  2.38it/s]\n",
            "100%|██████████| 27/27 [00:09<00:00,  2.73it/s]\n",
            "  0%|          | 0/209 [00:00<?, ?it/s]"
          ],
          "name": "stderr"
        },
        {
          "output_type": "stream",
          "text": [
            " Epoch: 31 Training Loss: 4.872357 Validation Loss: 4.826714 Min Validation Loss 4.826714\n"
          ],
          "name": "stdout"
        },
        {
          "output_type": "stream",
          "text": [
            "100%|██████████| 209/209 [01:28<00:00,  2.36it/s]\n",
            "100%|██████████| 27/27 [00:10<00:00,  2.58it/s]\n",
            "  0%|          | 0/209 [00:00<?, ?it/s]"
          ],
          "name": "stderr"
        },
        {
          "output_type": "stream",
          "text": [
            " Epoch: 32 Training Loss: 4.871173 Validation Loss: 4.828145 Min Validation Loss 4.826714\n"
          ],
          "name": "stdout"
        },
        {
          "output_type": "stream",
          "text": [
            "100%|██████████| 209/209 [01:27<00:00,  2.38it/s]\n",
            "100%|██████████| 27/27 [00:09<00:00,  2.72it/s]\n",
            "  0%|          | 0/209 [00:00<?, ?it/s]"
          ],
          "name": "stderr"
        },
        {
          "output_type": "stream",
          "text": [
            " Epoch: 33 Training Loss: 4.869000 Validation Loss: 4.823465 Min Validation Loss 4.823465\n"
          ],
          "name": "stdout"
        },
        {
          "output_type": "stream",
          "text": [
            "100%|██████████| 209/209 [01:27<00:00,  2.38it/s]\n",
            "100%|██████████| 27/27 [00:09<00:00,  2.70it/s]\n",
            "  0%|          | 0/209 [00:00<?, ?it/s]"
          ],
          "name": "stderr"
        },
        {
          "output_type": "stream",
          "text": [
            " Epoch: 34 Training Loss: 4.870687 Validation Loss: 4.815684 Min Validation Loss 4.815684\n"
          ],
          "name": "stdout"
        },
        {
          "output_type": "stream",
          "text": [
            "100%|██████████| 209/209 [01:27<00:00,  2.38it/s]\n",
            "100%|██████████| 27/27 [00:09<00:00,  2.74it/s]\n",
            "  0%|          | 0/209 [00:00<?, ?it/s]"
          ],
          "name": "stderr"
        },
        {
          "output_type": "stream",
          "text": [
            " Epoch: 35 Training Loss: 4.866743 Validation Loss: 4.816668 Min Validation Loss 4.815684\n"
          ],
          "name": "stdout"
        },
        {
          "output_type": "stream",
          "text": [
            "100%|██████████| 209/209 [01:27<00:00,  2.38it/s]\n",
            "100%|██████████| 27/27 [00:09<00:00,  2.75it/s]\n",
            "  0%|          | 0/209 [00:00<?, ?it/s]"
          ],
          "name": "stderr"
        },
        {
          "output_type": "stream",
          "text": [
            " Epoch: 36 Training Loss: 4.868563 Validation Loss: 4.822545 Min Validation Loss 4.815684\n"
          ],
          "name": "stdout"
        },
        {
          "output_type": "stream",
          "text": [
            "100%|██████████| 209/209 [01:27<00:00,  2.39it/s]\n",
            "100%|██████████| 27/27 [00:09<00:00,  2.72it/s]\n",
            "  0%|          | 0/209 [00:00<?, ?it/s]"
          ],
          "name": "stderr"
        },
        {
          "output_type": "stream",
          "text": [
            " Epoch: 37 Training Loss: 4.868093 Validation Loss: 4.825398 Min Validation Loss 4.815684\n"
          ],
          "name": "stdout"
        },
        {
          "output_type": "stream",
          "text": [
            "100%|██████████| 209/209 [01:27<00:00,  2.39it/s]\n",
            "100%|██████████| 27/27 [00:09<00:00,  2.74it/s]\n",
            "  0%|          | 0/209 [00:00<?, ?it/s]"
          ],
          "name": "stderr"
        },
        {
          "output_type": "stream",
          "text": [
            " Epoch: 38 Training Loss: 4.867176 Validation Loss: 4.817173 Min Validation Loss 4.815684\n"
          ],
          "name": "stdout"
        },
        {
          "output_type": "stream",
          "text": [
            "100%|██████████| 209/209 [01:28<00:00,  2.37it/s]\n",
            "100%|██████████| 27/27 [00:09<00:00,  2.75it/s]\n",
            "  0%|          | 0/209 [00:00<?, ?it/s]"
          ],
          "name": "stderr"
        },
        {
          "output_type": "stream",
          "text": [
            " Epoch: 39 Training Loss: 4.865889 Validation Loss: 4.806187 Min Validation Loss 4.806187\n"
          ],
          "name": "stdout"
        },
        {
          "output_type": "stream",
          "text": [
            "100%|██████████| 209/209 [01:27<00:00,  2.40it/s]\n",
            "100%|██████████| 27/27 [00:09<00:00,  2.75it/s]\n",
            "  0%|          | 0/209 [00:00<?, ?it/s]"
          ],
          "name": "stderr"
        },
        {
          "output_type": "stream",
          "text": [
            " Epoch: 40 Training Loss: 4.866094 Validation Loss: 4.817608 Min Validation Loss 4.806187\n"
          ],
          "name": "stdout"
        },
        {
          "output_type": "stream",
          "text": [
            "100%|██████████| 209/209 [01:27<00:00,  2.39it/s]\n",
            "100%|██████████| 27/27 [00:09<00:00,  2.77it/s]\n",
            "  0%|          | 0/209 [00:00<?, ?it/s]"
          ],
          "name": "stderr"
        },
        {
          "output_type": "stream",
          "text": [
            " Epoch: 41 Training Loss: 4.863945 Validation Loss: 4.815035 Min Validation Loss 4.806187\n"
          ],
          "name": "stdout"
        },
        {
          "output_type": "stream",
          "text": [
            "100%|██████████| 209/209 [01:27<00:00,  2.38it/s]\n",
            "100%|██████████| 27/27 [00:09<00:00,  2.74it/s]\n",
            "  0%|          | 0/209 [00:00<?, ?it/s]"
          ],
          "name": "stderr"
        },
        {
          "output_type": "stream",
          "text": [
            " Epoch: 42 Training Loss: 4.862599 Validation Loss: 4.807345 Min Validation Loss 4.806187\n"
          ],
          "name": "stdout"
        },
        {
          "output_type": "stream",
          "text": [
            "100%|██████████| 209/209 [01:27<00:00,  2.38it/s]\n",
            "100%|██████████| 27/27 [00:09<00:00,  2.72it/s]\n",
            "  0%|          | 0/209 [00:00<?, ?it/s]"
          ],
          "name": "stderr"
        },
        {
          "output_type": "stream",
          "text": [
            " Epoch: 43 Training Loss: 4.863773 Validation Loss: 4.816868 Min Validation Loss 4.806187\n"
          ],
          "name": "stdout"
        },
        {
          "output_type": "stream",
          "text": [
            "100%|██████████| 209/209 [01:27<00:00,  2.38it/s]\n",
            "100%|██████████| 27/27 [00:09<00:00,  2.74it/s]\n",
            "  0%|          | 0/209 [00:00<?, ?it/s]"
          ],
          "name": "stderr"
        },
        {
          "output_type": "stream",
          "text": [
            " Epoch: 44 Training Loss: 4.863492 Validation Loss: 4.815426 Min Validation Loss 4.806187\n"
          ],
          "name": "stdout"
        },
        {
          "output_type": "stream",
          "text": [
            "100%|██████████| 209/209 [01:28<00:00,  2.36it/s]\n",
            "100%|██████████| 27/27 [00:09<00:00,  2.74it/s]\n",
            "  0%|          | 0/209 [00:00<?, ?it/s]"
          ],
          "name": "stderr"
        },
        {
          "output_type": "stream",
          "text": [
            " Epoch: 45 Training Loss: 4.861825 Validation Loss: 4.809180 Min Validation Loss 4.806187\n"
          ],
          "name": "stdout"
        },
        {
          "output_type": "stream",
          "text": [
            "100%|██████████| 209/209 [01:27<00:00,  2.39it/s]\n",
            "100%|██████████| 27/27 [00:09<00:00,  2.75it/s]\n",
            "  0%|          | 0/209 [00:00<?, ?it/s]"
          ],
          "name": "stderr"
        },
        {
          "output_type": "stream",
          "text": [
            " Epoch: 46 Training Loss: 4.860696 Validation Loss: 4.804405 Min Validation Loss 4.804405\n"
          ],
          "name": "stdout"
        },
        {
          "output_type": "stream",
          "text": [
            "100%|██████████| 209/209 [01:27<00:00,  2.38it/s]\n",
            "100%|██████████| 27/27 [00:09<00:00,  2.74it/s]\n",
            "  0%|          | 0/209 [00:00<?, ?it/s]"
          ],
          "name": "stderr"
        },
        {
          "output_type": "stream",
          "text": [
            " Epoch: 47 Training Loss: 4.857866 Validation Loss: 4.799305 Min Validation Loss 4.799305\n"
          ],
          "name": "stdout"
        },
        {
          "output_type": "stream",
          "text": [
            "100%|██████████| 209/209 [01:28<00:00,  2.37it/s]\n",
            "100%|██████████| 27/27 [00:10<00:00,  2.67it/s]\n",
            "  0%|          | 0/209 [00:00<?, ?it/s]"
          ],
          "name": "stderr"
        },
        {
          "output_type": "stream",
          "text": [
            " Epoch: 48 Training Loss: 4.861339 Validation Loss: 4.801552 Min Validation Loss 4.799305\n"
          ],
          "name": "stdout"
        },
        {
          "output_type": "stream",
          "text": [
            "100%|██████████| 209/209 [01:27<00:00,  2.39it/s]\n",
            "100%|██████████| 27/27 [00:09<00:00,  2.72it/s]\n",
            "  0%|          | 0/209 [00:00<?, ?it/s]"
          ],
          "name": "stderr"
        },
        {
          "output_type": "stream",
          "text": [
            " Epoch: 49 Training Loss: 4.855494 Validation Loss: 4.808933 Min Validation Loss 4.799305\n"
          ],
          "name": "stdout"
        },
        {
          "output_type": "stream",
          "text": [
            "100%|██████████| 209/209 [01:27<00:00,  2.40it/s]\n",
            "100%|██████████| 27/27 [00:09<00:00,  2.73it/s]\n",
            "  0%|          | 0/209 [00:00<?, ?it/s]"
          ],
          "name": "stderr"
        },
        {
          "output_type": "stream",
          "text": [
            " Epoch: 50 Training Loss: 4.857472 Validation Loss: 4.798121 Min Validation Loss 4.798121\n"
          ],
          "name": "stdout"
        },
        {
          "output_type": "stream",
          "text": [
            "100%|██████████| 209/209 [01:27<00:00,  2.39it/s]\n",
            "100%|██████████| 27/27 [00:09<00:00,  2.72it/s]\n",
            "  0%|          | 0/209 [00:00<?, ?it/s]"
          ],
          "name": "stderr"
        },
        {
          "output_type": "stream",
          "text": [
            " Epoch: 51 Training Loss: 4.853580 Validation Loss: 4.798832 Min Validation Loss 4.798121\n"
          ],
          "name": "stdout"
        },
        {
          "output_type": "stream",
          "text": [
            "100%|██████████| 209/209 [01:27<00:00,  2.38it/s]\n",
            "100%|██████████| 27/27 [00:09<00:00,  2.75it/s]\n",
            "  0%|          | 0/209 [00:00<?, ?it/s]"
          ],
          "name": "stderr"
        },
        {
          "output_type": "stream",
          "text": [
            " Epoch: 52 Training Loss: 4.854987 Validation Loss: 4.805831 Min Validation Loss 4.798121\n"
          ],
          "name": "stdout"
        },
        {
          "output_type": "stream",
          "text": [
            "100%|██████████| 209/209 [01:27<00:00,  2.39it/s]\n",
            "100%|██████████| 27/27 [00:09<00:00,  2.75it/s]\n",
            "  0%|          | 0/209 [00:00<?, ?it/s]"
          ],
          "name": "stderr"
        },
        {
          "output_type": "stream",
          "text": [
            " Epoch: 53 Training Loss: 4.854731 Validation Loss: 4.797614 Min Validation Loss 4.797614\n"
          ],
          "name": "stdout"
        },
        {
          "output_type": "stream",
          "text": [
            "100%|██████████| 209/209 [01:27<00:00,  2.40it/s]\n",
            "100%|██████████| 27/27 [00:10<00:00,  2.70it/s]\n",
            "  0%|          | 0/209 [00:00<?, ?it/s]"
          ],
          "name": "stderr"
        },
        {
          "output_type": "stream",
          "text": [
            " Epoch: 54 Training Loss: 4.851652 Validation Loss: 4.797471 Min Validation Loss 4.797471\n"
          ],
          "name": "stdout"
        },
        {
          "output_type": "stream",
          "text": [
            "100%|██████████| 209/209 [01:28<00:00,  2.36it/s]\n",
            "100%|██████████| 27/27 [00:09<00:00,  2.71it/s]\n",
            "  0%|          | 0/209 [00:00<?, ?it/s]"
          ],
          "name": "stderr"
        },
        {
          "output_type": "stream",
          "text": [
            " Epoch: 55 Training Loss: 4.850081 Validation Loss: 4.802271 Min Validation Loss 4.797471\n"
          ],
          "name": "stdout"
        },
        {
          "output_type": "stream",
          "text": [
            "100%|██████████| 209/209 [01:27<00:00,  2.38it/s]\n",
            "100%|██████████| 27/27 [00:09<00:00,  2.71it/s]\n",
            "  0%|          | 0/209 [00:00<?, ?it/s]"
          ],
          "name": "stderr"
        },
        {
          "output_type": "stream",
          "text": [
            " Epoch: 56 Training Loss: 4.845101 Validation Loss: 4.794041 Min Validation Loss 4.794041\n"
          ],
          "name": "stdout"
        },
        {
          "output_type": "stream",
          "text": [
            "100%|██████████| 209/209 [01:28<00:00,  2.36it/s]\n",
            "100%|██████████| 27/27 [00:09<00:00,  2.73it/s]\n",
            "  0%|          | 0/209 [00:00<?, ?it/s]"
          ],
          "name": "stderr"
        },
        {
          "output_type": "stream",
          "text": [
            " Epoch: 57 Training Loss: 4.848725 Validation Loss: 4.807878 Min Validation Loss 4.794041\n"
          ],
          "name": "stdout"
        },
        {
          "output_type": "stream",
          "text": [
            "100%|██████████| 209/209 [01:28<00:00,  2.36it/s]\n",
            "100%|██████████| 27/27 [00:09<00:00,  2.75it/s]\n",
            "  0%|          | 0/209 [00:00<?, ?it/s]"
          ],
          "name": "stderr"
        },
        {
          "output_type": "stream",
          "text": [
            " Epoch: 58 Training Loss: 4.844921 Validation Loss: 4.781052 Min Validation Loss 4.781052\n"
          ],
          "name": "stdout"
        },
        {
          "output_type": "stream",
          "text": [
            "100%|██████████| 209/209 [01:27<00:00,  2.38it/s]\n",
            "100%|██████████| 27/27 [00:09<00:00,  2.73it/s]\n",
            "  0%|          | 0/209 [00:00<?, ?it/s]"
          ],
          "name": "stderr"
        },
        {
          "output_type": "stream",
          "text": [
            " Epoch: 59 Training Loss: 4.842159 Validation Loss: 4.783948 Min Validation Loss 4.781052\n"
          ],
          "name": "stdout"
        },
        {
          "output_type": "stream",
          "text": [
            "100%|██████████| 209/209 [01:27<00:00,  2.38it/s]\n",
            "100%|██████████| 27/27 [00:09<00:00,  2.73it/s]\n",
            "  0%|          | 0/209 [00:00<?, ?it/s]"
          ],
          "name": "stderr"
        },
        {
          "output_type": "stream",
          "text": [
            " Epoch: 60 Training Loss: 4.844042 Validation Loss: 4.791845 Min Validation Loss 4.781052\n"
          ],
          "name": "stdout"
        },
        {
          "output_type": "stream",
          "text": [
            "100%|██████████| 209/209 [01:28<00:00,  2.36it/s]\n",
            "100%|██████████| 27/27 [00:09<00:00,  2.73it/s]\n",
            "  0%|          | 0/209 [00:00<?, ?it/s]"
          ],
          "name": "stderr"
        },
        {
          "output_type": "stream",
          "text": [
            " Epoch: 61 Training Loss: 4.839484 Validation Loss: 4.776721 Min Validation Loss 4.776721\n"
          ],
          "name": "stdout"
        },
        {
          "output_type": "stream",
          "text": [
            "100%|██████████| 209/209 [01:28<00:00,  2.37it/s]\n",
            "100%|██████████| 27/27 [00:09<00:00,  2.70it/s]\n",
            "  0%|          | 0/209 [00:00<?, ?it/s]"
          ],
          "name": "stderr"
        },
        {
          "output_type": "stream",
          "text": [
            " Epoch: 62 Training Loss: 4.839824 Validation Loss: 4.779552 Min Validation Loss 4.776721\n"
          ],
          "name": "stdout"
        },
        {
          "output_type": "stream",
          "text": [
            "100%|██████████| 209/209 [01:27<00:00,  2.39it/s]\n",
            "100%|██████████| 27/27 [00:09<00:00,  2.73it/s]\n",
            "  0%|          | 0/209 [00:00<?, ?it/s]"
          ],
          "name": "stderr"
        },
        {
          "output_type": "stream",
          "text": [
            " Epoch: 63 Training Loss: 4.834740 Validation Loss: 4.779053 Min Validation Loss 4.776721\n"
          ],
          "name": "stdout"
        },
        {
          "output_type": "stream",
          "text": [
            "100%|██████████| 209/209 [01:27<00:00,  2.38it/s]\n",
            "100%|██████████| 27/27 [00:09<00:00,  2.77it/s]\n",
            "  0%|          | 0/209 [00:00<?, ?it/s]"
          ],
          "name": "stderr"
        },
        {
          "output_type": "stream",
          "text": [
            " Epoch: 64 Training Loss: 4.832693 Validation Loss: 4.787930 Min Validation Loss 4.776721\n"
          ],
          "name": "stdout"
        },
        {
          "output_type": "stream",
          "text": [
            "100%|██████████| 209/209 [01:27<00:00,  2.38it/s]\n",
            "100%|██████████| 27/27 [00:09<00:00,  2.72it/s]\n",
            "  0%|          | 0/209 [00:00<?, ?it/s]"
          ],
          "name": "stderr"
        },
        {
          "output_type": "stream",
          "text": [
            " Epoch: 65 Training Loss: 4.833022 Validation Loss: 4.783850 Min Validation Loss 4.776721\n"
          ],
          "name": "stdout"
        },
        {
          "output_type": "stream",
          "text": [
            "100%|██████████| 209/209 [01:27<00:00,  2.39it/s]\n",
            "100%|██████████| 27/27 [00:09<00:00,  2.73it/s]\n",
            "  0%|          | 0/209 [00:00<?, ?it/s]"
          ],
          "name": "stderr"
        },
        {
          "output_type": "stream",
          "text": [
            " Epoch: 66 Training Loss: 4.828938 Validation Loss: 4.786139 Min Validation Loss 4.776721\n"
          ],
          "name": "stdout"
        },
        {
          "output_type": "stream",
          "text": [
            "100%|██████████| 209/209 [01:28<00:00,  2.37it/s]\n",
            "100%|██████████| 27/27 [00:10<00:00,  2.66it/s]\n",
            "  0%|          | 0/209 [00:00<?, ?it/s]"
          ],
          "name": "stderr"
        },
        {
          "output_type": "stream",
          "text": [
            " Epoch: 67 Training Loss: 4.824787 Validation Loss: 4.771884 Min Validation Loss 4.771884\n"
          ],
          "name": "stdout"
        },
        {
          "output_type": "stream",
          "text": [
            "100%|██████████| 209/209 [01:27<00:00,  2.38it/s]\n",
            "100%|██████████| 27/27 [00:09<00:00,  2.76it/s]\n",
            "  0%|          | 0/209 [00:00<?, ?it/s]"
          ],
          "name": "stderr"
        },
        {
          "output_type": "stream",
          "text": [
            " Epoch: 68 Training Loss: 4.821754 Validation Loss: 4.771472 Min Validation Loss 4.771472\n"
          ],
          "name": "stdout"
        },
        {
          "output_type": "stream",
          "text": [
            "100%|██████████| 209/209 [01:27<00:00,  2.38it/s]\n",
            "100%|██████████| 27/27 [00:09<00:00,  2.73it/s]\n",
            "  0%|          | 0/209 [00:00<?, ?it/s]"
          ],
          "name": "stderr"
        },
        {
          "output_type": "stream",
          "text": [
            " Epoch: 69 Training Loss: 4.818420 Validation Loss: 4.768316 Min Validation Loss 4.768316\n"
          ],
          "name": "stdout"
        },
        {
          "output_type": "stream",
          "text": [
            "100%|██████████| 209/209 [01:27<00:00,  2.38it/s]\n",
            "100%|██████████| 27/27 [00:09<00:00,  2.74it/s]\n",
            "  0%|          | 0/209 [00:00<?, ?it/s]"
          ],
          "name": "stderr"
        },
        {
          "output_type": "stream",
          "text": [
            " Epoch: 70 Training Loss: 4.808827 Validation Loss: 4.780773 Min Validation Loss 4.768316\n"
          ],
          "name": "stdout"
        },
        {
          "output_type": "stream",
          "text": [
            "100%|██████████| 209/209 [01:28<00:00,  2.37it/s]\n",
            "100%|██████████| 27/27 [00:10<00:00,  2.70it/s]\n",
            "  0%|          | 0/209 [00:00<?, ?it/s]"
          ],
          "name": "stderr"
        },
        {
          "output_type": "stream",
          "text": [
            " Epoch: 71 Training Loss: 4.805909 Validation Loss: 4.780075 Min Validation Loss 4.768316\n"
          ],
          "name": "stdout"
        },
        {
          "output_type": "stream",
          "text": [
            "100%|██████████| 209/209 [01:27<00:00,  2.38it/s]\n",
            "100%|██████████| 27/27 [00:09<00:00,  2.75it/s]\n",
            "  0%|          | 0/209 [00:00<?, ?it/s]"
          ],
          "name": "stderr"
        },
        {
          "output_type": "stream",
          "text": [
            " Epoch: 72 Training Loss: 4.798781 Validation Loss: 4.766316 Min Validation Loss 4.766316\n"
          ],
          "name": "stdout"
        },
        {
          "output_type": "stream",
          "text": [
            "100%|██████████| 209/209 [01:27<00:00,  2.38it/s]\n",
            "100%|██████████| 27/27 [00:09<00:00,  2.75it/s]\n",
            "  0%|          | 0/209 [00:00<?, ?it/s]"
          ],
          "name": "stderr"
        },
        {
          "output_type": "stream",
          "text": [
            " Epoch: 73 Training Loss: 4.795970 Validation Loss: 4.773408 Min Validation Loss 4.766316\n"
          ],
          "name": "stdout"
        },
        {
          "output_type": "stream",
          "text": [
            "100%|██████████| 209/209 [01:27<00:00,  2.39it/s]\n",
            "100%|██████████| 27/27 [00:09<00:00,  2.76it/s]\n",
            "  0%|          | 0/209 [00:00<?, ?it/s]"
          ],
          "name": "stderr"
        },
        {
          "output_type": "stream",
          "text": [
            " Epoch: 74 Training Loss: 4.781572 Validation Loss: 4.776694 Min Validation Loss 4.766316\n"
          ],
          "name": "stdout"
        },
        {
          "output_type": "stream",
          "text": [
            "100%|██████████| 209/209 [01:27<00:00,  2.39it/s]\n",
            "100%|██████████| 27/27 [00:09<00:00,  2.72it/s]\n",
            "  0%|          | 0/209 [00:00<?, ?it/s]"
          ],
          "name": "stderr"
        },
        {
          "output_type": "stream",
          "text": [
            " Epoch: 75 Training Loss: 4.776989 Validation Loss: 4.795565 Min Validation Loss 4.766316\n"
          ],
          "name": "stdout"
        },
        {
          "output_type": "stream",
          "text": [
            "100%|██████████| 209/209 [01:28<00:00,  2.35it/s]\n",
            "100%|██████████| 27/27 [00:10<00:00,  2.67it/s]\n",
            "  0%|          | 0/209 [00:00<?, ?it/s]"
          ],
          "name": "stderr"
        },
        {
          "output_type": "stream",
          "text": [
            " Epoch: 76 Training Loss: 4.767960 Validation Loss: 4.810476 Min Validation Loss 4.766316\n"
          ],
          "name": "stdout"
        },
        {
          "output_type": "stream",
          "text": [
            "100%|██████████| 209/209 [01:28<00:00,  2.36it/s]\n",
            "100%|██████████| 27/27 [00:09<00:00,  2.75it/s]\n",
            "  0%|          | 0/209 [00:00<?, ?it/s]"
          ],
          "name": "stderr"
        },
        {
          "output_type": "stream",
          "text": [
            " Epoch: 77 Training Loss: 4.754702 Validation Loss: 4.797586 Min Validation Loss 4.766316\n"
          ],
          "name": "stdout"
        },
        {
          "output_type": "stream",
          "text": [
            "100%|██████████| 209/209 [01:27<00:00,  2.38it/s]\n",
            "100%|██████████| 27/27 [00:09<00:00,  2.72it/s]\n",
            "  0%|          | 0/209 [00:00<?, ?it/s]"
          ],
          "name": "stderr"
        },
        {
          "output_type": "stream",
          "text": [
            " Epoch: 78 Training Loss: 4.742396 Validation Loss: 4.794983 Min Validation Loss 4.766316\n"
          ],
          "name": "stdout"
        },
        {
          "output_type": "stream",
          "text": [
            "100%|██████████| 209/209 [01:27<00:00,  2.38it/s]\n",
            "100%|██████████| 27/27 [00:09<00:00,  2.71it/s]\n",
            "  0%|          | 0/209 [00:00<?, ?it/s]"
          ],
          "name": "stderr"
        },
        {
          "output_type": "stream",
          "text": [
            " Epoch: 79 Training Loss: 4.736856 Validation Loss: 4.816230 Min Validation Loss 4.766316\n"
          ],
          "name": "stdout"
        },
        {
          "output_type": "stream",
          "text": [
            "100%|██████████| 209/209 [01:28<00:00,  2.37it/s]\n",
            "100%|██████████| 27/27 [00:09<00:00,  2.72it/s]\n",
            "  0%|          | 0/209 [00:00<?, ?it/s]"
          ],
          "name": "stderr"
        },
        {
          "output_type": "stream",
          "text": [
            " Epoch: 80 Training Loss: 4.722912 Validation Loss: 4.840741 Min Validation Loss 4.766316\n"
          ],
          "name": "stdout"
        },
        {
          "output_type": "stream",
          "text": [
            "100%|██████████| 209/209 [01:27<00:00,  2.38it/s]\n",
            "100%|██████████| 27/27 [00:09<00:00,  2.74it/s]\n",
            "  0%|          | 0/209 [00:00<?, ?it/s]"
          ],
          "name": "stderr"
        },
        {
          "output_type": "stream",
          "text": [
            " Epoch: 81 Training Loss: 4.705485 Validation Loss: 4.846407 Min Validation Loss 4.766316\n"
          ],
          "name": "stdout"
        },
        {
          "output_type": "stream",
          "text": [
            "100%|██████████| 209/209 [01:27<00:00,  2.39it/s]\n",
            "100%|██████████| 27/27 [00:09<00:00,  2.71it/s]\n",
            "  0%|          | 0/209 [00:00<?, ?it/s]"
          ],
          "name": "stderr"
        },
        {
          "output_type": "stream",
          "text": [
            " Epoch: 82 Training Loss: 4.692029 Validation Loss: 4.864485 Min Validation Loss 4.766316\n"
          ],
          "name": "stdout"
        },
        {
          "output_type": "stream",
          "text": [
            "100%|██████████| 209/209 [01:28<00:00,  2.36it/s]\n",
            "100%|██████████| 27/27 [00:09<00:00,  2.74it/s]\n",
            "  0%|          | 0/209 [00:00<?, ?it/s]"
          ],
          "name": "stderr"
        },
        {
          "output_type": "stream",
          "text": [
            " Epoch: 83 Training Loss: 4.674466 Validation Loss: 4.861773 Min Validation Loss 4.766316\n"
          ],
          "name": "stdout"
        },
        {
          "output_type": "stream",
          "text": [
            "100%|██████████| 209/209 [01:27<00:00,  2.38it/s]\n",
            "100%|██████████| 27/27 [00:09<00:00,  2.74it/s]\n",
            "  0%|          | 0/209 [00:00<?, ?it/s]"
          ],
          "name": "stderr"
        },
        {
          "output_type": "stream",
          "text": [
            " Epoch: 84 Training Loss: 4.667936 Validation Loss: 4.888713 Min Validation Loss 4.766316\n"
          ],
          "name": "stdout"
        },
        {
          "output_type": "stream",
          "text": [
            "100%|██████████| 209/209 [01:27<00:00,  2.40it/s]\n",
            "100%|██████████| 27/27 [00:09<00:00,  2.72it/s]\n",
            "  0%|          | 0/209 [00:00<?, ?it/s]"
          ],
          "name": "stderr"
        },
        {
          "output_type": "stream",
          "text": [
            " Epoch: 85 Training Loss: 4.645839 Validation Loss: 4.898579 Min Validation Loss 4.766316\n"
          ],
          "name": "stdout"
        },
        {
          "output_type": "stream",
          "text": [
            "100%|██████████| 209/209 [01:27<00:00,  2.39it/s]\n",
            "100%|██████████| 27/27 [00:10<00:00,  2.61it/s]\n",
            "  0%|          | 0/209 [00:00<?, ?it/s]"
          ],
          "name": "stderr"
        },
        {
          "output_type": "stream",
          "text": [
            " Epoch: 86 Training Loss: 4.626948 Validation Loss: 4.902836 Min Validation Loss 4.766316\n"
          ],
          "name": "stdout"
        },
        {
          "output_type": "stream",
          "text": [
            "100%|██████████| 209/209 [01:27<00:00,  2.40it/s]\n",
            "100%|██████████| 27/27 [00:09<00:00,  2.75it/s]\n",
            "  0%|          | 0/209 [00:00<?, ?it/s]"
          ],
          "name": "stderr"
        },
        {
          "output_type": "stream",
          "text": [
            " Epoch: 87 Training Loss: 4.616394 Validation Loss: 4.952396 Min Validation Loss 4.766316\n"
          ],
          "name": "stdout"
        },
        {
          "output_type": "stream",
          "text": [
            "100%|██████████| 209/209 [01:27<00:00,  2.39it/s]\n",
            "100%|██████████| 27/27 [00:09<00:00,  2.73it/s]\n",
            "  0%|          | 0/209 [00:00<?, ?it/s]"
          ],
          "name": "stderr"
        },
        {
          "output_type": "stream",
          "text": [
            " Epoch: 88 Training Loss: 4.589043 Validation Loss: 4.939986 Min Validation Loss 4.766316\n"
          ],
          "name": "stdout"
        },
        {
          "output_type": "stream",
          "text": [
            "100%|██████████| 209/209 [01:27<00:00,  2.38it/s]\n",
            "100%|██████████| 27/27 [00:09<00:00,  2.76it/s]\n",
            "  0%|          | 0/209 [00:00<?, ?it/s]"
          ],
          "name": "stderr"
        },
        {
          "output_type": "stream",
          "text": [
            " Epoch: 89 Training Loss: 4.586602 Validation Loss: 4.995794 Min Validation Loss 4.766316\n"
          ],
          "name": "stdout"
        },
        {
          "output_type": "stream",
          "text": [
            "100%|██████████| 209/209 [01:27<00:00,  2.39it/s]\n",
            "100%|██████████| 27/27 [00:09<00:00,  2.72it/s]\n",
            "  0%|          | 0/209 [00:00<?, ?it/s]"
          ],
          "name": "stderr"
        },
        {
          "output_type": "stream",
          "text": [
            " Epoch: 90 Training Loss: 4.570744 Validation Loss: 5.007334 Min Validation Loss 4.766316\n"
          ],
          "name": "stdout"
        },
        {
          "output_type": "stream",
          "text": [
            "100%|██████████| 209/209 [01:27<00:00,  2.40it/s]\n",
            "100%|██████████| 27/27 [00:09<00:00,  2.77it/s]\n",
            "  0%|          | 0/209 [00:00<?, ?it/s]"
          ],
          "name": "stderr"
        },
        {
          "output_type": "stream",
          "text": [
            " Epoch: 91 Training Loss: 4.550963 Validation Loss: 5.030272 Min Validation Loss 4.766316\n"
          ],
          "name": "stdout"
        },
        {
          "output_type": "stream",
          "text": [
            "100%|██████████| 209/209 [01:27<00:00,  2.40it/s]\n",
            "100%|██████████| 27/27 [00:09<00:00,  2.76it/s]\n",
            "  0%|          | 0/209 [00:00<?, ?it/s]"
          ],
          "name": "stderr"
        },
        {
          "output_type": "stream",
          "text": [
            " Epoch: 92 Training Loss: 4.521049 Validation Loss: 5.013346 Min Validation Loss 4.766316\n"
          ],
          "name": "stdout"
        },
        {
          "output_type": "stream",
          "text": [
            "100%|██████████| 209/209 [01:27<00:00,  2.39it/s]\n",
            "100%|██████████| 27/27 [00:09<00:00,  2.78it/s]\n",
            "  0%|          | 0/209 [00:00<?, ?it/s]"
          ],
          "name": "stderr"
        },
        {
          "output_type": "stream",
          "text": [
            " Epoch: 93 Training Loss: 4.518101 Validation Loss: 5.091661 Min Validation Loss 4.766316\n"
          ],
          "name": "stdout"
        },
        {
          "output_type": "stream",
          "text": [
            "100%|██████████| 209/209 [01:27<00:00,  2.39it/s]\n",
            "100%|██████████| 27/27 [00:09<00:00,  2.77it/s]\n",
            "  0%|          | 0/209 [00:00<?, ?it/s]"
          ],
          "name": "stderr"
        },
        {
          "output_type": "stream",
          "text": [
            " Epoch: 94 Training Loss: 4.494403 Validation Loss: 5.082213 Min Validation Loss 4.766316\n"
          ],
          "name": "stdout"
        },
        {
          "output_type": "stream",
          "text": [
            "100%|██████████| 209/209 [01:27<00:00,  2.40it/s]\n",
            "100%|██████████| 27/27 [00:09<00:00,  2.75it/s]\n",
            "  0%|          | 0/209 [00:00<?, ?it/s]"
          ],
          "name": "stderr"
        },
        {
          "output_type": "stream",
          "text": [
            " Epoch: 95 Training Loss: 4.471296 Validation Loss: 5.132197 Min Validation Loss 4.766316\n"
          ],
          "name": "stdout"
        },
        {
          "output_type": "stream",
          "text": [
            "100%|██████████| 209/209 [01:27<00:00,  2.40it/s]\n",
            "100%|██████████| 27/27 [00:09<00:00,  2.75it/s]\n",
            "  0%|          | 0/209 [00:00<?, ?it/s]"
          ],
          "name": "stderr"
        },
        {
          "output_type": "stream",
          "text": [
            " Epoch: 96 Training Loss: 4.490893 Validation Loss: 5.147087 Min Validation Loss 4.766316\n"
          ],
          "name": "stdout"
        },
        {
          "output_type": "stream",
          "text": [
            "100%|██████████| 209/209 [01:26<00:00,  2.41it/s]\n",
            "100%|██████████| 27/27 [00:09<00:00,  2.77it/s]\n",
            "  0%|          | 0/209 [00:00<?, ?it/s]"
          ],
          "name": "stderr"
        },
        {
          "output_type": "stream",
          "text": [
            " Epoch: 97 Training Loss: 4.481796 Validation Loss: 5.157249 Min Validation Loss 4.766316\n"
          ],
          "name": "stdout"
        },
        {
          "output_type": "stream",
          "text": [
            "100%|██████████| 209/209 [01:26<00:00,  2.41it/s]\n",
            "100%|██████████| 27/27 [00:09<00:00,  2.78it/s]\n",
            "  0%|          | 0/209 [00:00<?, ?it/s]"
          ],
          "name": "stderr"
        },
        {
          "output_type": "stream",
          "text": [
            " Epoch: 98 Training Loss: 4.472456 Validation Loss: 5.161760 Min Validation Loss 4.766316\n"
          ],
          "name": "stdout"
        },
        {
          "output_type": "stream",
          "text": [
            "100%|██████████| 209/209 [01:27<00:00,  2.40it/s]\n",
            "100%|██████████| 27/27 [00:09<00:00,  2.78it/s]\n",
            "  0%|          | 0/209 [00:00<?, ?it/s]"
          ],
          "name": "stderr"
        },
        {
          "output_type": "stream",
          "text": [
            " Epoch: 99 Training Loss: 4.473828 Validation Loss: 5.168482 Min Validation Loss 4.766316\n"
          ],
          "name": "stdout"
        },
        {
          "output_type": "stream",
          "text": [
            "100%|██████████| 209/209 [01:26<00:00,  2.42it/s]\n",
            "100%|██████████| 27/27 [00:09<00:00,  2.74it/s]\n",
            "  0%|          | 0/209 [00:00<?, ?it/s]"
          ],
          "name": "stderr"
        },
        {
          "output_type": "stream",
          "text": [
            " Epoch: 100 Training Loss: 4.480440 Validation Loss: 5.232080 Min Validation Loss 4.766316\n"
          ],
          "name": "stdout"
        },
        {
          "output_type": "stream",
          "text": [
            "100%|██████████| 209/209 [01:26<00:00,  2.42it/s]\n",
            "100%|██████████| 27/27 [00:09<00:00,  2.78it/s]\n",
            "  0%|          | 0/209 [00:00<?, ?it/s]"
          ],
          "name": "stderr"
        },
        {
          "output_type": "stream",
          "text": [
            " Epoch: 101 Training Loss: 4.561731 Validation Loss: 5.287912 Min Validation Loss 4.766316\n"
          ],
          "name": "stdout"
        },
        {
          "output_type": "stream",
          "text": [
            "100%|██████████| 209/209 [01:25<00:00,  2.43it/s]\n",
            "100%|██████████| 27/27 [00:10<00:00,  2.69it/s]\n",
            "  0%|          | 0/209 [00:00<?, ?it/s]"
          ],
          "name": "stderr"
        },
        {
          "output_type": "stream",
          "text": [
            " Epoch: 102 Training Loss: 4.579943 Validation Loss: 5.281132 Min Validation Loss 4.766316\n"
          ],
          "name": "stdout"
        },
        {
          "output_type": "stream",
          "text": [
            "100%|██████████| 209/209 [01:26<00:00,  2.42it/s]\n",
            "100%|██████████| 27/27 [00:09<00:00,  2.78it/s]\n",
            "  0%|          | 0/209 [00:00<?, ?it/s]"
          ],
          "name": "stderr"
        },
        {
          "output_type": "stream",
          "text": [
            " Epoch: 103 Training Loss: 4.603318 Validation Loss: 5.243639 Min Validation Loss 4.766316\n"
          ],
          "name": "stdout"
        },
        {
          "output_type": "stream",
          "text": [
            "100%|██████████| 209/209 [01:26<00:00,  2.42it/s]\n",
            "100%|██████████| 27/27 [00:09<00:00,  2.79it/s]\n",
            "  0%|          | 0/209 [00:00<?, ?it/s]"
          ],
          "name": "stderr"
        },
        {
          "output_type": "stream",
          "text": [
            " Epoch: 104 Training Loss: 4.569904 Validation Loss: 5.311809 Min Validation Loss 4.766316\n"
          ],
          "name": "stdout"
        },
        {
          "output_type": "stream",
          "text": [
            "100%|██████████| 209/209 [01:26<00:00,  2.41it/s]\n",
            "100%|██████████| 27/27 [00:09<00:00,  2.76it/s]\n",
            "  0%|          | 0/209 [00:00<?, ?it/s]"
          ],
          "name": "stderr"
        },
        {
          "output_type": "stream",
          "text": [
            " Epoch: 105 Training Loss: 4.586519 Validation Loss: 5.213093 Min Validation Loss 4.766316\n"
          ],
          "name": "stdout"
        },
        {
          "output_type": "stream",
          "text": [
            "100%|██████████| 209/209 [01:27<00:00,  2.40it/s]\n",
            "100%|██████████| 27/27 [00:09<00:00,  2.77it/s]\n",
            "  0%|          | 0/209 [00:00<?, ?it/s]"
          ],
          "name": "stderr"
        },
        {
          "output_type": "stream",
          "text": [
            " Epoch: 106 Training Loss: 4.555261 Validation Loss: 5.276711 Min Validation Loss 4.766316\n"
          ],
          "name": "stdout"
        },
        {
          "output_type": "stream",
          "text": [
            "100%|██████████| 209/209 [01:26<00:00,  2.42it/s]\n",
            "100%|██████████| 27/27 [00:09<00:00,  2.79it/s]\n",
            "  0%|          | 0/209 [00:00<?, ?it/s]"
          ],
          "name": "stderr"
        },
        {
          "output_type": "stream",
          "text": [
            " Epoch: 107 Training Loss: 4.610357 Validation Loss: 5.192481 Min Validation Loss 4.766316\n"
          ],
          "name": "stdout"
        },
        {
          "output_type": "stream",
          "text": [
            "100%|██████████| 209/209 [01:26<00:00,  2.42it/s]\n",
            "100%|██████████| 27/27 [00:09<00:00,  2.77it/s]\n",
            "  0%|          | 0/209 [00:00<?, ?it/s]"
          ],
          "name": "stderr"
        },
        {
          "output_type": "stream",
          "text": [
            " Epoch: 108 Training Loss: 4.603318 Validation Loss: 5.224063 Min Validation Loss 4.766316\n"
          ],
          "name": "stdout"
        },
        {
          "output_type": "stream",
          "text": [
            "100%|██████████| 209/209 [01:27<00:00,  2.40it/s]\n",
            "100%|██████████| 27/27 [00:09<00:00,  2.76it/s]\n",
            "  0%|          | 0/209 [00:00<?, ?it/s]"
          ],
          "name": "stderr"
        },
        {
          "output_type": "stream",
          "text": [
            " Epoch: 109 Training Loss: 4.610815 Validation Loss: 5.151606 Min Validation Loss 4.766316\n"
          ],
          "name": "stdout"
        },
        {
          "output_type": "stream",
          "text": [
            "100%|██████████| 209/209 [01:26<00:00,  2.42it/s]\n",
            "100%|██████████| 27/27 [00:09<00:00,  2.74it/s]\n",
            "  0%|          | 0/209 [00:00<?, ?it/s]"
          ],
          "name": "stderr"
        },
        {
          "output_type": "stream",
          "text": [
            " Epoch: 110 Training Loss: 4.658824 Validation Loss: 5.113092 Min Validation Loss 4.766316\n"
          ],
          "name": "stdout"
        },
        {
          "output_type": "stream",
          "text": [
            "100%|██████████| 209/209 [01:26<00:00,  2.41it/s]\n",
            "100%|██████████| 27/27 [00:09<00:00,  2.78it/s]\n",
            "  0%|          | 0/209 [00:00<?, ?it/s]"
          ],
          "name": "stderr"
        },
        {
          "output_type": "stream",
          "text": [
            " Epoch: 111 Training Loss: 4.623958 Validation Loss: 5.067547 Min Validation Loss 4.766316\n"
          ],
          "name": "stdout"
        },
        {
          "output_type": "stream",
          "text": [
            "100%|██████████| 209/209 [01:26<00:00,  2.41it/s]\n",
            "100%|██████████| 27/27 [00:09<00:00,  2.78it/s]\n",
            "  0%|          | 0/209 [00:00<?, ?it/s]"
          ],
          "name": "stderr"
        },
        {
          "output_type": "stream",
          "text": [
            " Epoch: 112 Training Loss: 4.586009 Validation Loss: 5.110474 Min Validation Loss 4.766316\n"
          ],
          "name": "stdout"
        },
        {
          "output_type": "stream",
          "text": [
            "100%|██████████| 209/209 [01:26<00:00,  2.41it/s]\n",
            "100%|██████████| 27/27 [00:09<00:00,  2.75it/s]\n",
            "  0%|          | 0/209 [00:00<?, ?it/s]"
          ],
          "name": "stderr"
        },
        {
          "output_type": "stream",
          "text": [
            " Epoch: 113 Training Loss: 4.555754 Validation Loss: 5.117837 Min Validation Loss 4.766316\n"
          ],
          "name": "stdout"
        },
        {
          "output_type": "stream",
          "text": [
            "100%|██████████| 209/209 [01:26<00:00,  2.42it/s]\n",
            "100%|██████████| 27/27 [00:09<00:00,  2.77it/s]\n",
            "  0%|          | 0/209 [00:00<?, ?it/s]"
          ],
          "name": "stderr"
        },
        {
          "output_type": "stream",
          "text": [
            " Epoch: 114 Training Loss: 4.482584 Validation Loss: 5.147703 Min Validation Loss 4.766316\n"
          ],
          "name": "stdout"
        },
        {
          "output_type": "stream",
          "text": [
            "100%|██████████| 209/209 [01:26<00:00,  2.40it/s]\n",
            "100%|██████████| 27/27 [00:09<00:00,  2.72it/s]\n",
            "  0%|          | 0/209 [00:00<?, ?it/s]"
          ],
          "name": "stderr"
        },
        {
          "output_type": "stream",
          "text": [
            " Epoch: 115 Training Loss: 4.446248 Validation Loss: 5.133953 Min Validation Loss 4.766316\n"
          ],
          "name": "stdout"
        },
        {
          "output_type": "stream",
          "text": [
            "100%|██████████| 209/209 [01:26<00:00,  2.41it/s]\n",
            "100%|██████████| 27/27 [00:09<00:00,  2.75it/s]\n",
            "  0%|          | 0/209 [00:00<?, ?it/s]"
          ],
          "name": "stderr"
        },
        {
          "output_type": "stream",
          "text": [
            " Epoch: 116 Training Loss: 4.407064 Validation Loss: 5.259569 Min Validation Loss 4.766316\n"
          ],
          "name": "stdout"
        },
        {
          "output_type": "stream",
          "text": [
            "100%|██████████| 209/209 [01:26<00:00,  2.41it/s]\n",
            "100%|██████████| 27/27 [00:09<00:00,  2.76it/s]\n",
            "  0%|          | 0/209 [00:00<?, ?it/s]"
          ],
          "name": "stderr"
        },
        {
          "output_type": "stream",
          "text": [
            " Epoch: 117 Training Loss: 4.377770 Validation Loss: 5.311424 Min Validation Loss 4.766316\n"
          ],
          "name": "stdout"
        },
        {
          "output_type": "stream",
          "text": [
            "100%|██████████| 209/209 [01:26<00:00,  2.42it/s]\n",
            "100%|██████████| 27/27 [00:09<00:00,  2.76it/s]\n",
            "  0%|          | 0/209 [00:00<?, ?it/s]"
          ],
          "name": "stderr"
        },
        {
          "output_type": "stream",
          "text": [
            " Epoch: 118 Training Loss: 4.349235 Validation Loss: 5.330704 Min Validation Loss 4.766316\n"
          ],
          "name": "stdout"
        },
        {
          "output_type": "stream",
          "text": [
            "100%|██████████| 209/209 [01:26<00:00,  2.41it/s]\n",
            "100%|██████████| 27/27 [00:09<00:00,  2.79it/s]\n",
            "  0%|          | 0/209 [00:00<?, ?it/s]"
          ],
          "name": "stderr"
        },
        {
          "output_type": "stream",
          "text": [
            " Epoch: 119 Training Loss: 4.329623 Validation Loss: 5.314402 Min Validation Loss 4.766316\n"
          ],
          "name": "stdout"
        },
        {
          "output_type": "stream",
          "text": [
            "100%|██████████| 209/209 [01:26<00:00,  2.41it/s]\n",
            "100%|██████████| 27/27 [00:09<00:00,  2.74it/s]\n",
            "  0%|          | 0/209 [00:00<?, ?it/s]"
          ],
          "name": "stderr"
        },
        {
          "output_type": "stream",
          "text": [
            " Epoch: 120 Training Loss: 4.323663 Validation Loss: 5.356614 Min Validation Loss 4.766316\n"
          ],
          "name": "stdout"
        },
        {
          "output_type": "stream",
          "text": [
            "100%|██████████| 209/209 [01:26<00:00,  2.42it/s]\n",
            "100%|██████████| 27/27 [00:09<00:00,  2.77it/s]\n",
            "  0%|          | 0/209 [00:00<?, ?it/s]"
          ],
          "name": "stderr"
        },
        {
          "output_type": "stream",
          "text": [
            " Epoch: 121 Training Loss: 4.383185 Validation Loss: 5.251180 Min Validation Loss 4.766316\n"
          ],
          "name": "stdout"
        },
        {
          "output_type": "stream",
          "text": [
            "100%|██████████| 209/209 [01:27<00:00,  2.39it/s]\n",
            "100%|██████████| 27/27 [00:09<00:00,  2.73it/s]\n",
            "  0%|          | 0/209 [00:00<?, ?it/s]"
          ],
          "name": "stderr"
        },
        {
          "output_type": "stream",
          "text": [
            " Epoch: 122 Training Loss: 4.319044 Validation Loss: 5.326629 Min Validation Loss 4.766316\n"
          ],
          "name": "stdout"
        },
        {
          "output_type": "stream",
          "text": [
            "100%|██████████| 209/209 [01:26<00:00,  2.40it/s]\n",
            "100%|██████████| 27/27 [00:09<00:00,  2.78it/s]\n",
            "  0%|          | 0/209 [00:00<?, ?it/s]"
          ],
          "name": "stderr"
        },
        {
          "output_type": "stream",
          "text": [
            " Epoch: 123 Training Loss: 4.303897 Validation Loss: 5.274248 Min Validation Loss 4.766316\n"
          ],
          "name": "stdout"
        },
        {
          "output_type": "stream",
          "text": [
            "100%|██████████| 209/209 [01:27<00:00,  2.40it/s]\n",
            "100%|██████████| 27/27 [00:09<00:00,  2.76it/s]\n",
            "  0%|          | 0/209 [00:00<?, ?it/s]"
          ],
          "name": "stderr"
        },
        {
          "output_type": "stream",
          "text": [
            " Epoch: 124 Training Loss: 4.301923 Validation Loss: 5.289084 Min Validation Loss 4.766316\n"
          ],
          "name": "stdout"
        },
        {
          "output_type": "stream",
          "text": [
            "100%|██████████| 209/209 [01:27<00:00,  2.39it/s]\n",
            "100%|██████████| 27/27 [00:09<00:00,  2.71it/s]\n",
            "  0%|          | 0/209 [00:00<?, ?it/s]"
          ],
          "name": "stderr"
        },
        {
          "output_type": "stream",
          "text": [
            " Epoch: 125 Training Loss: 4.276665 Validation Loss: 5.437329 Min Validation Loss 4.766316\n"
          ],
          "name": "stdout"
        },
        {
          "output_type": "stream",
          "text": [
            "100%|██████████| 209/209 [01:26<00:00,  2.41it/s]\n",
            "100%|██████████| 27/27 [00:09<00:00,  2.76it/s]\n",
            "  0%|          | 0/209 [00:00<?, ?it/s]"
          ],
          "name": "stderr"
        },
        {
          "output_type": "stream",
          "text": [
            " Epoch: 126 Training Loss: 4.346186 Validation Loss: 5.323058 Min Validation Loss 4.766316\n"
          ],
          "name": "stdout"
        },
        {
          "output_type": "stream",
          "text": [
            "100%|██████████| 209/209 [01:27<00:00,  2.40it/s]\n",
            "100%|██████████| 27/27 [00:09<00:00,  2.76it/s]\n",
            "  0%|          | 0/209 [00:00<?, ?it/s]"
          ],
          "name": "stderr"
        },
        {
          "output_type": "stream",
          "text": [
            " Epoch: 127 Training Loss: 4.273512 Validation Loss: 5.307154 Min Validation Loss 4.766316\n"
          ],
          "name": "stdout"
        },
        {
          "output_type": "stream",
          "text": [
            "100%|██████████| 209/209 [01:27<00:00,  2.40it/s]\n",
            "100%|██████████| 27/27 [00:09<00:00,  2.77it/s]\n",
            "  0%|          | 0/209 [00:00<?, ?it/s]"
          ],
          "name": "stderr"
        },
        {
          "output_type": "stream",
          "text": [
            " Epoch: 128 Training Loss: 4.293218 Validation Loss: 5.324315 Min Validation Loss 4.766316\n"
          ],
          "name": "stdout"
        },
        {
          "output_type": "stream",
          "text": [
            "100%|██████████| 209/209 [01:26<00:00,  2.41it/s]\n",
            "100%|██████████| 27/27 [00:09<00:00,  2.78it/s]\n",
            "  0%|          | 0/209 [00:00<?, ?it/s]"
          ],
          "name": "stderr"
        },
        {
          "output_type": "stream",
          "text": [
            " Epoch: 129 Training Loss: 4.237483 Validation Loss: 5.465803 Min Validation Loss 4.766316\n"
          ],
          "name": "stdout"
        },
        {
          "output_type": "stream",
          "text": [
            "100%|██████████| 209/209 [01:26<00:00,  2.41it/s]\n",
            "100%|██████████| 27/27 [00:09<00:00,  2.77it/s]\n",
            "  0%|          | 0/209 [00:00<?, ?it/s]"
          ],
          "name": "stderr"
        },
        {
          "output_type": "stream",
          "text": [
            " Epoch: 130 Training Loss: 4.282464 Validation Loss: 5.463512 Min Validation Loss 4.766316\n"
          ],
          "name": "stdout"
        },
        {
          "output_type": "stream",
          "text": [
            "100%|██████████| 209/209 [01:26<00:00,  2.40it/s]\n",
            "100%|██████████| 27/27 [00:10<00:00,  2.68it/s]\n",
            "  0%|          | 0/209 [00:00<?, ?it/s]"
          ],
          "name": "stderr"
        },
        {
          "output_type": "stream",
          "text": [
            " Epoch: 131 Training Loss: 4.255340 Validation Loss: 5.477892 Min Validation Loss 4.766316\n"
          ],
          "name": "stdout"
        },
        {
          "output_type": "stream",
          "text": [
            "100%|██████████| 209/209 [01:26<00:00,  2.41it/s]\n",
            "100%|██████████| 27/27 [00:09<00:00,  2.75it/s]\n",
            "  0%|          | 0/209 [00:00<?, ?it/s]"
          ],
          "name": "stderr"
        },
        {
          "output_type": "stream",
          "text": [
            " Epoch: 132 Training Loss: 4.278620 Validation Loss: 5.430171 Min Validation Loss 4.766316\n"
          ],
          "name": "stdout"
        },
        {
          "output_type": "stream",
          "text": [
            "100%|██████████| 209/209 [01:26<00:00,  2.41it/s]\n",
            "100%|██████████| 27/27 [00:09<00:00,  2.77it/s]\n",
            "  0%|          | 0/209 [00:00<?, ?it/s]"
          ],
          "name": "stderr"
        },
        {
          "output_type": "stream",
          "text": [
            " Epoch: 133 Training Loss: 4.381926 Validation Loss: 5.281904 Min Validation Loss 4.766316\n"
          ],
          "name": "stdout"
        },
        {
          "output_type": "stream",
          "text": [
            "100%|██████████| 209/209 [01:27<00:00,  2.40it/s]\n",
            "100%|██████████| 27/27 [00:09<00:00,  2.77it/s]\n",
            "  0%|          | 0/209 [00:00<?, ?it/s]"
          ],
          "name": "stderr"
        },
        {
          "output_type": "stream",
          "text": [
            " Epoch: 134 Training Loss: 4.283794 Validation Loss: 5.276785 Min Validation Loss 4.766316\n"
          ],
          "name": "stdout"
        },
        {
          "output_type": "stream",
          "text": [
            "100%|██████████| 209/209 [01:27<00:00,  2.39it/s]\n",
            "100%|██████████| 27/27 [00:09<00:00,  2.71it/s]\n",
            "  0%|          | 0/209 [00:00<?, ?it/s]"
          ],
          "name": "stderr"
        },
        {
          "output_type": "stream",
          "text": [
            " Epoch: 135 Training Loss: 4.321861 Validation Loss: 5.282459 Min Validation Loss 4.766316\n"
          ],
          "name": "stdout"
        },
        {
          "output_type": "stream",
          "text": [
            "100%|██████████| 209/209 [01:27<00:00,  2.38it/s]\n",
            "100%|██████████| 27/27 [00:09<00:00,  2.75it/s]\n",
            "  0%|          | 0/209 [00:00<?, ?it/s]"
          ],
          "name": "stderr"
        },
        {
          "output_type": "stream",
          "text": [
            " Epoch: 136 Training Loss: 4.318139 Validation Loss: 5.279867 Min Validation Loss 4.766316\n"
          ],
          "name": "stdout"
        },
        {
          "output_type": "stream",
          "text": [
            "100%|██████████| 209/209 [01:27<00:00,  2.39it/s]\n",
            "100%|██████████| 27/27 [00:09<00:00,  2.76it/s]\n",
            "  0%|          | 0/209 [00:00<?, ?it/s]"
          ],
          "name": "stderr"
        },
        {
          "output_type": "stream",
          "text": [
            " Epoch: 137 Training Loss: 4.368463 Validation Loss: 5.232084 Min Validation Loss 4.766316\n"
          ],
          "name": "stdout"
        },
        {
          "output_type": "stream",
          "text": [
            "100%|██████████| 209/209 [01:27<00:00,  2.38it/s]\n",
            "100%|██████████| 27/27 [00:09<00:00,  2.74it/s]\n",
            "  0%|          | 0/209 [00:00<?, ?it/s]"
          ],
          "name": "stderr"
        },
        {
          "output_type": "stream",
          "text": [
            " Epoch: 138 Training Loss: 4.386098 Validation Loss: 5.222248 Min Validation Loss 4.766316\n"
          ],
          "name": "stdout"
        },
        {
          "output_type": "stream",
          "text": [
            "100%|██████████| 209/209 [01:27<00:00,  2.39it/s]\n",
            "100%|██████████| 27/27 [00:09<00:00,  2.75it/s]\n",
            "  0%|          | 0/209 [00:00<?, ?it/s]"
          ],
          "name": "stderr"
        },
        {
          "output_type": "stream",
          "text": [
            " Epoch: 139 Training Loss: 4.359293 Validation Loss: 5.280680 Min Validation Loss 4.766316\n"
          ],
          "name": "stdout"
        },
        {
          "output_type": "stream",
          "text": [
            "100%|██████████| 209/209 [01:27<00:00,  2.39it/s]\n",
            "100%|██████████| 27/27 [00:09<00:00,  2.71it/s]\n",
            "  0%|          | 0/209 [00:00<?, ?it/s]"
          ],
          "name": "stderr"
        },
        {
          "output_type": "stream",
          "text": [
            " Epoch: 140 Training Loss: 4.363878 Validation Loss: 5.302759 Min Validation Loss 4.766316\n"
          ],
          "name": "stdout"
        },
        {
          "output_type": "stream",
          "text": [
            "100%|██████████| 209/209 [01:28<00:00,  2.37it/s]\n",
            "100%|██████████| 27/27 [00:09<00:00,  2.75it/s]\n",
            "  0%|          | 0/209 [00:00<?, ?it/s]"
          ],
          "name": "stderr"
        },
        {
          "output_type": "stream",
          "text": [
            " Epoch: 141 Training Loss: 4.386123 Validation Loss: 5.249192 Min Validation Loss 4.766316\n"
          ],
          "name": "stdout"
        },
        {
          "output_type": "stream",
          "text": [
            "100%|██████████| 209/209 [01:27<00:00,  2.39it/s]\n",
            "100%|██████████| 27/27 [00:09<00:00,  2.71it/s]\n",
            "  0%|          | 0/209 [00:00<?, ?it/s]"
          ],
          "name": "stderr"
        },
        {
          "output_type": "stream",
          "text": [
            " Epoch: 142 Training Loss: 4.429514 Validation Loss: 5.220562 Min Validation Loss 4.766316\n"
          ],
          "name": "stdout"
        },
        {
          "output_type": "stream",
          "text": [
            "100%|██████████| 209/209 [01:26<00:00,  2.41it/s]\n",
            "100%|██████████| 27/27 [00:09<00:00,  2.77it/s]\n",
            "  0%|          | 0/209 [00:00<?, ?it/s]"
          ],
          "name": "stderr"
        },
        {
          "output_type": "stream",
          "text": [
            " Epoch: 143 Training Loss: 4.407795 Validation Loss: 5.187255 Min Validation Loss 4.766316\n"
          ],
          "name": "stdout"
        },
        {
          "output_type": "stream",
          "text": [
            "100%|██████████| 209/209 [01:27<00:00,  2.40it/s]\n",
            "100%|██████████| 27/27 [00:09<00:00,  2.77it/s]\n",
            "  0%|          | 0/209 [00:00<?, ?it/s]"
          ],
          "name": "stderr"
        },
        {
          "output_type": "stream",
          "text": [
            " Epoch: 144 Training Loss: 4.379807 Validation Loss: 5.262922 Min Validation Loss 4.766316\n"
          ],
          "name": "stdout"
        },
        {
          "output_type": "stream",
          "text": [
            "100%|██████████| 209/209 [01:26<00:00,  2.42it/s]\n",
            "100%|██████████| 27/27 [00:09<00:00,  2.75it/s]\n",
            "  0%|          | 0/209 [00:00<?, ?it/s]"
          ],
          "name": "stderr"
        },
        {
          "output_type": "stream",
          "text": [
            " Epoch: 145 Training Loss: 4.391098 Validation Loss: 5.230821 Min Validation Loss 4.766316\n"
          ],
          "name": "stdout"
        },
        {
          "output_type": "stream",
          "text": [
            "100%|██████████| 209/209 [01:26<00:00,  2.41it/s]\n",
            "100%|██████████| 27/27 [00:09<00:00,  2.76it/s]\n",
            "  0%|          | 0/209 [00:00<?, ?it/s]"
          ],
          "name": "stderr"
        },
        {
          "output_type": "stream",
          "text": [
            " Epoch: 146 Training Loss: 4.389092 Validation Loss: 5.332274 Min Validation Loss 4.766316\n"
          ],
          "name": "stdout"
        },
        {
          "output_type": "stream",
          "text": [
            "100%|██████████| 209/209 [01:26<00:00,  2.41it/s]\n",
            "100%|██████████| 27/27 [00:10<00:00,  2.68it/s]\n",
            "  0%|          | 0/209 [00:00<?, ?it/s]"
          ],
          "name": "stderr"
        },
        {
          "output_type": "stream",
          "text": [
            " Epoch: 147 Training Loss: 4.421949 Validation Loss: 5.405123 Min Validation Loss 4.766316\n"
          ],
          "name": "stdout"
        },
        {
          "output_type": "stream",
          "text": [
            "100%|██████████| 209/209 [01:26<00:00,  2.42it/s]\n",
            "100%|██████████| 27/27 [00:09<00:00,  2.76it/s]\n",
            "  0%|          | 0/209 [00:00<?, ?it/s]"
          ],
          "name": "stderr"
        },
        {
          "output_type": "stream",
          "text": [
            " Epoch: 148 Training Loss: 4.407211 Validation Loss: 5.428743 Min Validation Loss 4.766316\n"
          ],
          "name": "stdout"
        },
        {
          "output_type": "stream",
          "text": [
            "100%|██████████| 209/209 [01:26<00:00,  2.41it/s]\n",
            "100%|██████████| 27/27 [00:09<00:00,  2.72it/s]\n",
            "  0%|          | 0/209 [00:00<?, ?it/s]"
          ],
          "name": "stderr"
        },
        {
          "output_type": "stream",
          "text": [
            " Epoch: 149 Training Loss: 4.399275 Validation Loss: 5.510113 Min Validation Loss 4.766316\n"
          ],
          "name": "stdout"
        },
        {
          "output_type": "stream",
          "text": [
            "100%|██████████| 209/209 [01:26<00:00,  2.41it/s]\n",
            "100%|██████████| 27/27 [00:09<00:00,  2.74it/s]\n",
            "  0%|          | 0/209 [00:00<?, ?it/s]"
          ],
          "name": "stderr"
        },
        {
          "output_type": "stream",
          "text": [
            " Epoch: 150 Training Loss: 4.412309 Validation Loss: 5.544979 Min Validation Loss 4.766316\n"
          ],
          "name": "stdout"
        },
        {
          "output_type": "stream",
          "text": [
            "100%|██████████| 209/209 [01:27<00:00,  2.39it/s]\n",
            "100%|██████████| 27/27 [00:09<00:00,  2.77it/s]\n",
            "  0%|          | 0/209 [00:00<?, ?it/s]"
          ],
          "name": "stderr"
        },
        {
          "output_type": "stream",
          "text": [
            " Epoch: 151 Training Loss: 4.385726 Validation Loss: 5.634401 Min Validation Loss 4.766316\n"
          ],
          "name": "stdout"
        },
        {
          "output_type": "stream",
          "text": [
            "100%|██████████| 209/209 [01:27<00:00,  2.39it/s]\n",
            "100%|██████████| 27/27 [00:09<00:00,  2.74it/s]\n",
            "  0%|          | 0/209 [00:00<?, ?it/s]"
          ],
          "name": "stderr"
        },
        {
          "output_type": "stream",
          "text": [
            " Epoch: 152 Training Loss: 4.403801 Validation Loss: 5.614768 Min Validation Loss 4.766316\n"
          ],
          "name": "stdout"
        },
        {
          "output_type": "stream",
          "text": [
            "100%|██████████| 209/209 [01:27<00:00,  2.39it/s]\n",
            "100%|██████████| 27/27 [00:09<00:00,  2.74it/s]\n",
            "  0%|          | 0/209 [00:00<?, ?it/s]"
          ],
          "name": "stderr"
        },
        {
          "output_type": "stream",
          "text": [
            " Epoch: 153 Training Loss: 4.394209 Validation Loss: 5.624669 Min Validation Loss 4.766316\n"
          ],
          "name": "stdout"
        },
        {
          "output_type": "stream",
          "text": [
            "100%|██████████| 209/209 [01:27<00:00,  2.38it/s]\n",
            "100%|██████████| 27/27 [00:09<00:00,  2.73it/s]\n",
            "  0%|          | 0/209 [00:00<?, ?it/s]"
          ],
          "name": "stderr"
        },
        {
          "output_type": "stream",
          "text": [
            " Epoch: 154 Training Loss: 4.393873 Validation Loss: 5.535988 Min Validation Loss 4.766316\n"
          ],
          "name": "stdout"
        },
        {
          "output_type": "stream",
          "text": [
            "100%|██████████| 209/209 [01:27<00:00,  2.38it/s]\n",
            "100%|██████████| 27/27 [00:09<00:00,  2.72it/s]\n",
            "  0%|          | 0/209 [00:00<?, ?it/s]"
          ],
          "name": "stderr"
        },
        {
          "output_type": "stream",
          "text": [
            " Epoch: 155 Training Loss: 4.421302 Validation Loss: 5.442811 Min Validation Loss 4.766316\n"
          ],
          "name": "stdout"
        },
        {
          "output_type": "stream",
          "text": [
            "100%|██████████| 209/209 [01:27<00:00,  2.38it/s]\n",
            "100%|██████████| 27/27 [00:09<00:00,  2.72it/s]\n",
            "  0%|          | 0/209 [00:00<?, ?it/s]"
          ],
          "name": "stderr"
        },
        {
          "output_type": "stream",
          "text": [
            " Epoch: 156 Training Loss: 4.394249 Validation Loss: 5.392114 Min Validation Loss 4.766316\n"
          ],
          "name": "stdout"
        },
        {
          "output_type": "stream",
          "text": [
            "100%|██████████| 209/209 [01:28<00:00,  2.36it/s]\n",
            "100%|██████████| 27/27 [00:09<00:00,  2.71it/s]\n",
            "  0%|          | 0/209 [00:00<?, ?it/s]"
          ],
          "name": "stderr"
        },
        {
          "output_type": "stream",
          "text": [
            " Epoch: 157 Training Loss: 4.375028 Validation Loss: 5.303038 Min Validation Loss 4.766316\n"
          ],
          "name": "stdout"
        },
        {
          "output_type": "stream",
          "text": [
            "100%|██████████| 209/209 [01:28<00:00,  2.35it/s]\n",
            "100%|██████████| 27/27 [00:10<00:00,  2.69it/s]\n",
            "  0%|          | 0/209 [00:00<?, ?it/s]"
          ],
          "name": "stderr"
        },
        {
          "output_type": "stream",
          "text": [
            " Epoch: 158 Training Loss: 4.377128 Validation Loss: 5.279723 Min Validation Loss 4.766316\n"
          ],
          "name": "stdout"
        },
        {
          "output_type": "stream",
          "text": [
            "100%|██████████| 209/209 [01:28<00:00,  2.35it/s]\n",
            "100%|██████████| 27/27 [00:10<00:00,  2.66it/s]\n",
            "  0%|          | 0/209 [00:00<?, ?it/s]"
          ],
          "name": "stderr"
        },
        {
          "output_type": "stream",
          "text": [
            " Epoch: 159 Training Loss: 4.351450 Validation Loss: 5.250791 Min Validation Loss 4.766316\n"
          ],
          "name": "stdout"
        },
        {
          "output_type": "stream",
          "text": [
            "100%|██████████| 209/209 [01:28<00:00,  2.35it/s]\n",
            "100%|██████████| 27/27 [00:09<00:00,  2.73it/s]\n",
            "  0%|          | 0/209 [00:00<?, ?it/s]"
          ],
          "name": "stderr"
        },
        {
          "output_type": "stream",
          "text": [
            " Epoch: 160 Training Loss: 4.311521 Validation Loss: 5.290919 Min Validation Loss 4.766316\n"
          ],
          "name": "stdout"
        },
        {
          "output_type": "stream",
          "text": [
            "100%|██████████| 209/209 [01:29<00:00,  2.34it/s]\n",
            "100%|██████████| 27/27 [00:10<00:00,  2.69it/s]\n",
            "  0%|          | 0/209 [00:00<?, ?it/s]"
          ],
          "name": "stderr"
        },
        {
          "output_type": "stream",
          "text": [
            " Epoch: 161 Training Loss: 4.280641 Validation Loss: 5.281146 Min Validation Loss 4.766316\n"
          ],
          "name": "stdout"
        },
        {
          "output_type": "stream",
          "text": [
            "100%|██████████| 209/209 [01:29<00:00,  2.34it/s]\n",
            "100%|██████████| 27/27 [00:10<00:00,  2.69it/s]\n",
            "  0%|          | 0/209 [00:00<?, ?it/s]"
          ],
          "name": "stderr"
        },
        {
          "output_type": "stream",
          "text": [
            " Epoch: 162 Training Loss: 4.301382 Validation Loss: 5.204306 Min Validation Loss 4.766316\n"
          ],
          "name": "stdout"
        },
        {
          "output_type": "stream",
          "text": [
            "100%|██████████| 209/209 [01:29<00:00,  2.32it/s]\n",
            "100%|██████████| 27/27 [00:10<00:00,  2.68it/s]\n",
            "  0%|          | 0/209 [00:00<?, ?it/s]"
          ],
          "name": "stderr"
        },
        {
          "output_type": "stream",
          "text": [
            " Epoch: 163 Training Loss: 4.266808 Validation Loss: 5.237734 Min Validation Loss 4.766316\n"
          ],
          "name": "stdout"
        },
        {
          "output_type": "stream",
          "text": [
            "100%|██████████| 209/209 [01:29<00:00,  2.34it/s]\n",
            "100%|██████████| 27/27 [00:09<00:00,  2.73it/s]\n",
            "  0%|          | 0/209 [00:00<?, ?it/s]"
          ],
          "name": "stderr"
        },
        {
          "output_type": "stream",
          "text": [
            " Epoch: 164 Training Loss: 4.248524 Validation Loss: 5.355554 Min Validation Loss 4.766316\n"
          ],
          "name": "stdout"
        },
        {
          "output_type": "stream",
          "text": [
            "100%|██████████| 209/209 [01:28<00:00,  2.35it/s]\n",
            "100%|██████████| 27/27 [00:09<00:00,  2.71it/s]\n",
            "  0%|          | 0/209 [00:00<?, ?it/s]"
          ],
          "name": "stderr"
        },
        {
          "output_type": "stream",
          "text": [
            " Epoch: 165 Training Loss: 4.288238 Validation Loss: 5.249358 Min Validation Loss 4.766316\n"
          ],
          "name": "stdout"
        },
        {
          "output_type": "stream",
          "text": [
            "100%|██████████| 209/209 [01:28<00:00,  2.36it/s]\n",
            "100%|██████████| 27/27 [00:10<00:00,  2.66it/s]\n",
            "  0%|          | 0/209 [00:00<?, ?it/s]"
          ],
          "name": "stderr"
        },
        {
          "output_type": "stream",
          "text": [
            " Epoch: 166 Training Loss: 4.299592 Validation Loss: 5.305113 Min Validation Loss 4.766316\n"
          ],
          "name": "stdout"
        },
        {
          "output_type": "stream",
          "text": [
            "100%|██████████| 209/209 [01:28<00:00,  2.36it/s]\n",
            "100%|██████████| 27/27 [00:09<00:00,  2.70it/s]\n",
            "  0%|          | 0/209 [00:00<?, ?it/s]"
          ],
          "name": "stderr"
        },
        {
          "output_type": "stream",
          "text": [
            " Epoch: 167 Training Loss: 4.245649 Validation Loss: 5.426460 Min Validation Loss 4.766316\n"
          ],
          "name": "stdout"
        },
        {
          "output_type": "stream",
          "text": [
            "100%|██████████| 209/209 [01:29<00:00,  2.34it/s]\n",
            "100%|██████████| 27/27 [00:10<00:00,  2.63it/s]\n",
            "  0%|          | 0/209 [00:00<?, ?it/s]"
          ],
          "name": "stderr"
        },
        {
          "output_type": "stream",
          "text": [
            " Epoch: 168 Training Loss: 4.268298 Validation Loss: 5.429454 Min Validation Loss 4.766316\n"
          ],
          "name": "stdout"
        },
        {
          "output_type": "stream",
          "text": [
            "100%|██████████| 209/209 [01:29<00:00,  2.33it/s]\n",
            "100%|██████████| 27/27 [00:10<00:00,  2.61it/s]\n",
            "  0%|          | 0/209 [00:00<?, ?it/s]"
          ],
          "name": "stderr"
        },
        {
          "output_type": "stream",
          "text": [
            " Epoch: 169 Training Loss: 4.216605 Validation Loss: 5.586453 Min Validation Loss 4.766316\n"
          ],
          "name": "stdout"
        },
        {
          "output_type": "stream",
          "text": [
            "100%|██████████| 209/209 [01:30<00:00,  2.32it/s]\n",
            "100%|██████████| 27/27 [00:10<00:00,  2.61it/s]\n",
            "  0%|          | 0/209 [00:00<?, ?it/s]"
          ],
          "name": "stderr"
        },
        {
          "output_type": "stream",
          "text": [
            " Epoch: 170 Training Loss: 4.197166 Validation Loss: 5.551715 Min Validation Loss 4.766316\n"
          ],
          "name": "stdout"
        },
        {
          "output_type": "stream",
          "text": [
            "100%|██████████| 209/209 [01:31<00:00,  2.29it/s]\n",
            "100%|██████████| 27/27 [00:10<00:00,  2.61it/s]\n",
            "  0%|          | 0/209 [00:00<?, ?it/s]"
          ],
          "name": "stderr"
        },
        {
          "output_type": "stream",
          "text": [
            " Epoch: 171 Training Loss: 4.175225 Validation Loss: 5.725846 Min Validation Loss 4.766316\n"
          ],
          "name": "stdout"
        },
        {
          "output_type": "stream",
          "text": [
            "100%|██████████| 209/209 [01:31<00:00,  2.29it/s]\n",
            "100%|██████████| 27/27 [00:10<00:00,  2.62it/s]\n",
            "  0%|          | 0/209 [00:00<?, ?it/s]"
          ],
          "name": "stderr"
        },
        {
          "output_type": "stream",
          "text": [
            " Epoch: 172 Training Loss: 4.163955 Validation Loss: 5.655951 Min Validation Loss 4.766316\n"
          ],
          "name": "stdout"
        },
        {
          "output_type": "stream",
          "text": [
            "100%|██████████| 209/209 [01:31<00:00,  2.28it/s]\n",
            "100%|██████████| 27/27 [00:10<00:00,  2.57it/s]\n",
            "  0%|          | 0/209 [00:00<?, ?it/s]"
          ],
          "name": "stderr"
        },
        {
          "output_type": "stream",
          "text": [
            " Epoch: 173 Training Loss: 4.148171 Validation Loss: 5.720329 Min Validation Loss 4.766316\n"
          ],
          "name": "stdout"
        },
        {
          "output_type": "stream",
          "text": [
            "100%|██████████| 209/209 [01:30<00:00,  2.30it/s]\n",
            "100%|██████████| 27/27 [00:10<00:00,  2.62it/s]\n",
            "  0%|          | 0/209 [00:00<?, ?it/s]"
          ],
          "name": "stderr"
        },
        {
          "output_type": "stream",
          "text": [
            " Epoch: 174 Training Loss: 4.158134 Validation Loss: 5.717140 Min Validation Loss 4.766316\n"
          ],
          "name": "stdout"
        },
        {
          "output_type": "stream",
          "text": [
            "100%|██████████| 209/209 [01:30<00:00,  2.30it/s]\n",
            "100%|██████████| 27/27 [00:10<00:00,  2.63it/s]\n",
            "  0%|          | 0/209 [00:00<?, ?it/s]"
          ],
          "name": "stderr"
        },
        {
          "output_type": "stream",
          "text": [
            " Epoch: 175 Training Loss: 4.131069 Validation Loss: 5.734403 Min Validation Loss 4.766316\n"
          ],
          "name": "stdout"
        },
        {
          "output_type": "stream",
          "text": [
            "100%|██████████| 209/209 [01:31<00:00,  2.29it/s]\n",
            "100%|██████████| 27/27 [00:10<00:00,  2.59it/s]\n",
            "  0%|          | 0/209 [00:00<?, ?it/s]"
          ],
          "name": "stderr"
        },
        {
          "output_type": "stream",
          "text": [
            " Epoch: 176 Training Loss: 4.089815 Validation Loss: 5.742683 Min Validation Loss 4.766316\n"
          ],
          "name": "stdout"
        },
        {
          "output_type": "stream",
          "text": [
            "100%|██████████| 209/209 [01:30<00:00,  2.32it/s]\n",
            "100%|██████████| 27/27 [00:10<00:00,  2.66it/s]\n",
            "  0%|          | 0/209 [00:00<?, ?it/s]"
          ],
          "name": "stderr"
        },
        {
          "output_type": "stream",
          "text": [
            " Epoch: 177 Training Loss: 4.088905 Validation Loss: 5.732049 Min Validation Loss 4.766316\n"
          ],
          "name": "stdout"
        },
        {
          "output_type": "stream",
          "text": [
            "100%|██████████| 209/209 [01:30<00:00,  2.30it/s]\n",
            "100%|██████████| 27/27 [00:10<00:00,  2.62it/s]\n",
            "  0%|          | 0/209 [00:00<?, ?it/s]"
          ],
          "name": "stderr"
        },
        {
          "output_type": "stream",
          "text": [
            " Epoch: 178 Training Loss: 4.077065 Validation Loss: 5.766273 Min Validation Loss 4.766316\n"
          ],
          "name": "stdout"
        },
        {
          "output_type": "stream",
          "text": [
            "100%|██████████| 209/209 [01:31<00:00,  2.28it/s]\n",
            "100%|██████████| 27/27 [00:10<00:00,  2.61it/s]\n",
            "  0%|          | 0/209 [00:00<?, ?it/s]"
          ],
          "name": "stderr"
        },
        {
          "output_type": "stream",
          "text": [
            " Epoch: 179 Training Loss: 4.086545 Validation Loss: 5.691194 Min Validation Loss 4.766316\n"
          ],
          "name": "stdout"
        },
        {
          "output_type": "stream",
          "text": [
            "100%|██████████| 209/209 [01:29<00:00,  2.34it/s]\n",
            "100%|██████████| 27/27 [00:10<00:00,  2.66it/s]\n",
            "  0%|          | 0/209 [00:00<?, ?it/s]"
          ],
          "name": "stderr"
        },
        {
          "output_type": "stream",
          "text": [
            " Epoch: 180 Training Loss: 4.080873 Validation Loss: 5.747537 Min Validation Loss 4.766316\n"
          ],
          "name": "stdout"
        },
        {
          "output_type": "stream",
          "text": [
            "100%|██████████| 209/209 [01:30<00:00,  2.32it/s]\n",
            "100%|██████████| 27/27 [00:10<00:00,  2.67it/s]\n",
            "  0%|          | 0/209 [00:00<?, ?it/s]"
          ],
          "name": "stderr"
        },
        {
          "output_type": "stream",
          "text": [
            " Epoch: 181 Training Loss: 4.033911 Validation Loss: 5.787230 Min Validation Loss 4.766316\n"
          ],
          "name": "stdout"
        },
        {
          "output_type": "stream",
          "text": [
            "100%|██████████| 209/209 [01:30<00:00,  2.31it/s]\n",
            "100%|██████████| 27/27 [00:10<00:00,  2.63it/s]\n",
            "  0%|          | 0/209 [00:00<?, ?it/s]"
          ],
          "name": "stderr"
        },
        {
          "output_type": "stream",
          "text": [
            " Epoch: 182 Training Loss: 4.031193 Validation Loss: 5.719048 Min Validation Loss 4.766316\n"
          ],
          "name": "stdout"
        },
        {
          "output_type": "stream",
          "text": [
            "100%|██████████| 209/209 [01:29<00:00,  2.33it/s]\n",
            "100%|██████████| 27/27 [00:10<00:00,  2.66it/s]\n",
            "  0%|          | 0/209 [00:00<?, ?it/s]"
          ],
          "name": "stderr"
        },
        {
          "output_type": "stream",
          "text": [
            " Epoch: 183 Training Loss: 4.010450 Validation Loss: 5.775720 Min Validation Loss 4.766316\n"
          ],
          "name": "stdout"
        },
        {
          "output_type": "stream",
          "text": [
            "100%|██████████| 209/209 [01:30<00:00,  2.31it/s]\n",
            "100%|██████████| 27/27 [00:10<00:00,  2.63it/s]\n",
            "  0%|          | 0/209 [00:00<?, ?it/s]"
          ],
          "name": "stderr"
        },
        {
          "output_type": "stream",
          "text": [
            " Epoch: 184 Training Loss: 3.988840 Validation Loss: 5.908795 Min Validation Loss 4.766316\n"
          ],
          "name": "stdout"
        },
        {
          "output_type": "stream",
          "text": [
            "100%|██████████| 209/209 [01:31<00:00,  2.30it/s]\n",
            "100%|██████████| 27/27 [00:10<00:00,  2.65it/s]\n",
            "  0%|          | 0/209 [00:00<?, ?it/s]"
          ],
          "name": "stderr"
        },
        {
          "output_type": "stream",
          "text": [
            " Epoch: 185 Training Loss: 3.972420 Validation Loss: 5.891011 Min Validation Loss 4.766316\n"
          ],
          "name": "stdout"
        },
        {
          "output_type": "stream",
          "text": [
            "100%|██████████| 209/209 [01:30<00:00,  2.31it/s]\n",
            "100%|██████████| 27/27 [00:10<00:00,  2.63it/s]\n",
            "  0%|          | 0/209 [00:00<?, ?it/s]"
          ],
          "name": "stderr"
        },
        {
          "output_type": "stream",
          "text": [
            " Epoch: 186 Training Loss: 3.969604 Validation Loss: 5.907823 Min Validation Loss 4.766316\n"
          ],
          "name": "stdout"
        },
        {
          "output_type": "stream",
          "text": [
            "100%|██████████| 209/209 [01:30<00:00,  2.32it/s]\n",
            "100%|██████████| 27/27 [00:10<00:00,  2.67it/s]"
          ],
          "name": "stderr"
        },
        {
          "output_type": "stream",
          "text": [
            " Epoch: 187 Training Loss: 3.937112 Validation Loss: 5.956106 Min Validation Loss 4.766316\n"
          ],
          "name": "stdout"
        },
        {
          "output_type": "stream",
          "text": [
            "\n"
          ],
          "name": "stderr"
        },
        {
          "output_type": "execute_result",
          "data": {
            "text/plain": [
              "<All keys matched successfully>"
            ]
          },
          "metadata": {
            "tags": []
          },
          "execution_count": 13
        }
      ]
    },
    {
      "cell_type": "markdown",
      "metadata": {
        "id": "NxQTWDu-mOzs",
        "colab_type": "text"
      },
      "source": [
        "### (IMPLEMENTATION) Test the Model\n",
        "\n",
        "Try out your model on the test dataset of dog images.  Use the code cell below to calculate and print the test loss and accuracy.  Ensure that your test accuracy is greater than 10%."
      ]
    },
    {
      "cell_type": "code",
      "metadata": {
        "id": "OPBIEfOimOzt",
        "colab_type": "code",
        "outputId": "d7e152a6-9ce3-4416-e788-588f8e0eee3f",
        "colab": {
          "base_uri": "https://localhost:8080/",
          "height": 102
        }
      },
      "source": [
        "def test(loaders, model, criterion, use_cuda):\n",
        "\n",
        "    # monitor test loss and accuracy\n",
        "    test_loss = 0.\n",
        "    correct = 0.\n",
        "    total = 0.\n",
        "\n",
        "    model.eval()\n",
        "    for batch_idx, (data, target) in enumerate(tqdm(loaders['test'])):\n",
        "        # move to GPU\n",
        "        if use_cuda:\n",
        "            data, target = data.cuda(), target.cuda()\n",
        "        # forward pass: compute predicted outputs by passing inputs to the model\n",
        "        output = model(data)\n",
        "        # calculate the loss\n",
        "        loss = criterion(output, target)\n",
        "        # update average test loss \n",
        "        test_loss = test_loss + ((1 / (batch_idx + 1)) * (loss.data - test_loss))\n",
        "        # convert output probabilities to predicted class\n",
        "        pred = output.data.max(1, keepdim=True)[1]\n",
        "        # compare predictions to true label\n",
        "        correct += np.sum(np.squeeze(pred.eq(target.data.view_as(pred))).cpu().numpy())\n",
        "        total += data.size(0)\n",
        "            \n",
        "    print('Test Loss: {:.6f}\\n'.format(test_loss))\n",
        "\n",
        "    print('\\nTest Accuracy: %2d%% (%2d/%2d)' % (\n",
        "        100. * correct / total, correct, total))\n",
        "\n",
        "# call test function    \n",
        "test(loaders_scratch, model_scratch, criterion_scratch, use_cuda)"
      ],
      "execution_count": 14,
      "outputs": [
        {
          "output_type": "stream",
          "text": [
            "100%|██████████| 27/27 [00:09<00:00,  2.77it/s]"
          ],
          "name": "stderr"
        },
        {
          "output_type": "stream",
          "text": [
            "Test Loss: 4.725527\n",
            "\n",
            "\n",
            "Test Accuracy:  1% (16/836)\n"
          ],
          "name": "stdout"
        },
        {
          "output_type": "stream",
          "text": [
            "\n"
          ],
          "name": "stderr"
        }
      ]
    },
    {
      "cell_type": "markdown",
      "metadata": {
        "id": "LW1tmv7SmOz4",
        "colab_type": "text"
      },
      "source": [
        "---\n",
        "<a id='step4'></a>\n",
        "## Step 4: Create a CNN to Classify Dog Breeds (using Transfer Learning)\n",
        "\n",
        "You will now use transfer learning to create a CNN that can identify dog breed from images.  Your CNN must attain at least 60% accuracy on the test set.\n",
        "\n",
        "### (IMPLEMENTATION) Specify Data Loaders for the Dog Dataset\n",
        "\n",
        "Use the code cell below to write three separate [data loaders](http://pytorch.org/docs/master/data.html#torch.utils.data.DataLoader) for the training, validation, and test datasets of dog images (located at `dogImages/train`, `dogImages/valid`, and `dogImages/test`, respectively). \n",
        "\n",
        "If you like, **you are welcome to use the same data loaders from the previous step**, when you created a CNN from scratch."
      ]
    },
    {
      "cell_type": "code",
      "metadata": {
        "id": "zHv_-meomOz5",
        "colab_type": "code",
        "colab": {}
      },
      "source": [
        "## TODO: Specify data loaders\n"
      ],
      "execution_count": 0,
      "outputs": []
    },
    {
      "cell_type": "markdown",
      "metadata": {
        "id": "J7n5jb0-mOz-",
        "colab_type": "text"
      },
      "source": [
        "### (IMPLEMENTATION) Model Architecture\n",
        "\n",
        "Use transfer learning to create a CNN to classify dog breed.  Use the code cell below, and save your initialized model as the variable `model_transfer`."
      ]
    },
    {
      "cell_type": "code",
      "metadata": {
        "id": "Yhk2Jh0RmOz_",
        "colab_type": "code",
        "colab": {}
      },
      "source": [
        "## TODO: Specify model architecture \n",
        "\n",
        "\n",
        "if use_cuda:\n",
        "    model_transfer = model_transfer.cuda()"
      ],
      "execution_count": 0,
      "outputs": []
    },
    {
      "cell_type": "markdown",
      "metadata": {
        "id": "oRuBpnUZmO0C",
        "colab_type": "text"
      },
      "source": [
        "__Question 5:__ Outline the steps you took to get to your final CNN architecture and your reasoning at each step.  Describe why you think the architecture is suitable for the current problem."
      ]
    },
    {
      "cell_type": "markdown",
      "metadata": {
        "id": "A9JYg-W7mO0D",
        "colab_type": "text"
      },
      "source": [
        "__Answer:__ \n"
      ]
    },
    {
      "cell_type": "markdown",
      "metadata": {
        "id": "vw0GRVdVmO0E",
        "colab_type": "text"
      },
      "source": [
        "### (IMPLEMENTATION) Specify Loss Function and Optimizer\n",
        "\n",
        "Use the next code cell to specify a [loss function](http://pytorch.org/docs/master/nn.html#loss-functions) and [optimizer](http://pytorch.org/docs/master/optim.html).  Save the chosen loss function as `criterion_transfer`, and the optimizer as `optimizer_transfer` below."
      ]
    },
    {
      "cell_type": "code",
      "metadata": {
        "id": "vZM6ylFDmO0E",
        "colab_type": "code",
        "colab": {}
      },
      "source": [
        "criterion_transfer = None\n",
        "optimizer_transfer = None"
      ],
      "execution_count": 0,
      "outputs": []
    },
    {
      "cell_type": "markdown",
      "metadata": {
        "id": "rqbi7G7tmO0I",
        "colab_type": "text"
      },
      "source": [
        "### (IMPLEMENTATION) Train and Validate the Model\n",
        "\n",
        "Train and validate your model in the code cell below.  [Save the final model parameters](http://pytorch.org/docs/master/notes/serialization.html) at filepath `'model_transfer.pt'`."
      ]
    },
    {
      "cell_type": "code",
      "metadata": {
        "id": "Fn8dh-Y6mO0L",
        "colab_type": "code",
        "colab": {}
      },
      "source": [
        "# train the model\n",
        "model_transfer = # train(n_epochs, loaders_transfer, model_transfer, optimizer_transfer, criterion_transfer, use_cuda, 'model_transfer.pt')\n",
        "\n",
        "# load the model that got the best validation accuracy (uncomment the line below)\n",
        "#model_transfer.load_state_dict(torch.load('model_transfer.pt'))"
      ],
      "execution_count": 0,
      "outputs": []
    },
    {
      "cell_type": "markdown",
      "metadata": {
        "id": "KVI3eRI7mO0O",
        "colab_type": "text"
      },
      "source": [
        "### (IMPLEMENTATION) Test the Model\n",
        "\n",
        "Try out your model on the test dataset of dog images. Use the code cell below to calculate and print the test loss and accuracy.  Ensure that your test accuracy is greater than 60%."
      ]
    },
    {
      "cell_type": "code",
      "metadata": {
        "id": "g5MI-QUXmO0P",
        "colab_type": "code",
        "colab": {}
      },
      "source": [
        "test(loaders_transfer, model_transfer, criterion_transfer, use_cuda)"
      ],
      "execution_count": 0,
      "outputs": []
    },
    {
      "cell_type": "markdown",
      "metadata": {
        "id": "kuy10bqPmO0U",
        "colab_type": "text"
      },
      "source": [
        "### (IMPLEMENTATION) Predict Dog Breed with the Model\n",
        "\n",
        "Write a function that takes an image path as input and returns the dog breed (`Affenpinscher`, `Afghan hound`, etc) that is predicted by your model.  "
      ]
    },
    {
      "cell_type": "code",
      "metadata": {
        "id": "u5N_zrGTmO0V",
        "colab_type": "code",
        "colab": {}
      },
      "source": [
        "### TODO: Write a function that takes a path to an image as input\n",
        "### and returns the dog breed that is predicted by the model.\n",
        "\n",
        "# list of class names by index, i.e. a name can be accessed like class_names[0]\n",
        "class_names = [item[4:].replace(\"_\", \" \") for item in data_transfer['train'].classes]\n",
        "\n",
        "def predict_breed_transfer(img_path):\n",
        "    # load the image and return the predicted breed\n",
        "    return None"
      ],
      "execution_count": 0,
      "outputs": []
    },
    {
      "cell_type": "markdown",
      "metadata": {
        "id": "SBgWISXXmO0f",
        "colab_type": "text"
      },
      "source": [
        "---\n",
        "<a id='step5'></a>\n",
        "## Step 5: Write your Algorithm\n",
        "\n",
        "Write an algorithm that accepts a file path to an image and first determines whether the image contains a human, dog, or neither.  Then,\n",
        "- if a __dog__ is detected in the image, return the predicted breed.\n",
        "- if a __human__ is detected in the image, return the resembling dog breed.\n",
        "- if __neither__ is detected in the image, provide output that indicates an error.\n",
        "\n",
        "You are welcome to write your own functions for detecting humans and dogs in images, but feel free to use the `face_detector` and `dog_detector` functions developed above.  You are __required__ to use your CNN from Step 4 to predict dog breed.  \n",
        "\n",
        "Some sample output for our algorithm is provided below, but feel free to design your own user experience!\n",
        "\n",
        "![Sample Human Output](images/sample_human_output.png)\n",
        "\n",
        "\n",
        "### (IMPLEMENTATION) Write your Algorithm"
      ]
    },
    {
      "cell_type": "code",
      "metadata": {
        "id": "63IJg8N7mO0g",
        "colab_type": "code",
        "colab": {}
      },
      "source": [
        "### TODO: Write your algorithm.\n",
        "### Feel free to use as many code cells as needed.\n",
        "\n",
        "def run_app(img_path):\n",
        "    ## handle cases for a human face, dog, and neither\n",
        "    \n"
      ],
      "execution_count": 0,
      "outputs": []
    },
    {
      "cell_type": "markdown",
      "metadata": {
        "id": "bVn9bzkXmO0r",
        "colab_type": "text"
      },
      "source": [
        "---\n",
        "<a id='step6'></a>\n",
        "## Step 6: Test Your Algorithm\n",
        "\n",
        "In this section, you will take your new algorithm for a spin!  What kind of dog does the algorithm think that _you_ look like?  If you have a dog, does it predict your dog's breed accurately?  If you have a cat, does it mistakenly think that your cat is a dog?\n",
        "\n",
        "### (IMPLEMENTATION) Test Your Algorithm on Sample Images!\n",
        "\n",
        "Test your algorithm at least six images on your computer.  Feel free to use any images you like.  Use at least two human and two dog images.  \n",
        "\n",
        "__Question 6:__ Is the output better than you expected :) ?  Or worse :( ?  Provide at least three possible points of improvement for your algorithm."
      ]
    },
    {
      "cell_type": "markdown",
      "metadata": {
        "id": "ndFDVIkkmO0t",
        "colab_type": "text"
      },
      "source": [
        "__Answer:__ (Three possible points for improvement)"
      ]
    },
    {
      "cell_type": "code",
      "metadata": {
        "id": "8C3u3LUAmO0t",
        "colab_type": "code",
        "colab": {}
      },
      "source": [
        "## TODO: Execute your algorithm from Step 6 on\n",
        "## at least 6 images on your computer.\n",
        "## Feel free to use as many code cells as needed.\n",
        "\n",
        "## suggested code, below\n",
        "for file in np.hstack((human_files[:3], dog_files[:3])):\n",
        "    run_app(file)"
      ],
      "execution_count": 0,
      "outputs": []
    }
  ]
}